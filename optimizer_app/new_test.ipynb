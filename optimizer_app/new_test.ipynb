{
 "cells": [
  {
   "cell_type": "code",
   "execution_count": 6,
   "id": "c7d37a73",
   "metadata": {},
   "outputs": [
    {
     "data": {
      "text/html": [
       "<pre style=\"white-space:pre;overflow-x:auto;line-height:normal;font-family:Menlo,'DejaVu Sans Mono',consolas,'Courier New',monospace\"><span style=\"color: #7fbfbf; text-decoration-color: #7fbfbf\">[10/23/25 22:55:35] </span><span style=\"color: #000080; text-decoration-color: #000080\">INFO    </span> Kedro project optimizer_app                                             <a href=\"file:///Users/eoinmolloy/Documents/Documents/FPL-Modelling/optimizer_app/.venv/lib/python3.12/site-packages/kedro/framework/session/session.py\" target=\"_blank\"><span style=\"color: #7f7f7f; text-decoration-color: #7f7f7f\">session.py</span></a><span style=\"color: #7f7f7f; text-decoration-color: #7f7f7f\">:</span><a href=\"file:///Users/eoinmolloy/Documents/Documents/FPL-Modelling/optimizer_app/.venv/lib/python3.12/site-packages/kedro/framework/session/session.py#330\" target=\"_blank\"><span style=\"color: #7f7f7f; text-decoration-color: #7f7f7f\">330</span></a>\n",
       "</pre>\n"
      ],
      "text/plain": [
       "\u001b[2;36m[10/23/25 22:55:35]\u001b[0m\u001b[2;36m \u001b[0m\u001b[34mINFO    \u001b[0m Kedro project optimizer_app                                             \u001b]8;id=63231;file:///Users/eoinmolloy/Documents/Documents/FPL-Modelling/optimizer_app/.venv/lib/python3.12/site-packages/kedro/framework/session/session.py\u001b\\\u001b[2msession.py\u001b[0m\u001b]8;;\u001b\\\u001b[2m:\u001b[0m\u001b]8;id=552147;file:///Users/eoinmolloy/Documents/Documents/FPL-Modelling/optimizer_app/.venv/lib/python3.12/site-packages/kedro/framework/session/session.py#330\u001b\\\u001b[2m330\u001b[0m\u001b]8;;\u001b\\\n"
      ]
     },
     "metadata": {},
     "output_type": "display_data"
    },
    {
     "data": {
      "text/html": [
       "<pre style=\"white-space:pre;overflow-x:auto;line-height:normal;font-family:Menlo,'DejaVu Sans Mono',consolas,'Courier New',monospace\"><span style=\"color: #7fbfbf; text-decoration-color: #7fbfbf\">                    </span><span style=\"color: #000080; text-decoration-color: #000080\">INFO    </span> Kedro is sending anonymous usage data with the sole purpose of improving <a href=\"file:///Users/eoinmolloy/Documents/Documents/FPL-Modelling/optimizer_app/.venv/lib/python3.12/site-packages/kedro_telemetry/plugin.py\" target=\"_blank\"><span style=\"color: #7f7f7f; text-decoration-color: #7f7f7f\">plugin.py</span></a><span style=\"color: #7f7f7f; text-decoration-color: #7f7f7f\">:</span><a href=\"file:///Users/eoinmolloy/Documents/Documents/FPL-Modelling/optimizer_app/.venv/lib/python3.12/site-packages/kedro_telemetry/plugin.py#243\" target=\"_blank\"><span style=\"color: #7f7f7f; text-decoration-color: #7f7f7f\">243</span></a>\n",
       "<span style=\"color: #7fbfbf; text-decoration-color: #7fbfbf\">                    </span>         the product. No personal data or IP addresses are stored on our side. To <span style=\"color: #7f7f7f; text-decoration-color: #7f7f7f\">             </span>\n",
       "<span style=\"color: #7fbfbf; text-decoration-color: #7fbfbf\">                    </span>         opt out, set the `KEDRO_DISABLE_TELEMETRY` or `DO_NOT_TRACK` environment <span style=\"color: #7f7f7f; text-decoration-color: #7f7f7f\">             </span>\n",
       "<span style=\"color: #7fbfbf; text-decoration-color: #7fbfbf\">                    </span>         variables, or create a `.telemetry` file in the current working          <span style=\"color: #7f7f7f; text-decoration-color: #7f7f7f\">             </span>\n",
       "<span style=\"color: #7fbfbf; text-decoration-color: #7fbfbf\">                    </span>         directory with the contents `consent: false`. To hide this message,      <span style=\"color: #7f7f7f; text-decoration-color: #7f7f7f\">             </span>\n",
       "<span style=\"color: #7fbfbf; text-decoration-color: #7fbfbf\">                    </span>         explicitly grant or deny consent. Read more at                           <span style=\"color: #7f7f7f; text-decoration-color: #7f7f7f\">             </span>\n",
       "<span style=\"color: #7fbfbf; text-decoration-color: #7fbfbf\">                    </span>         <span style=\"color: #0000ff; text-decoration-color: #0000ff; text-decoration: underline\">https://docs.kedro.org/en/stable/configuration/telemetry.html</span>            <span style=\"color: #7f7f7f; text-decoration-color: #7f7f7f\">             </span>\n",
       "</pre>\n"
      ],
      "text/plain": [
       "\u001b[2;36m                   \u001b[0m\u001b[2;36m \u001b[0m\u001b[34mINFO    \u001b[0m Kedro is sending anonymous usage data with the sole purpose of improving \u001b]8;id=60014;file:///Users/eoinmolloy/Documents/Documents/FPL-Modelling/optimizer_app/.venv/lib/python3.12/site-packages/kedro_telemetry/plugin.py\u001b\\\u001b[2mplugin.py\u001b[0m\u001b]8;;\u001b\\\u001b[2m:\u001b[0m\u001b]8;id=85764;file:///Users/eoinmolloy/Documents/Documents/FPL-Modelling/optimizer_app/.venv/lib/python3.12/site-packages/kedro_telemetry/plugin.py#243\u001b\\\u001b[2m243\u001b[0m\u001b]8;;\u001b\\\n",
       "\u001b[2;36m                    \u001b[0m         the product. No personal data or IP addresses are stored on our side. To \u001b[2m             \u001b[0m\n",
       "\u001b[2;36m                    \u001b[0m         opt out, set the `KEDRO_DISABLE_TELEMETRY` or `DO_NOT_TRACK` environment \u001b[2m             \u001b[0m\n",
       "\u001b[2;36m                    \u001b[0m         variables, or create a `.telemetry` file in the current working          \u001b[2m             \u001b[0m\n",
       "\u001b[2;36m                    \u001b[0m         directory with the contents `consent: false`. To hide this message,      \u001b[2m             \u001b[0m\n",
       "\u001b[2;36m                    \u001b[0m         explicitly grant or deny consent. Read more at                           \u001b[2m             \u001b[0m\n",
       "\u001b[2;36m                    \u001b[0m         \u001b[4;94mhttps://docs.kedro.org/en/stable/configuration/telemetry.html\u001b[0m            \u001b[2m             \u001b[0m\n"
      ]
     },
     "metadata": {},
     "output_type": "display_data"
    },
    {
     "data": {
      "text/html": [
       "<pre style=\"white-space:pre;overflow-x:auto;line-height:normal;font-family:Menlo,'DejaVu Sans Mono',consolas,'Courier New',monospace\"><span style=\"color: #7fbfbf; text-decoration-color: #7fbfbf\">                    </span><span style=\"color: #808000; text-decoration-color: #808000\">WARNING </span> Workflow tracking is disabled during partial pipeline runs <span style=\"font-weight: bold\">(</span>executed  <a href=\"file:///Users/eoinmolloy/Documents/Documents/FPL-Modelling/optimizer_app/.venv/lib/python3.12/site-packages/kedro_viz/integrations/kedro/run_hooks.py\" target=\"_blank\"><span style=\"color: #7f7f7f; text-decoration-color: #7f7f7f\">run_hooks.py</span></a><span style=\"color: #7f7f7f; text-decoration-color: #7f7f7f\">:</span><a href=\"file:///Users/eoinmolloy/Documents/Documents/FPL-Modelling/optimizer_app/.venv/lib/python3.12/site-packages/kedro_viz/integrations/kedro/run_hooks.py#135\" target=\"_blank\"><span style=\"color: #7f7f7f; text-decoration-color: #7f7f7f\">135</span></a>\n",
       "<span style=\"color: #7fbfbf; text-decoration-color: #7fbfbf\">                    </span>         using --from-nodes, --to-nodes, --tags, --pipeline, and more<span style=\"font-weight: bold\">)</span>.        <span style=\"color: #7f7f7f; text-decoration-color: #7f7f7f\">                </span>\n",
       "<span style=\"color: #7fbfbf; text-decoration-color: #7fbfbf\">                    </span>         `.viz/kedro_pipeline_events.json` will be created only during a full  <span style=\"color: #7f7f7f; text-decoration-color: #7f7f7f\">                </span>\n",
       "<span style=\"color: #7fbfbf; text-decoration-color: #7fbfbf\">                    </span>         kedro run. See issue                                                  <span style=\"color: #7f7f7f; text-decoration-color: #7f7f7f\">                </span>\n",
       "<span style=\"color: #7fbfbf; text-decoration-color: #7fbfbf\">                    </span>         <span style=\"color: #0000ff; text-decoration-color: #0000ff; text-decoration: underline\">https://github.com/kedro-org/kedro-viz/issues/2443</span> for more details.  <span style=\"color: #7f7f7f; text-decoration-color: #7f7f7f\">                </span>\n",
       "</pre>\n"
      ],
      "text/plain": [
       "\u001b[2;36m                   \u001b[0m\u001b[2;36m \u001b[0m\u001b[33mWARNING \u001b[0m Workflow tracking is disabled during partial pipeline runs \u001b[1m(\u001b[0mexecuted  \u001b]8;id=808993;file:///Users/eoinmolloy/Documents/Documents/FPL-Modelling/optimizer_app/.venv/lib/python3.12/site-packages/kedro_viz/integrations/kedro/run_hooks.py\u001b\\\u001b[2mrun_hooks.py\u001b[0m\u001b]8;;\u001b\\\u001b[2m:\u001b[0m\u001b]8;id=890087;file:///Users/eoinmolloy/Documents/Documents/FPL-Modelling/optimizer_app/.venv/lib/python3.12/site-packages/kedro_viz/integrations/kedro/run_hooks.py#135\u001b\\\u001b[2m135\u001b[0m\u001b]8;;\u001b\\\n",
       "\u001b[2;36m                    \u001b[0m         using --from-nodes, --to-nodes, --tags, --pipeline, and more\u001b[1m)\u001b[0m.        \u001b[2m                \u001b[0m\n",
       "\u001b[2;36m                    \u001b[0m         `.viz/kedro_pipeline_events.json` will be created only during a full  \u001b[2m                \u001b[0m\n",
       "\u001b[2;36m                    \u001b[0m         kedro run. See issue                                                  \u001b[2m                \u001b[0m\n",
       "\u001b[2;36m                    \u001b[0m         \u001b[4;94mhttps://github.com/kedro-org/kedro-viz/issues/2443\u001b[0m for more details.  \u001b[2m                \u001b[0m\n"
      ]
     },
     "metadata": {},
     "output_type": "display_data"
    },
    {
     "data": {
      "text/html": [
       "<pre style=\"white-space:pre;overflow-x:auto;line-height:normal;font-family:Menlo,'DejaVu Sans Mono',consolas,'Courier New',monospace\"><span style=\"color: #7fbfbf; text-decoration-color: #7fbfbf\">                    </span><span style=\"color: #000080; text-decoration-color: #000080\">INFO    </span> Using synchronous mode for loading and saving data. Use the    <a href=\"file:///Users/eoinmolloy/Documents/Documents/FPL-Modelling/optimizer_app/.venv/lib/python3.12/site-packages/kedro/runner/sequential_runner.py\" target=\"_blank\"><span style=\"color: #7f7f7f; text-decoration-color: #7f7f7f\">sequential_runner.py</span></a><span style=\"color: #7f7f7f; text-decoration-color: #7f7f7f\">:</span><a href=\"file:///Users/eoinmolloy/Documents/Documents/FPL-Modelling/optimizer_app/.venv/lib/python3.12/site-packages/kedro/runner/sequential_runner.py#59\" target=\"_blank\"><span style=\"color: #7f7f7f; text-decoration-color: #7f7f7f\">59</span></a>\n",
       "<span style=\"color: #7fbfbf; text-decoration-color: #7fbfbf\">                    </span>         --async flag for potential performance gains.                  <span style=\"color: #7f7f7f; text-decoration-color: #7f7f7f\">                       </span>\n",
       "<span style=\"color: #7fbfbf; text-decoration-color: #7fbfbf\">                    </span>         <span style=\"color: #0000ff; text-decoration-color: #0000ff; text-decoration: underline\">https://docs.kedro.org/en/stable/nodes_and_pipelines/run_a_pip</span> <span style=\"color: #7f7f7f; text-decoration-color: #7f7f7f\">                       </span>\n",
       "<span style=\"color: #7fbfbf; text-decoration-color: #7fbfbf\">                    </span>         <span style=\"color: #0000ff; text-decoration-color: #0000ff; text-decoration: underline\">eline.html#load-and-save-asynchronously</span>                        <span style=\"color: #7f7f7f; text-decoration-color: #7f7f7f\">                       </span>\n",
       "</pre>\n"
      ],
      "text/plain": [
       "\u001b[2;36m                   \u001b[0m\u001b[2;36m \u001b[0m\u001b[34mINFO    \u001b[0m Using synchronous mode for loading and saving data. Use the    \u001b]8;id=414783;file:///Users/eoinmolloy/Documents/Documents/FPL-Modelling/optimizer_app/.venv/lib/python3.12/site-packages/kedro/runner/sequential_runner.py\u001b\\\u001b[2msequential_runner.py\u001b[0m\u001b]8;;\u001b\\\u001b[2m:\u001b[0m\u001b]8;id=764101;file:///Users/eoinmolloy/Documents/Documents/FPL-Modelling/optimizer_app/.venv/lib/python3.12/site-packages/kedro/runner/sequential_runner.py#59\u001b\\\u001b[2m59\u001b[0m\u001b]8;;\u001b\\\n",
       "\u001b[2;36m                    \u001b[0m         --async flag for potential performance gains.                  \u001b[2m                       \u001b[0m\n",
       "\u001b[2;36m                    \u001b[0m         \u001b[4;94mhttps://docs.kedro.org/en/stable/nodes_and_pipelines/run_a_pip\u001b[0m \u001b[2m                       \u001b[0m\n",
       "\u001b[2;36m                    \u001b[0m         \u001b[4;94meline.html#load-and-save-asynchronously\u001b[0m                        \u001b[2m                       \u001b[0m\n"
      ]
     },
     "metadata": {},
     "output_type": "display_data"
    },
    {
     "data": {
      "text/html": [
       "<pre style=\"white-space:pre;overflow-x:auto;line-height:normal;font-family:Menlo,'DejaVu Sans Mono',consolas,'Courier New',monospace\"><span style=\"color: #7fbfbf; text-decoration-color: #7fbfbf\">                    </span><span style=\"color: #000080; text-decoration-color: #000080\">INFO    </span> Loading data from <span style=\"color: #ff8700; text-decoration-color: #ff8700\">player_info_at_gameweek</span> <span style=\"font-weight: bold\">(</span>SQLQueryDataset<span style=\"font-weight: bold\">)</span><span style=\"color: #808000; text-decoration-color: #808000\">...</span>    <a href=\"file:///Users/eoinmolloy/Documents/Documents/FPL-Modelling/optimizer_app/.venv/lib/python3.12/site-packages/kedro/io/data_catalog.py\" target=\"_blank\"><span style=\"color: #7f7f7f; text-decoration-color: #7f7f7f\">data_catalog.py</span></a><span style=\"color: #7f7f7f; text-decoration-color: #7f7f7f\">:</span><a href=\"file:///Users/eoinmolloy/Documents/Documents/FPL-Modelling/optimizer_app/.venv/lib/python3.12/site-packages/kedro/io/data_catalog.py#1046\" target=\"_blank\"><span style=\"color: #7f7f7f; text-decoration-color: #7f7f7f\">1046</span></a>\n",
       "</pre>\n"
      ],
      "text/plain": [
       "\u001b[2;36m                   \u001b[0m\u001b[2;36m \u001b[0m\u001b[34mINFO    \u001b[0m Loading data from \u001b[38;5;208mplayer_info_at_gameweek\u001b[0m \u001b[1m(\u001b[0mSQLQueryDataset\u001b[1m)\u001b[0m\u001b[33m...\u001b[0m    \u001b]8;id=121352;file:///Users/eoinmolloy/Documents/Documents/FPL-Modelling/optimizer_app/.venv/lib/python3.12/site-packages/kedro/io/data_catalog.py\u001b\\\u001b[2mdata_catalog.py\u001b[0m\u001b]8;;\u001b\\\u001b[2m:\u001b[0m\u001b]8;id=184548;file:///Users/eoinmolloy/Documents/Documents/FPL-Modelling/optimizer_app/.venv/lib/python3.12/site-packages/kedro/io/data_catalog.py#1046\u001b\\\u001b[2m1046\u001b[0m\u001b]8;;\u001b\\\n"
      ]
     },
     "metadata": {},
     "output_type": "display_data"
    },
    {
     "data": {
      "text/html": [
       "<pre style=\"white-space:pre;overflow-x:auto;line-height:normal;font-family:Menlo,'DejaVu Sans Mono',consolas,'Courier New',monospace\"><span style=\"color: #7fbfbf; text-decoration-color: #7fbfbf\">                    </span><span style=\"color: #000080; text-decoration-color: #000080\">INFO    </span> Loading data from <span style=\"color: #ff8700; text-decoration-color: #ff8700\">params:model_config</span> <span style=\"font-weight: bold\">(</span>MemoryDataset<span style=\"font-weight: bold\">)</span><span style=\"color: #808000; text-decoration-color: #808000\">...</span>          <a href=\"file:///Users/eoinmolloy/Documents/Documents/FPL-Modelling/optimizer_app/.venv/lib/python3.12/site-packages/kedro/io/data_catalog.py\" target=\"_blank\"><span style=\"color: #7f7f7f; text-decoration-color: #7f7f7f\">data_catalog.py</span></a><span style=\"color: #7f7f7f; text-decoration-color: #7f7f7f\">:</span><a href=\"file:///Users/eoinmolloy/Documents/Documents/FPL-Modelling/optimizer_app/.venv/lib/python3.12/site-packages/kedro/io/data_catalog.py#1046\" target=\"_blank\"><span style=\"color: #7f7f7f; text-decoration-color: #7f7f7f\">1046</span></a>\n",
       "</pre>\n"
      ],
      "text/plain": [
       "\u001b[2;36m                   \u001b[0m\u001b[2;36m \u001b[0m\u001b[34mINFO    \u001b[0m Loading data from \u001b[38;5;208mparams:model_config\u001b[0m \u001b[1m(\u001b[0mMemoryDataset\u001b[1m)\u001b[0m\u001b[33m...\u001b[0m          \u001b]8;id=248518;file:///Users/eoinmolloy/Documents/Documents/FPL-Modelling/optimizer_app/.venv/lib/python3.12/site-packages/kedro/io/data_catalog.py\u001b\\\u001b[2mdata_catalog.py\u001b[0m\u001b]8;;\u001b\\\u001b[2m:\u001b[0m\u001b]8;id=786153;file:///Users/eoinmolloy/Documents/Documents/FPL-Modelling/optimizer_app/.venv/lib/python3.12/site-packages/kedro/io/data_catalog.py#1046\u001b\\\u001b[2m1046\u001b[0m\u001b]8;;\u001b\\\n"
      ]
     },
     "metadata": {},
     "output_type": "display_data"
    },
    {
     "data": {
      "text/html": [
       "<pre style=\"white-space:pre;overflow-x:auto;line-height:normal;font-family:Menlo,'DejaVu Sans Mono',consolas,'Courier New',monospace\"><span style=\"color: #7fbfbf; text-decoration-color: #7fbfbf\">[10/23/25 22:55:36] </span><span style=\"color: #000080; text-decoration-color: #000080\">INFO    </span> Loading data from <span style=\"color: #ff8700; text-decoration-color: #ff8700\">params:model_num</span> <span style=\"font-weight: bold\">(</span>MemoryDataset<span style=\"font-weight: bold\">)</span><span style=\"color: #808000; text-decoration-color: #808000\">...</span>             <a href=\"file:///Users/eoinmolloy/Documents/Documents/FPL-Modelling/optimizer_app/.venv/lib/python3.12/site-packages/kedro/io/data_catalog.py\" target=\"_blank\"><span style=\"color: #7f7f7f; text-decoration-color: #7f7f7f\">data_catalog.py</span></a><span style=\"color: #7f7f7f; text-decoration-color: #7f7f7f\">:</span><a href=\"file:///Users/eoinmolloy/Documents/Documents/FPL-Modelling/optimizer_app/.venv/lib/python3.12/site-packages/kedro/io/data_catalog.py#1046\" target=\"_blank\"><span style=\"color: #7f7f7f; text-decoration-color: #7f7f7f\">1046</span></a>\n",
       "</pre>\n"
      ],
      "text/plain": [
       "\u001b[2;36m[10/23/25 22:55:36]\u001b[0m\u001b[2;36m \u001b[0m\u001b[34mINFO    \u001b[0m Loading data from \u001b[38;5;208mparams:model_num\u001b[0m \u001b[1m(\u001b[0mMemoryDataset\u001b[1m)\u001b[0m\u001b[33m...\u001b[0m             \u001b]8;id=911263;file:///Users/eoinmolloy/Documents/Documents/FPL-Modelling/optimizer_app/.venv/lib/python3.12/site-packages/kedro/io/data_catalog.py\u001b\\\u001b[2mdata_catalog.py\u001b[0m\u001b]8;;\u001b\\\u001b[2m:\u001b[0m\u001b]8;id=547439;file:///Users/eoinmolloy/Documents/Documents/FPL-Modelling/optimizer_app/.venv/lib/python3.12/site-packages/kedro/io/data_catalog.py#1046\u001b\\\u001b[2m1046\u001b[0m\u001b]8;;\u001b\\\n"
      ]
     },
     "metadata": {},
     "output_type": "display_data"
    },
    {
     "data": {
      "text/html": [
       "<pre style=\"white-space:pre;overflow-x:auto;line-height:normal;font-family:Menlo,'DejaVu Sans Mono',consolas,'Courier New',monospace\"><span style=\"color: #7fbfbf; text-decoration-color: #7fbfbf\">                    </span><span style=\"color: #000080; text-decoration-color: #000080\">INFO    </span> Running node: points_prediction_pipeline: <span style=\"color: #800080; text-decoration-color: #800080; font-weight: bold\">points_prediction</span><span style=\"font-weight: bold\">()</span> -&gt;           <a href=\"file:///Users/eoinmolloy/Documents/Documents/FPL-Modelling/optimizer_app/.venv/lib/python3.12/site-packages/kedro/pipeline/node.py\" target=\"_blank\"><span style=\"color: #7f7f7f; text-decoration-color: #7f7f7f\">node.py</span></a><span style=\"color: #7f7f7f; text-decoration-color: #7f7f7f\">:</span><a href=\"file:///Users/eoinmolloy/Documents/Documents/FPL-Modelling/optimizer_app/.venv/lib/python3.12/site-packages/kedro/pipeline/node.py#420\" target=\"_blank\"><span style=\"color: #7f7f7f; text-decoration-color: #7f7f7f\">420</span></a>\n",
       "</pre>\n"
      ],
      "text/plain": [
       "\u001b[2;36m                   \u001b[0m\u001b[2;36m \u001b[0m\u001b[34mINFO    \u001b[0m Running node: points_prediction_pipeline: \u001b[1;35mpoints_prediction\u001b[0m\u001b[1m(\u001b[0m\u001b[1m)\u001b[0m ->           \u001b]8;id=339846;file:///Users/eoinmolloy/Documents/Documents/FPL-Modelling/optimizer_app/.venv/lib/python3.12/site-packages/kedro/pipeline/node.py\u001b\\\u001b[2mnode.py\u001b[0m\u001b]8;;\u001b\\\u001b[2m:\u001b[0m\u001b]8;id=860169;file:///Users/eoinmolloy/Documents/Documents/FPL-Modelling/optimizer_app/.venv/lib/python3.12/site-packages/kedro/pipeline/node.py#420\u001b\\\u001b[2m420\u001b[0m\u001b]8;;\u001b\\\n"
      ]
     },
     "metadata": {},
     "output_type": "display_data"
    },
    {
     "data": {
      "text/html": [
       "<pre style=\"white-space:pre;overflow-x:auto;line-height:normal;font-family:Menlo,'DejaVu Sans Mono',consolas,'Courier New',monospace\"><span style=\"color: #7fbfbf; text-decoration-color: #7fbfbf\">                    </span><span style=\"color: #000080; text-decoration-color: #000080\">INFO    </span> Saving data to <span style=\"color: #ff8700; text-decoration-color: #ff8700\">opt_input_df</span> <span style=\"font-weight: bold\">(</span>MemoryDataset<span style=\"font-weight: bold\">)</span><span style=\"color: #808000; text-decoration-color: #808000\">...</span>                    <a href=\"file:///Users/eoinmolloy/Documents/Documents/FPL-Modelling/optimizer_app/.venv/lib/python3.12/site-packages/kedro/io/data_catalog.py\" target=\"_blank\"><span style=\"color: #7f7f7f; text-decoration-color: #7f7f7f\">data_catalog.py</span></a><span style=\"color: #7f7f7f; text-decoration-color: #7f7f7f\">:</span><a href=\"file:///Users/eoinmolloy/Documents/Documents/FPL-Modelling/optimizer_app/.venv/lib/python3.12/site-packages/kedro/io/data_catalog.py#1006\" target=\"_blank\"><span style=\"color: #7f7f7f; text-decoration-color: #7f7f7f\">1006</span></a>\n",
       "</pre>\n"
      ],
      "text/plain": [
       "\u001b[2;36m                   \u001b[0m\u001b[2;36m \u001b[0m\u001b[34mINFO    \u001b[0m Saving data to \u001b[38;5;208mopt_input_df\u001b[0m \u001b[1m(\u001b[0mMemoryDataset\u001b[1m)\u001b[0m\u001b[33m...\u001b[0m                    \u001b]8;id=516197;file:///Users/eoinmolloy/Documents/Documents/FPL-Modelling/optimizer_app/.venv/lib/python3.12/site-packages/kedro/io/data_catalog.py\u001b\\\u001b[2mdata_catalog.py\u001b[0m\u001b]8;;\u001b\\\u001b[2m:\u001b[0m\u001b]8;id=871726;file:///Users/eoinmolloy/Documents/Documents/FPL-Modelling/optimizer_app/.venv/lib/python3.12/site-packages/kedro/io/data_catalog.py#1006\u001b\\\u001b[2m1006\u001b[0m\u001b]8;;\u001b\\\n"
      ]
     },
     "metadata": {},
     "output_type": "display_data"
    },
    {
     "data": {
      "text/html": [
       "<pre style=\"white-space:pre;overflow-x:auto;line-height:normal;font-family:Menlo,'DejaVu Sans Mono',consolas,'Courier New',monospace\"><span style=\"color: #7fbfbf; text-decoration-color: #7fbfbf\">                    </span><span style=\"color: #000080; text-decoration-color: #000080\">INFO    </span> Completed node: points_prediction_pipeline                               <a href=\"file:///Users/eoinmolloy/Documents/Documents/FPL-Modelling/optimizer_app/.venv/lib/python3.12/site-packages/kedro/runner/runner.py\" target=\"_blank\"><span style=\"color: #7f7f7f; text-decoration-color: #7f7f7f\">runner.py</span></a><span style=\"color: #7f7f7f; text-decoration-color: #7f7f7f\">:</span><a href=\"file:///Users/eoinmolloy/Documents/Documents/FPL-Modelling/optimizer_app/.venv/lib/python3.12/site-packages/kedro/runner/runner.py#245\" target=\"_blank\"><span style=\"color: #7f7f7f; text-decoration-color: #7f7f7f\">245</span></a>\n",
       "</pre>\n"
      ],
      "text/plain": [
       "\u001b[2;36m                   \u001b[0m\u001b[2;36m \u001b[0m\u001b[34mINFO    \u001b[0m Completed node: points_prediction_pipeline                               \u001b]8;id=191736;file:///Users/eoinmolloy/Documents/Documents/FPL-Modelling/optimizer_app/.venv/lib/python3.12/site-packages/kedro/runner/runner.py\u001b\\\u001b[2mrunner.py\u001b[0m\u001b]8;;\u001b\\\u001b[2m:\u001b[0m\u001b]8;id=667950;file:///Users/eoinmolloy/Documents/Documents/FPL-Modelling/optimizer_app/.venv/lib/python3.12/site-packages/kedro/runner/runner.py#245\u001b\\\u001b[2m245\u001b[0m\u001b]8;;\u001b\\\n"
      ]
     },
     "metadata": {},
     "output_type": "display_data"
    },
    {
     "data": {
      "text/html": [
       "<pre style=\"white-space:pre;overflow-x:auto;line-height:normal;font-family:Menlo,'DejaVu Sans Mono',consolas,'Courier New',monospace\"><span style=\"color: #7fbfbf; text-decoration-color: #7fbfbf\">                    </span><span style=\"color: #000080; text-decoration-color: #000080\">INFO    </span> Completed <span style=\"color: #008080; text-decoration-color: #008080; font-weight: bold\">1</span> out of <span style=\"color: #008080; text-decoration-color: #008080; font-weight: bold\">2</span> tasks                                               <a href=\"file:///Users/eoinmolloy/Documents/Documents/FPL-Modelling/optimizer_app/.venv/lib/python3.12/site-packages/kedro/runner/runner.py\" target=\"_blank\"><span style=\"color: #7f7f7f; text-decoration-color: #7f7f7f\">runner.py</span></a><span style=\"color: #7f7f7f; text-decoration-color: #7f7f7f\">:</span><a href=\"file:///Users/eoinmolloy/Documents/Documents/FPL-Modelling/optimizer_app/.venv/lib/python3.12/site-packages/kedro/runner/runner.py#246\" target=\"_blank\"><span style=\"color: #7f7f7f; text-decoration-color: #7f7f7f\">246</span></a>\n",
       "</pre>\n"
      ],
      "text/plain": [
       "\u001b[2;36m                   \u001b[0m\u001b[2;36m \u001b[0m\u001b[34mINFO    \u001b[0m Completed \u001b[1;36m1\u001b[0m out of \u001b[1;36m2\u001b[0m tasks                                               \u001b]8;id=618824;file:///Users/eoinmolloy/Documents/Documents/FPL-Modelling/optimizer_app/.venv/lib/python3.12/site-packages/kedro/runner/runner.py\u001b\\\u001b[2mrunner.py\u001b[0m\u001b]8;;\u001b\\\u001b[2m:\u001b[0m\u001b]8;id=47522;file:///Users/eoinmolloy/Documents/Documents/FPL-Modelling/optimizer_app/.venv/lib/python3.12/site-packages/kedro/runner/runner.py#246\u001b\\\u001b[2m246\u001b[0m\u001b]8;;\u001b\\\n"
      ]
     },
     "metadata": {},
     "output_type": "display_data"
    },
    {
     "data": {
      "text/html": [
       "<pre style=\"white-space:pre;overflow-x:auto;line-height:normal;font-family:Menlo,'DejaVu Sans Mono',consolas,'Courier New',monospace\"><span style=\"color: #7fbfbf; text-decoration-color: #7fbfbf\">                    </span><span style=\"color: #000080; text-decoration-color: #000080\">INFO    </span> Loading data from <span style=\"color: #ff8700; text-decoration-color: #ff8700\">opt_input_df</span> <span style=\"font-weight: bold\">(</span>MemoryDataset<span style=\"font-weight: bold\">)</span><span style=\"color: #808000; text-decoration-color: #808000\">...</span>                 <a href=\"file:///Users/eoinmolloy/Documents/Documents/FPL-Modelling/optimizer_app/.venv/lib/python3.12/site-packages/kedro/io/data_catalog.py\" target=\"_blank\"><span style=\"color: #7f7f7f; text-decoration-color: #7f7f7f\">data_catalog.py</span></a><span style=\"color: #7f7f7f; text-decoration-color: #7f7f7f\">:</span><a href=\"file:///Users/eoinmolloy/Documents/Documents/FPL-Modelling/optimizer_app/.venv/lib/python3.12/site-packages/kedro/io/data_catalog.py#1046\" target=\"_blank\"><span style=\"color: #7f7f7f; text-decoration-color: #7f7f7f\">1046</span></a>\n",
       "</pre>\n"
      ],
      "text/plain": [
       "\u001b[2;36m                   \u001b[0m\u001b[2;36m \u001b[0m\u001b[34mINFO    \u001b[0m Loading data from \u001b[38;5;208mopt_input_df\u001b[0m \u001b[1m(\u001b[0mMemoryDataset\u001b[1m)\u001b[0m\u001b[33m...\u001b[0m                 \u001b]8;id=637403;file:///Users/eoinmolloy/Documents/Documents/FPL-Modelling/optimizer_app/.venv/lib/python3.12/site-packages/kedro/io/data_catalog.py\u001b\\\u001b[2mdata_catalog.py\u001b[0m\u001b]8;;\u001b\\\u001b[2m:\u001b[0m\u001b]8;id=573162;file:///Users/eoinmolloy/Documents/Documents/FPL-Modelling/optimizer_app/.venv/lib/python3.12/site-packages/kedro/io/data_catalog.py#1046\u001b\\\u001b[2m1046\u001b[0m\u001b]8;;\u001b\\\n"
      ]
     },
     "metadata": {},
     "output_type": "display_data"
    },
    {
     "data": {
      "text/html": [
       "<pre style=\"white-space:pre;overflow-x:auto;line-height:normal;font-family:Menlo,'DejaVu Sans Mono',consolas,'Courier New',monospace\"><span style=\"color: #7fbfbf; text-decoration-color: #7fbfbf\">                    </span><span style=\"color: #000080; text-decoration-color: #000080\">INFO    </span> Loading data from <span style=\"color: #ff8700; text-decoration-color: #ff8700\">params:objective_col</span> <span style=\"font-weight: bold\">(</span>MemoryDataset<span style=\"font-weight: bold\">)</span><span style=\"color: #808000; text-decoration-color: #808000\">...</span>         <a href=\"file:///Users/eoinmolloy/Documents/Documents/FPL-Modelling/optimizer_app/.venv/lib/python3.12/site-packages/kedro/io/data_catalog.py\" target=\"_blank\"><span style=\"color: #7f7f7f; text-decoration-color: #7f7f7f\">data_catalog.py</span></a><span style=\"color: #7f7f7f; text-decoration-color: #7f7f7f\">:</span><a href=\"file:///Users/eoinmolloy/Documents/Documents/FPL-Modelling/optimizer_app/.venv/lib/python3.12/site-packages/kedro/io/data_catalog.py#1046\" target=\"_blank\"><span style=\"color: #7f7f7f; text-decoration-color: #7f7f7f\">1046</span></a>\n",
       "</pre>\n"
      ],
      "text/plain": [
       "\u001b[2;36m                   \u001b[0m\u001b[2;36m \u001b[0m\u001b[34mINFO    \u001b[0m Loading data from \u001b[38;5;208mparams:objective_col\u001b[0m \u001b[1m(\u001b[0mMemoryDataset\u001b[1m)\u001b[0m\u001b[33m...\u001b[0m         \u001b]8;id=275210;file:///Users/eoinmolloy/Documents/Documents/FPL-Modelling/optimizer_app/.venv/lib/python3.12/site-packages/kedro/io/data_catalog.py\u001b\\\u001b[2mdata_catalog.py\u001b[0m\u001b]8;;\u001b\\\u001b[2m:\u001b[0m\u001b]8;id=730186;file:///Users/eoinmolloy/Documents/Documents/FPL-Modelling/optimizer_app/.venv/lib/python3.12/site-packages/kedro/io/data_catalog.py#1046\u001b\\\u001b[2m1046\u001b[0m\u001b]8;;\u001b\\\n"
      ]
     },
     "metadata": {},
     "output_type": "display_data"
    },
    {
     "data": {
      "text/html": [
       "<pre style=\"white-space:pre;overflow-x:auto;line-height:normal;font-family:Menlo,'DejaVu Sans Mono',consolas,'Courier New',monospace\"><span style=\"color: #7fbfbf; text-decoration-color: #7fbfbf\">                    </span><span style=\"color: #000080; text-decoration-color: #000080\">INFO    </span> Running node: pick_optimal_team_node: <span style=\"color: #800080; text-decoration-color: #800080; font-weight: bold\">pick_optimal_team</span><span style=\"font-weight: bold\">()</span> -&gt;               <a href=\"file:///Users/eoinmolloy/Documents/Documents/FPL-Modelling/optimizer_app/.venv/lib/python3.12/site-packages/kedro/pipeline/node.py\" target=\"_blank\"><span style=\"color: #7f7f7f; text-decoration-color: #7f7f7f\">node.py</span></a><span style=\"color: #7f7f7f; text-decoration-color: #7f7f7f\">:</span><a href=\"file:///Users/eoinmolloy/Documents/Documents/FPL-Modelling/optimizer_app/.venv/lib/python3.12/site-packages/kedro/pipeline/node.py#420\" target=\"_blank\"><span style=\"color: #7f7f7f; text-decoration-color: #7f7f7f\">420</span></a>\n",
       "</pre>\n"
      ],
      "text/plain": [
       "\u001b[2;36m                   \u001b[0m\u001b[2;36m \u001b[0m\u001b[34mINFO    \u001b[0m Running node: pick_optimal_team_node: \u001b[1;35mpick_optimal_team\u001b[0m\u001b[1m(\u001b[0m\u001b[1m)\u001b[0m ->               \u001b]8;id=30173;file:///Users/eoinmolloy/Documents/Documents/FPL-Modelling/optimizer_app/.venv/lib/python3.12/site-packages/kedro/pipeline/node.py\u001b\\\u001b[2mnode.py\u001b[0m\u001b]8;;\u001b\\\u001b[2m:\u001b[0m\u001b]8;id=822012;file:///Users/eoinmolloy/Documents/Documents/FPL-Modelling/optimizer_app/.venv/lib/python3.12/site-packages/kedro/pipeline/node.py#420\u001b\\\u001b[2m420\u001b[0m\u001b]8;;\u001b\\\n"
      ]
     },
     "metadata": {},
     "output_type": "display_data"
    },
    {
     "name": "stdout",
     "output_type": "stream",
     "text": [
      "                  player_name ict_index  transfers_in  selected  \\\n",
      "0                 Declan Rice      10.9        106096   1033670   \n",
      "1          Riccardo Calafiori       3.3        121007   1786011   \n",
      "2    Gabriel Martinelli Silva       1.8         21805    149452   \n",
      "3              Benjamin White       0.0          1842     53910   \n",
      "4              William Saliba       3.0         75755   1526375   \n",
      "..                        ...       ...           ...       ...   \n",
      "378                Jhon Arias       4.7          2395     29264   \n",
      "379        David Møller Wolfe       0.3            73      8172   \n",
      "380           Ladislav Krejcí       4.1          1701      4979   \n",
      "381            Tolu Arokodare       0.0          1267      8460   \n",
      "382        Jackson Tchatchoua       2.0           165      2077   \n",
      "\n",
      "     accumulated_minutes  team_id position_name  next_week_was_home  \\\n",
      "0                    632  Arsenal    Midfielder                   0   \n",
      "1                    614  Arsenal      Defender                   0   \n",
      "2                    190  Arsenal    Midfielder                   0   \n",
      "3                     70  Arsenal      Defender                   0   \n",
      "4                    499  Arsenal      Defender                   0   \n",
      "..                   ...      ...           ...                 ...   \n",
      "378                  433   Wolves    Midfielder                   0   \n",
      "379                  144   Wolves      Defender                   0   \n",
      "380                  450   Wolves      Defender                   0   \n",
      "381                  176   Wolves       Forward                   0   \n",
      "382                  368   Wolves      Defender                   0   \n",
      "\n",
      "    next_week_opponent_team  points_per_game  now_cost  \n",
      "0                    Fulham         2.899651        10  \n",
      "1                    Fulham         3.548050        10  \n",
      "2                    Fulham         3.203635        10  \n",
      "3                    Fulham         0.753790        10  \n",
      "4                    Fulham         3.375025        10  \n",
      "..                      ...              ...       ...  \n",
      "378              Sunderland         2.493243        10  \n",
      "379              Sunderland         1.507381        10  \n",
      "380              Sunderland         2.769077        10  \n",
      "381              Sunderland         0.710470        10  \n",
      "382              Sunderland         2.765755        10  \n",
      "\n",
      "[383 rows x 11 columns]\n",
      "\n",
      "=== OPTIMAL TEAM ===\n",
      "Total Cost: £150M\n",
      "Expected Points: 82.8\n",
      "Formation: 5-3-2\n",
      "Captain: Antoine Semenyo\n",
      "Vice Captain: Marcos Senesi Barón\n",
      "\n",
      "Starters:\n",
      "  Bukayo Saka (Midfielder) - £10M - 4.8 pts\n",
      "  Gabriel dos Santos Magalhães (Defender) - £10M - 5.6 pts\n",
      "  Viktor Gyökeres (Forward) - £10M - 7.0 pts\n",
      "  Marcos Senesi Barón (Defender) (VC) - £10M - 6.6 pts\n",
      "  Antoine Semenyo (Midfielder) (C) - £10M - 10.2 pts\n",
      "  Caoimhín Kelleher (Goalkeeper) - £10M - 3.8 pts\n",
      "  Marc Cucurella Saseta (Defender) - £10M - 6.6 pts\n",
      "  Reece James (Defender) - £10M - 7.5 pts\n",
      "  Moisés Caicedo Corozo (Midfielder) - £10M - 6.4 pts\n",
      "  Marc Guéhi (Defender) - £10M - 6.4 pts\n",
      "  Erling Haaland (Forward) - £10M - 7.9 pts\n",
      "\n",
      "Bench:\n",
      "  Emiliano Martínez Romero (Goalkeeper) - £10M - 2.3 pts\n",
      "  Mathias Jensen (Midfielder) - £10M - 2.2 pts\n",
      "  Charalampos Kostoulas (Forward) - £10M - 0.6 pts\n",
      "  Jérémy Doku (Midfielder) - £10M - 2.2 pts\n"
     ]
    },
    {
     "data": {
      "text/html": [
       "<pre style=\"white-space:pre;overflow-x:auto;line-height:normal;font-family:Menlo,'DejaVu Sans Mono',consolas,'Courier New',monospace\"><span style=\"color: #7fbfbf; text-decoration-color: #7fbfbf\">                    </span><span style=\"color: #000080; text-decoration-color: #000080\">INFO    </span> Saving data to <span style=\"color: #ff8700; text-decoration-color: #ff8700\">optimal_team</span> <span style=\"font-weight: bold\">(</span>MemoryDataset<span style=\"font-weight: bold\">)</span><span style=\"color: #808000; text-decoration-color: #808000\">...</span>                    <a href=\"file:///Users/eoinmolloy/Documents/Documents/FPL-Modelling/optimizer_app/.venv/lib/python3.12/site-packages/kedro/io/data_catalog.py\" target=\"_blank\"><span style=\"color: #7f7f7f; text-decoration-color: #7f7f7f\">data_catalog.py</span></a><span style=\"color: #7f7f7f; text-decoration-color: #7f7f7f\">:</span><a href=\"file:///Users/eoinmolloy/Documents/Documents/FPL-Modelling/optimizer_app/.venv/lib/python3.12/site-packages/kedro/io/data_catalog.py#1006\" target=\"_blank\"><span style=\"color: #7f7f7f; text-decoration-color: #7f7f7f\">1006</span></a>\n",
       "</pre>\n"
      ],
      "text/plain": [
       "\u001b[2;36m                   \u001b[0m\u001b[2;36m \u001b[0m\u001b[34mINFO    \u001b[0m Saving data to \u001b[38;5;208moptimal_team\u001b[0m \u001b[1m(\u001b[0mMemoryDataset\u001b[1m)\u001b[0m\u001b[33m...\u001b[0m                    \u001b]8;id=334045;file:///Users/eoinmolloy/Documents/Documents/FPL-Modelling/optimizer_app/.venv/lib/python3.12/site-packages/kedro/io/data_catalog.py\u001b\\\u001b[2mdata_catalog.py\u001b[0m\u001b]8;;\u001b\\\u001b[2m:\u001b[0m\u001b]8;id=712811;file:///Users/eoinmolloy/Documents/Documents/FPL-Modelling/optimizer_app/.venv/lib/python3.12/site-packages/kedro/io/data_catalog.py#1006\u001b\\\u001b[2m1006\u001b[0m\u001b]8;;\u001b\\\n"
      ]
     },
     "metadata": {},
     "output_type": "display_data"
    },
    {
     "data": {
      "text/html": [
       "<pre style=\"white-space:pre;overflow-x:auto;line-height:normal;font-family:Menlo,'DejaVu Sans Mono',consolas,'Courier New',monospace\"><span style=\"color: #7fbfbf; text-decoration-color: #7fbfbf\">                    </span><span style=\"color: #000080; text-decoration-color: #000080\">INFO    </span> Completed node: pick_optimal_team_node                                   <a href=\"file:///Users/eoinmolloy/Documents/Documents/FPL-Modelling/optimizer_app/.venv/lib/python3.12/site-packages/kedro/runner/runner.py\" target=\"_blank\"><span style=\"color: #7f7f7f; text-decoration-color: #7f7f7f\">runner.py</span></a><span style=\"color: #7f7f7f; text-decoration-color: #7f7f7f\">:</span><a href=\"file:///Users/eoinmolloy/Documents/Documents/FPL-Modelling/optimizer_app/.venv/lib/python3.12/site-packages/kedro/runner/runner.py#245\" target=\"_blank\"><span style=\"color: #7f7f7f; text-decoration-color: #7f7f7f\">245</span></a>\n",
       "</pre>\n"
      ],
      "text/plain": [
       "\u001b[2;36m                   \u001b[0m\u001b[2;36m \u001b[0m\u001b[34mINFO    \u001b[0m Completed node: pick_optimal_team_node                                   \u001b]8;id=709833;file:///Users/eoinmolloy/Documents/Documents/FPL-Modelling/optimizer_app/.venv/lib/python3.12/site-packages/kedro/runner/runner.py\u001b\\\u001b[2mrunner.py\u001b[0m\u001b]8;;\u001b\\\u001b[2m:\u001b[0m\u001b]8;id=508789;file:///Users/eoinmolloy/Documents/Documents/FPL-Modelling/optimizer_app/.venv/lib/python3.12/site-packages/kedro/runner/runner.py#245\u001b\\\u001b[2m245\u001b[0m\u001b]8;;\u001b\\\n"
      ]
     },
     "metadata": {},
     "output_type": "display_data"
    },
    {
     "data": {
      "text/html": [
       "<pre style=\"white-space:pre;overflow-x:auto;line-height:normal;font-family:Menlo,'DejaVu Sans Mono',consolas,'Courier New',monospace\"><span style=\"color: #7fbfbf; text-decoration-color: #7fbfbf\">                    </span><span style=\"color: #000080; text-decoration-color: #000080\">INFO    </span> Completed <span style=\"color: #008080; text-decoration-color: #008080; font-weight: bold\">2</span> out of <span style=\"color: #008080; text-decoration-color: #008080; font-weight: bold\">2</span> tasks                                               <a href=\"file:///Users/eoinmolloy/Documents/Documents/FPL-Modelling/optimizer_app/.venv/lib/python3.12/site-packages/kedro/runner/runner.py\" target=\"_blank\"><span style=\"color: #7f7f7f; text-decoration-color: #7f7f7f\">runner.py</span></a><span style=\"color: #7f7f7f; text-decoration-color: #7f7f7f\">:</span><a href=\"file:///Users/eoinmolloy/Documents/Documents/FPL-Modelling/optimizer_app/.venv/lib/python3.12/site-packages/kedro/runner/runner.py#246\" target=\"_blank\"><span style=\"color: #7f7f7f; text-decoration-color: #7f7f7f\">246</span></a>\n",
       "</pre>\n"
      ],
      "text/plain": [
       "\u001b[2;36m                   \u001b[0m\u001b[2;36m \u001b[0m\u001b[34mINFO    \u001b[0m Completed \u001b[1;36m2\u001b[0m out of \u001b[1;36m2\u001b[0m tasks                                               \u001b]8;id=10720;file:///Users/eoinmolloy/Documents/Documents/FPL-Modelling/optimizer_app/.venv/lib/python3.12/site-packages/kedro/runner/runner.py\u001b\\\u001b[2mrunner.py\u001b[0m\u001b]8;;\u001b\\\u001b[2m:\u001b[0m\u001b]8;id=724066;file:///Users/eoinmolloy/Documents/Documents/FPL-Modelling/optimizer_app/.venv/lib/python3.12/site-packages/kedro/runner/runner.py#246\u001b\\\u001b[2m246\u001b[0m\u001b]8;;\u001b\\\n"
      ]
     },
     "metadata": {},
     "output_type": "display_data"
    },
    {
     "data": {
      "text/html": [
       "<pre style=\"white-space:pre;overflow-x:auto;line-height:normal;font-family:Menlo,'DejaVu Sans Mono',consolas,'Courier New',monospace\"><span style=\"color: #7fbfbf; text-decoration-color: #7fbfbf\">                    </span><span style=\"color: #000080; text-decoration-color: #000080\">INFO    </span> Pipeline execution completed successfully in <span style=\"color: #008080; text-decoration-color: #008080; font-weight: bold\">0.3</span> sec.                    <a href=\"file:///Users/eoinmolloy/Documents/Documents/FPL-Modelling/optimizer_app/.venv/lib/python3.12/site-packages/kedro/runner/runner.py\" target=\"_blank\"><span style=\"color: #7f7f7f; text-decoration-color: #7f7f7f\">runner.py</span></a><span style=\"color: #7f7f7f; text-decoration-color: #7f7f7f\">:</span><a href=\"file:///Users/eoinmolloy/Documents/Documents/FPL-Modelling/optimizer_app/.venv/lib/python3.12/site-packages/kedro/runner/runner.py#119\" target=\"_blank\"><span style=\"color: #7f7f7f; text-decoration-color: #7f7f7f\">119</span></a>\n",
       "</pre>\n"
      ],
      "text/plain": [
       "\u001b[2;36m                   \u001b[0m\u001b[2;36m \u001b[0m\u001b[34mINFO    \u001b[0m Pipeline execution completed successfully in \u001b[1;36m0.3\u001b[0m sec.                    \u001b]8;id=479762;file:///Users/eoinmolloy/Documents/Documents/FPL-Modelling/optimizer_app/.venv/lib/python3.12/site-packages/kedro/runner/runner.py\u001b\\\u001b[2mrunner.py\u001b[0m\u001b]8;;\u001b\\\u001b[2m:\u001b[0m\u001b]8;id=701011;file:///Users/eoinmolloy/Documents/Documents/FPL-Modelling/optimizer_app/.venv/lib/python3.12/site-packages/kedro/runner/runner.py#119\u001b\\\u001b[2m119\u001b[0m\u001b]8;;\u001b\\\n"
      ]
     },
     "metadata": {},
     "output_type": "display_data"
    },
    {
     "data": {
      "text/html": [
       "<pre style=\"white-space:pre;overflow-x:auto;line-height:normal;font-family:Menlo,'DejaVu Sans Mono',consolas,'Courier New',monospace\"><span style=\"color: #7fbfbf; text-decoration-color: #7fbfbf\">                    </span><span style=\"color: #808000; text-decoration-color: #808000\">WARNING </span> Could not find a Kedro project to create stats file                        <a href=\"file:///Users/eoinmolloy/Documents/Documents/FPL-Modelling/optimizer_app/.venv/lib/python3.12/site-packages/kedro_viz/integrations/kedro/hooks.py\" target=\"_blank\"><span style=\"color: #7f7f7f; text-decoration-color: #7f7f7f\">hooks.py</span></a><span style=\"color: #7f7f7f; text-decoration-color: #7f7f7f\">:</span><a href=\"file:///Users/eoinmolloy/Documents/Documents/FPL-Modelling/optimizer_app/.venv/lib/python3.12/site-packages/kedro_viz/integrations/kedro/hooks.py#75\" target=\"_blank\"><span style=\"color: #7f7f7f; text-decoration-color: #7f7f7f\">75</span></a>\n",
       "</pre>\n"
      ],
      "text/plain": [
       "\u001b[2;36m                   \u001b[0m\u001b[2;36m \u001b[0m\u001b[33mWARNING \u001b[0m Could not find a Kedro project to create stats file                        \u001b]8;id=361634;file:///Users/eoinmolloy/Documents/Documents/FPL-Modelling/optimizer_app/.venv/lib/python3.12/site-packages/kedro_viz/integrations/kedro/hooks.py\u001b\\\u001b[2mhooks.py\u001b[0m\u001b]8;;\u001b\\\u001b[2m:\u001b[0m\u001b]8;id=202645;file:///Users/eoinmolloy/Documents/Documents/FPL-Modelling/optimizer_app/.venv/lib/python3.12/site-packages/kedro_viz/integrations/kedro/hooks.py#75\u001b\\\u001b[2m75\u001b[0m\u001b]8;;\u001b\\\n"
      ]
     },
     "metadata": {},
     "output_type": "display_data"
    }
   ],
   "source": [
    "from fpl_modelling.__main__ import run_pipeline_programmatically\n",
    "\n",
    "# run_pipeline_programmatically(\"update_tables\")\n",
    "\n",
    "res = run_pipeline_programmatically(pipeline_name=\"gameweek_prediction\", params={\"current_gameweek\": 8, \"model_num\": 4})['optimal_team'].load()"
   ]
  },
  {
   "cell_type": "code",
   "execution_count": 9,
   "id": "c44d905e",
   "metadata": {},
   "outputs": [
    {
     "data": {
      "text/html": [
       "<pre style=\"white-space:pre;overflow-x:auto;line-height:normal;font-family:Menlo,'DejaVu Sans Mono',consolas,'Courier New',monospace\"></pre>\n"
      ],
      "text/plain": []
     },
     "metadata": {},
     "output_type": "display_data"
    },
    {
     "data": {
      "text/plain": [
       "\n",
       "\u001b[1m{\u001b[0m\n",
       "    \u001b[32m'squad'\u001b[0m: \u001b[1m[\u001b[0m\n",
       "        \u001b[32m'Bukayo Saka'\u001b[0m,\n",
       "        \u001b[32m'Gabriel dos Santos Magalhães'\u001b[0m,\n",
       "        \u001b[32m'Viktor Gyökeres'\u001b[0m,\n",
       "        \u001b[32m'Emiliano Martínez Romero'\u001b[0m,\n",
       "        \u001b[32m'Marcos Senesi Barón'\u001b[0m,\n",
       "        \u001b[32m'Antoine Semenyo'\u001b[0m,\n",
       "        \u001b[32m'Caoimhín Kelleher'\u001b[0m,\n",
       "        \u001b[32m'Mathias Jensen'\u001b[0m,\n",
       "        \u001b[32m'Charalampos Kostoulas'\u001b[0m,\n",
       "        \u001b[32m'Marc Cucurella Saseta'\u001b[0m,\n",
       "        \u001b[32m'Reece James'\u001b[0m,\n",
       "        \u001b[32m'Moisés Caicedo Corozo'\u001b[0m,\n",
       "        \u001b[32m'Marc Guéhi'\u001b[0m,\n",
       "        \u001b[32m'Jérémy Doku'\u001b[0m,\n",
       "        \u001b[32m'Erling Haaland'\u001b[0m\n",
       "    \u001b[1m]\u001b[0m,\n",
       "    \u001b[32m'starters'\u001b[0m: \u001b[1m[\u001b[0m\n",
       "        \u001b[32m'Bukayo Saka'\u001b[0m,\n",
       "        \u001b[32m'Gabriel dos Santos Magalhães'\u001b[0m,\n",
       "        \u001b[32m'Viktor Gyökeres'\u001b[0m,\n",
       "        \u001b[32m'Marcos Senesi Barón'\u001b[0m,\n",
       "        \u001b[32m'Antoine Semenyo'\u001b[0m,\n",
       "        \u001b[32m'Caoimhín Kelleher'\u001b[0m,\n",
       "        \u001b[32m'Marc Cucurella Saseta'\u001b[0m,\n",
       "        \u001b[32m'Reece James'\u001b[0m,\n",
       "        \u001b[32m'Moisés Caicedo Corozo'\u001b[0m,\n",
       "        \u001b[32m'Marc Guéhi'\u001b[0m,\n",
       "        \u001b[32m'Erling Haaland'\u001b[0m\n",
       "    \u001b[1m]\u001b[0m,\n",
       "    \u001b[32m'bench'\u001b[0m: \u001b[1m[\u001b[0m\u001b[32m'Emiliano Martínez Romero'\u001b[0m, \u001b[32m'Mathias Jensen'\u001b[0m, \u001b[32m'Charalampos Kostoulas'\u001b[0m, \u001b[32m'Jérémy Doku'\u001b[0m\u001b[1m]\u001b[0m,\n",
       "    \u001b[32m'captain'\u001b[0m: \u001b[32m'Antoine Semenyo'\u001b[0m,\n",
       "    \u001b[32m'vice_captain'\u001b[0m: \u001b[32m'Marcos Senesi Barón'\u001b[0m,\n",
       "    \u001b[32m'formation'\u001b[0m: \u001b[32m'5-3-2'\u001b[0m,\n",
       "    \u001b[32m'total_cost'\u001b[0m: \u001b[1;36m150\u001b[0m,\n",
       "    \u001b[32m'expected_points'\u001b[0m: \u001b[1;36m82.82643938064575\u001b[0m,\n",
       "    \u001b[32m'squad_ranking'\u001b[0m:                       player_name  points_per_game position_name  \\\n",
       "\u001b[1;36m69\u001b[0m                Antoine Semenyo        \u001b[1;36m10.165352\u001b[0m    Midfielder   \n",
       "\u001b[1;36m240\u001b[0m                Erling Haaland         \u001b[1;36m7.853071\u001b[0m       Forward   \n",
       "\u001b[1;36m118\u001b[0m                   Reece James         \u001b[1;36m7.459445\u001b[0m      Defender   \n",
       "\u001b[1;36m13\u001b[0m                Viktor Gyökeres         \u001b[1;36m7.048248\u001b[0m       Forward   \n",
       "\u001b[1;36m62\u001b[0m            Marcos Senesi Barón         \u001b[1;36m6.613905\u001b[0m      Defender   \n",
       "\u001b[1;36m114\u001b[0m         Marc Cucurella Saseta         \u001b[1;36m6.551587\u001b[0m      Defender   \n",
       "\u001b[1;36m124\u001b[0m         Moisés Caicedo Corozo         \u001b[1;36m6.367934\u001b[0m    Midfielder   \n",
       "\u001b[1;36m133\u001b[0m                    Marc Guéhi         \u001b[1;36m6.355600\u001b[0m      Defender   \n",
       "\u001b[1;36m10\u001b[0m   Gabriel dos Santos Magalhães         \u001b[1;36m5.612228\u001b[0m      Defender   \n",
       "\u001b[1;36m6\u001b[0m                     Bukayo Saka         \u001b[1;36m4.801720\u001b[0m    Midfielder   \n",
       "\u001b[1;36m75\u001b[0m              Caoimhín Kelleher         \u001b[1;36m3.831997\u001b[0m    Goalkeeper   \n",
       "\u001b[1;36m18\u001b[0m       Emiliano Martínez Romero         \u001b[1;36m2.314750\u001b[0m    Goalkeeper   \n",
       "\u001b[1;36m234\u001b[0m                   Jérémy Doku         \u001b[1;36m2.178578\u001b[0m    Midfielder   \n",
       "\u001b[1;36m91\u001b[0m                 Mathias Jensen         \u001b[1;36m2.176031\u001b[0m    Midfielder   \n",
       "\u001b[1;36m113\u001b[0m         Charalampos Kostoulas         \u001b[1;36m0.555341\u001b[0m       Forward   \n",
       "\n",
       "            team_id  rank  \n",
       "\u001b[1;36m69\u001b[0m      Bournemouth     \u001b[1;36m1\u001b[0m  \n",
       "\u001b[1;36m240\u001b[0m        Man City     \u001b[1;36m2\u001b[0m  \n",
       "\u001b[1;36m118\u001b[0m         Chelsea     \u001b[1;36m3\u001b[0m  \n",
       "\u001b[1;36m13\u001b[0m          Arsenal     \u001b[1;36m4\u001b[0m  \n",
       "\u001b[1;36m62\u001b[0m      Bournemouth     \u001b[1;36m5\u001b[0m  \n",
       "\u001b[1;36m114\u001b[0m         Chelsea     \u001b[1;36m6\u001b[0m  \n",
       "\u001b[1;36m124\u001b[0m         Chelsea     \u001b[1;36m7\u001b[0m  \n",
       "\u001b[1;36m133\u001b[0m  Crystal Palace     \u001b[1;36m8\u001b[0m  \n",
       "\u001b[1;36m10\u001b[0m          Arsenal     \u001b[1;36m9\u001b[0m  \n",
       "\u001b[1;36m6\u001b[0m           Arsenal    \u001b[1;36m10\u001b[0m  \n",
       "\u001b[1;36m75\u001b[0m        Brentford    \u001b[1;36m11\u001b[0m  \n",
       "\u001b[1;36m18\u001b[0m      Aston Villa    \u001b[1;36m12\u001b[0m  \n",
       "\u001b[1;36m234\u001b[0m        Man City    \u001b[1;36m13\u001b[0m  \n",
       "\u001b[1;36m91\u001b[0m        Brentford    \u001b[1;36m14\u001b[0m  \n",
       "\u001b[1;36m113\u001b[0m        Brighton    \u001b[1;36m15\u001b[0m  \n",
       "\u001b[1m}\u001b[0m"
      ]
     },
     "execution_count": 9,
     "metadata": {},
     "output_type": "execute_result"
    }
   ],
   "source": [
    "res"
   ]
  },
  {
   "cell_type": "code",
   "execution_count": null,
   "id": "46aacda0",
   "metadata": {},
   "outputs": [],
   "source": []
  }
 ],
 "metadata": {
  "kernelspec": {
   "display_name": "optimizer_app",
   "language": "python",
   "name": "python3"
  },
  "language_info": {
   "codemirror_mode": {
    "name": "ipython",
    "version": 3
   },
   "file_extension": ".py",
   "mimetype": "text/x-python",
   "name": "python",
   "nbconvert_exporter": "python",
   "pygments_lexer": "ipython3",
   "version": "3.12.11"
  }
 },
 "nbformat": 4,
 "nbformat_minor": 5
}
