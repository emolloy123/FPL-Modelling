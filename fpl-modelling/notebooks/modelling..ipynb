{
 "cells": [
  {
   "cell_type": "markdown",
   "id": "d849b0c5",
   "metadata": {},
   "source": [
    "# Load Kedro"
   ]
  },
  {
   "cell_type": "code",
   "execution_count": 183,
   "id": "f8491ee3",
   "metadata": {},
   "outputs": [
    {
     "data": {
      "text/html": [
       "<pre style=\"white-space:pre;overflow-x:auto;line-height:normal;font-family:Menlo,'DejaVu Sans Mono',consolas,'Courier New',monospace\"><span style=\"color: #7fbfbf; text-decoration-color: #7fbfbf\">[10/13/25 22:25:50] </span><span style=\"color: #000080; text-decoration-color: #000080\">INFO    </span> Registered line magic <span style=\"color: #008000; text-decoration-color: #008000\">'%reload_kedro'</span>                                   <a href=\"file:///Users/eoinmolloy/Documents/Documents/FPL-Modelling/.venv/lib/python3.12/site-packages/kedro/ipython/__init__.py\" target=\"_blank\"><span style=\"color: #7f7f7f; text-decoration-color: #7f7f7f\">__init__.py</span></a><span style=\"color: #7f7f7f; text-decoration-color: #7f7f7f\">:</span><a href=\"file:///Users/eoinmolloy/Documents/Documents/FPL-Modelling/.venv/lib/python3.12/site-packages/kedro/ipython/__init__.py#63\" target=\"_blank\"><span style=\"color: #7f7f7f; text-decoration-color: #7f7f7f\">63</span></a>\n",
       "</pre>\n"
      ],
      "text/plain": [
       "\u001b[2;36m[10/13/25 22:25:50]\u001b[0m\u001b[2;36m \u001b[0m\u001b[34mINFO    \u001b[0m Registered line magic \u001b[32m'%reload_kedro'\u001b[0m                                   \u001b]8;id=576220;file:///Users/eoinmolloy/Documents/Documents/FPL-Modelling/.venv/lib/python3.12/site-packages/kedro/ipython/__init__.py\u001b\\\u001b[2m__init__.py\u001b[0m\u001b]8;;\u001b\\\u001b[2m:\u001b[0m\u001b]8;id=153171;file:///Users/eoinmolloy/Documents/Documents/FPL-Modelling/.venv/lib/python3.12/site-packages/kedro/ipython/__init__.py#63\u001b\\\u001b[2m63\u001b[0m\u001b]8;;\u001b\\\n"
      ]
     },
     "metadata": {},
     "output_type": "display_data"
    },
    {
     "data": {
      "text/html": [
       "<pre style=\"white-space:pre;overflow-x:auto;line-height:normal;font-family:Menlo,'DejaVu Sans Mono',consolas,'Courier New',monospace\"><span style=\"color: #7fbfbf; text-decoration-color: #7fbfbf\">                    </span><span style=\"color: #000080; text-decoration-color: #000080\">INFO    </span> Registered line magic <span style=\"color: #008000; text-decoration-color: #008000\">'%load_node'</span>                                      <a href=\"file:///Users/eoinmolloy/Documents/Documents/FPL-Modelling/.venv/lib/python3.12/site-packages/kedro/ipython/__init__.py\" target=\"_blank\"><span style=\"color: #7f7f7f; text-decoration-color: #7f7f7f\">__init__.py</span></a><span style=\"color: #7f7f7f; text-decoration-color: #7f7f7f\">:</span><a href=\"file:///Users/eoinmolloy/Documents/Documents/FPL-Modelling/.venv/lib/python3.12/site-packages/kedro/ipython/__init__.py#65\" target=\"_blank\"><span style=\"color: #7f7f7f; text-decoration-color: #7f7f7f\">65</span></a>\n",
       "</pre>\n"
      ],
      "text/plain": [
       "\u001b[2;36m                   \u001b[0m\u001b[2;36m \u001b[0m\u001b[34mINFO    \u001b[0m Registered line magic \u001b[32m'%load_node'\u001b[0m                                      \u001b]8;id=329492;file:///Users/eoinmolloy/Documents/Documents/FPL-Modelling/.venv/lib/python3.12/site-packages/kedro/ipython/__init__.py\u001b\\\u001b[2m__init__.py\u001b[0m\u001b]8;;\u001b\\\u001b[2m:\u001b[0m\u001b]8;id=526435;file:///Users/eoinmolloy/Documents/Documents/FPL-Modelling/.venv/lib/python3.12/site-packages/kedro/ipython/__init__.py#65\u001b\\\u001b[2m65\u001b[0m\u001b]8;;\u001b\\\n"
      ]
     },
     "metadata": {},
     "output_type": "display_data"
    },
    {
     "data": {
      "text/html": [
       "<pre style=\"white-space:pre;overflow-x:auto;line-height:normal;font-family:Menlo,'DejaVu Sans Mono',consolas,'Courier New',monospace\"><span style=\"color: #7fbfbf; text-decoration-color: #7fbfbf\">                    </span><span style=\"color: #000080; text-decoration-color: #000080\">INFO    </span> Resolved project path as:                                              <a href=\"file:///Users/eoinmolloy/Documents/Documents/FPL-Modelling/.venv/lib/python3.12/site-packages/kedro/ipython/__init__.py\" target=\"_blank\"><span style=\"color: #7f7f7f; text-decoration-color: #7f7f7f\">__init__.py</span></a><span style=\"color: #7f7f7f; text-decoration-color: #7f7f7f\">:</span><a href=\"file:///Users/eoinmolloy/Documents/Documents/FPL-Modelling/.venv/lib/python3.12/site-packages/kedro/ipython/__init__.py#180\" target=\"_blank\"><span style=\"color: #7f7f7f; text-decoration-color: #7f7f7f\">180</span></a>\n",
       "<span style=\"color: #7fbfbf; text-decoration-color: #7fbfbf\">                    </span>         <span style=\"color: #800080; text-decoration-color: #800080\">/Users/eoinmolloy/Documents/Documents/FPL-Modelling/</span><span style=\"color: #ff00ff; text-decoration-color: #ff00ff\">fpl-modelling.</span>     <span style=\"color: #7f7f7f; text-decoration-color: #7f7f7f\">               </span>\n",
       "<span style=\"color: #7fbfbf; text-decoration-color: #7fbfbf\">                    </span>         To set a different path, run <span style=\"color: #008000; text-decoration-color: #008000\">'%reload_kedro &lt;project_root&gt;'</span>            <span style=\"color: #7f7f7f; text-decoration-color: #7f7f7f\">               </span>\n",
       "</pre>\n"
      ],
      "text/plain": [
       "\u001b[2;36m                   \u001b[0m\u001b[2;36m \u001b[0m\u001b[34mINFO    \u001b[0m Resolved project path as:                                              \u001b]8;id=80831;file:///Users/eoinmolloy/Documents/Documents/FPL-Modelling/.venv/lib/python3.12/site-packages/kedro/ipython/__init__.py\u001b\\\u001b[2m__init__.py\u001b[0m\u001b]8;;\u001b\\\u001b[2m:\u001b[0m\u001b]8;id=110042;file:///Users/eoinmolloy/Documents/Documents/FPL-Modelling/.venv/lib/python3.12/site-packages/kedro/ipython/__init__.py#180\u001b\\\u001b[2m180\u001b[0m\u001b]8;;\u001b\\\n",
       "\u001b[2;36m                    \u001b[0m         \u001b[35m/Users/eoinmolloy/Documents/Documents/FPL-Modelling/\u001b[0m\u001b[95mfpl-modelling.\u001b[0m     \u001b[2m               \u001b[0m\n",
       "\u001b[2;36m                    \u001b[0m         To set a different path, run \u001b[32m'%reload_kedro \u001b[0m\u001b[32m<\u001b[0m\u001b[32mproject_root\u001b[0m\u001b[32m>\u001b[0m\u001b[32m'\u001b[0m            \u001b[2m               \u001b[0m\n"
      ]
     },
     "metadata": {},
     "output_type": "display_data"
    },
    {
     "data": {
      "text/html": [
       "<pre style=\"white-space:pre;overflow-x:auto;line-height:normal;font-family:Menlo,'DejaVu Sans Mono',consolas,'Courier New',monospace\"><span style=\"color: #7fbfbf; text-decoration-color: #7fbfbf\">                    </span><span style=\"color: #000080; text-decoration-color: #000080\">INFO    </span> Kedro is sending anonymous usage data with the sole purpose of improving <a href=\"file:///Users/eoinmolloy/Documents/Documents/FPL-Modelling/.venv/lib/python3.12/site-packages/kedro_telemetry/plugin.py\" target=\"_blank\"><span style=\"color: #7f7f7f; text-decoration-color: #7f7f7f\">plugin.py</span></a><span style=\"color: #7f7f7f; text-decoration-color: #7f7f7f\">:</span><a href=\"file:///Users/eoinmolloy/Documents/Documents/FPL-Modelling/.venv/lib/python3.12/site-packages/kedro_telemetry/plugin.py#243\" target=\"_blank\"><span style=\"color: #7f7f7f; text-decoration-color: #7f7f7f\">243</span></a>\n",
       "<span style=\"color: #7fbfbf; text-decoration-color: #7fbfbf\">                    </span>         the product. No personal data or IP addresses are stored on our side. To <span style=\"color: #7f7f7f; text-decoration-color: #7f7f7f\">             </span>\n",
       "<span style=\"color: #7fbfbf; text-decoration-color: #7fbfbf\">                    </span>         opt out, set the `KEDRO_DISABLE_TELEMETRY` or `DO_NOT_TRACK` environment <span style=\"color: #7f7f7f; text-decoration-color: #7f7f7f\">             </span>\n",
       "<span style=\"color: #7fbfbf; text-decoration-color: #7fbfbf\">                    </span>         variables, or create a `.telemetry` file in the current working          <span style=\"color: #7f7f7f; text-decoration-color: #7f7f7f\">             </span>\n",
       "<span style=\"color: #7fbfbf; text-decoration-color: #7fbfbf\">                    </span>         directory with the contents `consent: false`. To hide this message,      <span style=\"color: #7f7f7f; text-decoration-color: #7f7f7f\">             </span>\n",
       "<span style=\"color: #7fbfbf; text-decoration-color: #7fbfbf\">                    </span>         explicitly grant or deny consent. Read more at                           <span style=\"color: #7f7f7f; text-decoration-color: #7f7f7f\">             </span>\n",
       "<span style=\"color: #7fbfbf; text-decoration-color: #7fbfbf\">                    </span>         <span style=\"color: #0000ff; text-decoration-color: #0000ff; text-decoration: underline\">https://docs.kedro.org/en/stable/configuration/telemetry.html</span>            <span style=\"color: #7f7f7f; text-decoration-color: #7f7f7f\">             </span>\n",
       "</pre>\n"
      ],
      "text/plain": [
       "\u001b[2;36m                   \u001b[0m\u001b[2;36m \u001b[0m\u001b[34mINFO    \u001b[0m Kedro is sending anonymous usage data with the sole purpose of improving \u001b]8;id=359491;file:///Users/eoinmolloy/Documents/Documents/FPL-Modelling/.venv/lib/python3.12/site-packages/kedro_telemetry/plugin.py\u001b\\\u001b[2mplugin.py\u001b[0m\u001b]8;;\u001b\\\u001b[2m:\u001b[0m\u001b]8;id=333901;file:///Users/eoinmolloy/Documents/Documents/FPL-Modelling/.venv/lib/python3.12/site-packages/kedro_telemetry/plugin.py#243\u001b\\\u001b[2m243\u001b[0m\u001b]8;;\u001b\\\n",
       "\u001b[2;36m                    \u001b[0m         the product. No personal data or IP addresses are stored on our side. To \u001b[2m             \u001b[0m\n",
       "\u001b[2;36m                    \u001b[0m         opt out, set the `KEDRO_DISABLE_TELEMETRY` or `DO_NOT_TRACK` environment \u001b[2m             \u001b[0m\n",
       "\u001b[2;36m                    \u001b[0m         variables, or create a `.telemetry` file in the current working          \u001b[2m             \u001b[0m\n",
       "\u001b[2;36m                    \u001b[0m         directory with the contents `consent: false`. To hide this message,      \u001b[2m             \u001b[0m\n",
       "\u001b[2;36m                    \u001b[0m         explicitly grant or deny consent. Read more at                           \u001b[2m             \u001b[0m\n",
       "\u001b[2;36m                    \u001b[0m         \u001b[4;94mhttps://docs.kedro.org/en/stable/configuration/telemetry.html\u001b[0m            \u001b[2m             \u001b[0m\n"
      ]
     },
     "metadata": {},
     "output_type": "display_data"
    },
    {
     "data": {
      "text/html": [
       "<pre style=\"white-space:pre;overflow-x:auto;line-height:normal;font-family:Menlo,'DejaVu Sans Mono',consolas,'Courier New',monospace\"><span style=\"color: #7fbfbf; text-decoration-color: #7fbfbf\">[10/13/25 22:25:51] </span><span style=\"color: #000080; text-decoration-color: #000080\">INFO    </span> Kedro project fpl_modelling                                            <a href=\"file:///Users/eoinmolloy/Documents/Documents/FPL-Modelling/.venv/lib/python3.12/site-packages/kedro/ipython/__init__.py\" target=\"_blank\"><span style=\"color: #7f7f7f; text-decoration-color: #7f7f7f\">__init__.py</span></a><span style=\"color: #7f7f7f; text-decoration-color: #7f7f7f\">:</span><a href=\"file:///Users/eoinmolloy/Documents/Documents/FPL-Modelling/.venv/lib/python3.12/site-packages/kedro/ipython/__init__.py#146\" target=\"_blank\"><span style=\"color: #7f7f7f; text-decoration-color: #7f7f7f\">146</span></a>\n",
       "</pre>\n"
      ],
      "text/plain": [
       "\u001b[2;36m[10/13/25 22:25:51]\u001b[0m\u001b[2;36m \u001b[0m\u001b[34mINFO    \u001b[0m Kedro project fpl_modelling                                            \u001b]8;id=667358;file:///Users/eoinmolloy/Documents/Documents/FPL-Modelling/.venv/lib/python3.12/site-packages/kedro/ipython/__init__.py\u001b\\\u001b[2m__init__.py\u001b[0m\u001b]8;;\u001b\\\u001b[2m:\u001b[0m\u001b]8;id=64587;file:///Users/eoinmolloy/Documents/Documents/FPL-Modelling/.venv/lib/python3.12/site-packages/kedro/ipython/__init__.py#146\u001b\\\u001b[2m146\u001b[0m\u001b]8;;\u001b\\\n"
      ]
     },
     "metadata": {},
     "output_type": "display_data"
    },
    {
     "data": {
      "text/html": [
       "<pre style=\"white-space:pre;overflow-x:auto;line-height:normal;font-family:Menlo,'DejaVu Sans Mono',consolas,'Courier New',monospace\"><span style=\"color: #7fbfbf; text-decoration-color: #7fbfbf\">                    </span><span style=\"color: #000080; text-decoration-color: #000080\">INFO    </span> Defined global variable <span style=\"color: #008000; text-decoration-color: #008000\">'context'</span>, <span style=\"color: #008000; text-decoration-color: #008000\">'session'</span>, <span style=\"color: #008000; text-decoration-color: #008000\">'catalog'</span> and            <a href=\"file:///Users/eoinmolloy/Documents/Documents/FPL-Modelling/.venv/lib/python3.12/site-packages/kedro/ipython/__init__.py\" target=\"_blank\"><span style=\"color: #7f7f7f; text-decoration-color: #7f7f7f\">__init__.py</span></a><span style=\"color: #7f7f7f; text-decoration-color: #7f7f7f\">:</span><a href=\"file:///Users/eoinmolloy/Documents/Documents/FPL-Modelling/.venv/lib/python3.12/site-packages/kedro/ipython/__init__.py#147\" target=\"_blank\"><span style=\"color: #7f7f7f; text-decoration-color: #7f7f7f\">147</span></a>\n",
       "<span style=\"color: #7fbfbf; text-decoration-color: #7fbfbf\">                    </span>         <span style=\"color: #008000; text-decoration-color: #008000\">'pipelines'</span>                                                            <span style=\"color: #7f7f7f; text-decoration-color: #7f7f7f\">               </span>\n",
       "</pre>\n"
      ],
      "text/plain": [
       "\u001b[2;36m                   \u001b[0m\u001b[2;36m \u001b[0m\u001b[34mINFO    \u001b[0m Defined global variable \u001b[32m'context'\u001b[0m, \u001b[32m'session'\u001b[0m, \u001b[32m'catalog'\u001b[0m and            \u001b]8;id=642014;file:///Users/eoinmolloy/Documents/Documents/FPL-Modelling/.venv/lib/python3.12/site-packages/kedro/ipython/__init__.py\u001b\\\u001b[2m__init__.py\u001b[0m\u001b]8;;\u001b\\\u001b[2m:\u001b[0m\u001b]8;id=815395;file:///Users/eoinmolloy/Documents/Documents/FPL-Modelling/.venv/lib/python3.12/site-packages/kedro/ipython/__init__.py#147\u001b\\\u001b[2m147\u001b[0m\u001b]8;;\u001b\\\n",
       "\u001b[2;36m                    \u001b[0m         \u001b[32m'pipelines'\u001b[0m                                                            \u001b[2m               \u001b[0m\n"
      ]
     },
     "metadata": {},
     "output_type": "display_data"
    }
   ],
   "source": [
    "%reload_ext kedro.ipython"
   ]
  },
  {
   "cell_type": "markdown",
   "id": "3c2650ee",
   "metadata": {},
   "source": [
    "# Imports"
   ]
  },
  {
   "cell_type": "code",
   "execution_count": 184,
   "id": "c69821bf",
   "metadata": {},
   "outputs": [],
   "source": [
    "import seaborn as sns\n",
    "import matplotlib.pyplot as plt\n",
    "import pandas as pd\n",
    "import numpy as np\n",
    "from scipy.stats import f_oneway"
   ]
  },
  {
   "cell_type": "markdown",
   "id": "92fe5fc8",
   "metadata": {},
   "source": [
    "# Load data"
   ]
  },
  {
   "cell_type": "code",
   "execution_count": 185,
   "id": "7ba83129",
   "metadata": {},
   "outputs": [
    {
     "data": {
      "text/html": [
       "<pre style=\"white-space:pre;overflow-x:auto;line-height:normal;font-family:Menlo,'DejaVu Sans Mono',consolas,'Courier New',monospace\"><span style=\"color: #7fbfbf; text-decoration-color: #7fbfbf\">                    </span><span style=\"color: #000080; text-decoration-color: #000080\">INFO    </span> Loading data from <span style=\"color: #ff8700; text-decoration-color: #ff8700\">players_hist_merged</span> <span style=\"font-weight: bold\">(</span>SQLQueryDataset<span style=\"font-weight: bold\">)</span><span style=\"color: #808000; text-decoration-color: #808000\">...</span>        <a href=\"file:///Users/eoinmolloy/Documents/Documents/FPL-Modelling/.venv/lib/python3.12/site-packages/kedro/io/data_catalog.py\" target=\"_blank\"><span style=\"color: #7f7f7f; text-decoration-color: #7f7f7f\">data_catalog.py</span></a><span style=\"color: #7f7f7f; text-decoration-color: #7f7f7f\">:</span><a href=\"file:///Users/eoinmolloy/Documents/Documents/FPL-Modelling/.venv/lib/python3.12/site-packages/kedro/io/data_catalog.py#1046\" target=\"_blank\"><span style=\"color: #7f7f7f; text-decoration-color: #7f7f7f\">1046</span></a>\n",
       "</pre>\n"
      ],
      "text/plain": [
       "\u001b[2;36m                   \u001b[0m\u001b[2;36m \u001b[0m\u001b[34mINFO    \u001b[0m Loading data from \u001b[38;5;208mplayers_hist_merged\u001b[0m \u001b[1m(\u001b[0mSQLQueryDataset\u001b[1m)\u001b[0m\u001b[33m...\u001b[0m        \u001b]8;id=619385;file:///Users/eoinmolloy/Documents/Documents/FPL-Modelling/.venv/lib/python3.12/site-packages/kedro/io/data_catalog.py\u001b\\\u001b[2mdata_catalog.py\u001b[0m\u001b]8;;\u001b\\\u001b[2m:\u001b[0m\u001b]8;id=450106;file:///Users/eoinmolloy/Documents/Documents/FPL-Modelling/.venv/lib/python3.12/site-packages/kedro/io/data_catalog.py#1046\u001b\\\u001b[2m1046\u001b[0m\u001b]8;;\u001b\\\n"
      ]
     },
     "metadata": {},
     "output_type": "display_data"
    },
    {
     "data": {
      "text/html": [
       "<pre style=\"white-space:pre;overflow-x:auto;line-height:normal;font-family:Menlo,'DejaVu Sans Mono',consolas,'Courier New',monospace\"></pre>\n"
      ],
      "text/plain": []
     },
     "metadata": {},
     "output_type": "display_data"
    },
    {
     "data": {
      "text/html": [
       "<div>\n",
       "<style scoped>\n",
       "    .dataframe tbody tr th:only-of-type {\n",
       "        vertical-align: middle;\n",
       "    }\n",
       "\n",
       "    .dataframe tbody tr th {\n",
       "        vertical-align: top;\n",
       "    }\n",
       "\n",
       "    .dataframe thead th {\n",
       "        text-align: right;\n",
       "    }\n",
       "</style>\n",
       "<table border=\"1\" class=\"dataframe\">\n",
       "  <thead>\n",
       "    <tr style=\"text-align: right;\">\n",
       "      <th></th>\n",
       "      <th>player_name</th>\n",
       "      <th>ict_index</th>\n",
       "      <th>round_points</th>\n",
       "      <th>opponent_team_id</th>\n",
       "      <th>opponent_team</th>\n",
       "      <th>was_home</th>\n",
       "      <th>team_a_score</th>\n",
       "      <th>team_h_score</th>\n",
       "      <th>round</th>\n",
       "      <th>round_minutes</th>\n",
       "      <th>...</th>\n",
       "      <th>total_minutes</th>\n",
       "      <th>players_team</th>\n",
       "      <th>players_team_strength</th>\n",
       "      <th>players_team_strength_home</th>\n",
       "      <th>players_team_strength_away</th>\n",
       "      <th>opponent_team_strength</th>\n",
       "      <th>opponent_team_strength_home</th>\n",
       "      <th>opponent_team_strength_away</th>\n",
       "      <th>position_name</th>\n",
       "      <th>position_name_abbr</th>\n",
       "    </tr>\n",
       "  </thead>\n",
       "  <tbody>\n",
       "    <tr>\n",
       "      <th>0</th>\n",
       "      <td>David Raya Martín</td>\n",
       "      <td>4.9</td>\n",
       "      <td>10</td>\n",
       "      <td>14</td>\n",
       "      <td>Man Utd</td>\n",
       "      <td>0</td>\n",
       "      <td>1</td>\n",
       "      <td>0</td>\n",
       "      <td>1</td>\n",
       "      <td>90</td>\n",
       "      <td>...</td>\n",
       "      <td>630</td>\n",
       "      <td>Arsenal</td>\n",
       "      <td>4</td>\n",
       "      <td>1320</td>\n",
       "      <td>1325</td>\n",
       "      <td>3</td>\n",
       "      <td>1105</td>\n",
       "      <td>1125</td>\n",
       "      <td>Goalkeeper</td>\n",
       "      <td>GKP</td>\n",
       "    </tr>\n",
       "    <tr>\n",
       "      <th>1</th>\n",
       "      <td>David Raya Martín</td>\n",
       "      <td>1.3</td>\n",
       "      <td>6</td>\n",
       "      <td>11</td>\n",
       "      <td>Leeds</td>\n",
       "      <td>1</td>\n",
       "      <td>0</td>\n",
       "      <td>5</td>\n",
       "      <td>2</td>\n",
       "      <td>90</td>\n",
       "      <td>...</td>\n",
       "      <td>630</td>\n",
       "      <td>Arsenal</td>\n",
       "      <td>4</td>\n",
       "      <td>1320</td>\n",
       "      <td>1325</td>\n",
       "      <td>2</td>\n",
       "      <td>1050</td>\n",
       "      <td>1075</td>\n",
       "      <td>Goalkeeper</td>\n",
       "      <td>GKP</td>\n",
       "    </tr>\n",
       "    <tr>\n",
       "      <th>2</th>\n",
       "      <td>David Raya Martín</td>\n",
       "      <td>3.0</td>\n",
       "      <td>2</td>\n",
       "      <td>12</td>\n",
       "      <td>Liverpool</td>\n",
       "      <td>0</td>\n",
       "      <td>0</td>\n",
       "      <td>1</td>\n",
       "      <td>3</td>\n",
       "      <td>90</td>\n",
       "      <td>...</td>\n",
       "      <td>630</td>\n",
       "      <td>Arsenal</td>\n",
       "      <td>4</td>\n",
       "      <td>1320</td>\n",
       "      <td>1325</td>\n",
       "      <td>5</td>\n",
       "      <td>1335</td>\n",
       "      <td>1355</td>\n",
       "      <td>Goalkeeper</td>\n",
       "      <td>GKP</td>\n",
       "    </tr>\n",
       "    <tr>\n",
       "      <th>3</th>\n",
       "      <td>David Raya Martín</td>\n",
       "      <td>1.3</td>\n",
       "      <td>6</td>\n",
       "      <td>16</td>\n",
       "      <td>Nott'm Forest</td>\n",
       "      <td>1</td>\n",
       "      <td>0</td>\n",
       "      <td>3</td>\n",
       "      <td>4</td>\n",
       "      <td>90</td>\n",
       "      <td>...</td>\n",
       "      <td>630</td>\n",
       "      <td>Arsenal</td>\n",
       "      <td>4</td>\n",
       "      <td>1320</td>\n",
       "      <td>1325</td>\n",
       "      <td>3</td>\n",
       "      <td>1165</td>\n",
       "      <td>1205</td>\n",
       "      <td>Goalkeeper</td>\n",
       "      <td>GKP</td>\n",
       "    </tr>\n",
       "    <tr>\n",
       "      <th>4</th>\n",
       "      <td>David Raya Martín</td>\n",
       "      <td>2.1</td>\n",
       "      <td>2</td>\n",
       "      <td>13</td>\n",
       "      <td>Man City</td>\n",
       "      <td>1</td>\n",
       "      <td>1</td>\n",
       "      <td>1</td>\n",
       "      <td>5</td>\n",
       "      <td>90</td>\n",
       "      <td>...</td>\n",
       "      <td>630</td>\n",
       "      <td>Arsenal</td>\n",
       "      <td>4</td>\n",
       "      <td>1320</td>\n",
       "      <td>1325</td>\n",
       "      <td>4</td>\n",
       "      <td>1275</td>\n",
       "      <td>1315</td>\n",
       "      <td>Goalkeeper</td>\n",
       "      <td>GKP</td>\n",
       "    </tr>\n",
       "  </tbody>\n",
       "</table>\n",
       "<p>5 rows × 37 columns</p>\n",
       "</div>"
      ],
      "text/plain": [
       "\n",
       "         player_name ict_index  round_points  opponent_team_id  opponent_team  \\\n",
       "\u001b[1;36m0\u001b[0m  David Raya Martín       \u001b[1;36m4.9\u001b[0m            \u001b[1;36m10\u001b[0m                \u001b[1;36m14\u001b[0m        Man Utd   \n",
       "\u001b[1;36m1\u001b[0m  David Raya Martín       \u001b[1;36m1.3\u001b[0m             \u001b[1;36m6\u001b[0m                \u001b[1;36m11\u001b[0m          Leeds   \n",
       "\u001b[1;36m2\u001b[0m  David Raya Martín       \u001b[1;36m3.0\u001b[0m             \u001b[1;36m2\u001b[0m                \u001b[1;36m12\u001b[0m      Liverpool   \n",
       "\u001b[1;36m3\u001b[0m  David Raya Martín       \u001b[1;36m1.3\u001b[0m             \u001b[1;36m6\u001b[0m                \u001b[1;36m16\u001b[0m  Nott'm Forest   \n",
       "\u001b[1;36m4\u001b[0m  David Raya Martín       \u001b[1;36m2.1\u001b[0m             \u001b[1;36m2\u001b[0m                \u001b[1;36m13\u001b[0m       Man City   \n",
       "\n",
       "   was_home  team_a_score  team_h_score  round  round_minutes  \u001b[33m...\u001b[0m  \\\n",
       "\u001b[1;36m0\u001b[0m         \u001b[1;36m0\u001b[0m             \u001b[1;36m1\u001b[0m             \u001b[1;36m0\u001b[0m      \u001b[1;36m1\u001b[0m             \u001b[1;36m90\u001b[0m  \u001b[33m...\u001b[0m   \n",
       "\u001b[1;36m1\u001b[0m         \u001b[1;36m1\u001b[0m             \u001b[1;36m0\u001b[0m             \u001b[1;36m5\u001b[0m      \u001b[1;36m2\u001b[0m             \u001b[1;36m90\u001b[0m  \u001b[33m...\u001b[0m   \n",
       "\u001b[1;36m2\u001b[0m         \u001b[1;36m0\u001b[0m             \u001b[1;36m0\u001b[0m             \u001b[1;36m1\u001b[0m      \u001b[1;36m3\u001b[0m             \u001b[1;36m90\u001b[0m  \u001b[33m...\u001b[0m   \n",
       "\u001b[1;36m3\u001b[0m         \u001b[1;36m1\u001b[0m             \u001b[1;36m0\u001b[0m             \u001b[1;36m3\u001b[0m      \u001b[1;36m4\u001b[0m             \u001b[1;36m90\u001b[0m  \u001b[33m...\u001b[0m   \n",
       "\u001b[1;36m4\u001b[0m         \u001b[1;36m1\u001b[0m             \u001b[1;36m1\u001b[0m             \u001b[1;36m1\u001b[0m      \u001b[1;36m5\u001b[0m             \u001b[1;36m90\u001b[0m  \u001b[33m...\u001b[0m   \n",
       "\n",
       "   total_minutes  players_team  players_team_strength  \\\n",
       "\u001b[1;36m0\u001b[0m            \u001b[1;36m630\u001b[0m       Arsenal                      \u001b[1;36m4\u001b[0m   \n",
       "\u001b[1;36m1\u001b[0m            \u001b[1;36m630\u001b[0m       Arsenal                      \u001b[1;36m4\u001b[0m   \n",
       "\u001b[1;36m2\u001b[0m            \u001b[1;36m630\u001b[0m       Arsenal                      \u001b[1;36m4\u001b[0m   \n",
       "\u001b[1;36m3\u001b[0m            \u001b[1;36m630\u001b[0m       Arsenal                      \u001b[1;36m4\u001b[0m   \n",
       "\u001b[1;36m4\u001b[0m            \u001b[1;36m630\u001b[0m       Arsenal                      \u001b[1;36m4\u001b[0m   \n",
       "\n",
       "   players_team_strength_home  players_team_strength_away  \\\n",
       "\u001b[1;36m0\u001b[0m                        \u001b[1;36m1320\u001b[0m                        \u001b[1;36m1325\u001b[0m   \n",
       "\u001b[1;36m1\u001b[0m                        \u001b[1;36m1320\u001b[0m                        \u001b[1;36m1325\u001b[0m   \n",
       "\u001b[1;36m2\u001b[0m                        \u001b[1;36m1320\u001b[0m                        \u001b[1;36m1325\u001b[0m   \n",
       "\u001b[1;36m3\u001b[0m                        \u001b[1;36m1320\u001b[0m                        \u001b[1;36m1325\u001b[0m   \n",
       "\u001b[1;36m4\u001b[0m                        \u001b[1;36m1320\u001b[0m                        \u001b[1;36m1325\u001b[0m   \n",
       "\n",
       "   opponent_team_strength  opponent_team_strength_home  \\\n",
       "\u001b[1;36m0\u001b[0m                       \u001b[1;36m3\u001b[0m                         \u001b[1;36m1105\u001b[0m   \n",
       "\u001b[1;36m1\u001b[0m                       \u001b[1;36m2\u001b[0m                         \u001b[1;36m1050\u001b[0m   \n",
       "\u001b[1;36m2\u001b[0m                       \u001b[1;36m5\u001b[0m                         \u001b[1;36m1335\u001b[0m   \n",
       "\u001b[1;36m3\u001b[0m                       \u001b[1;36m3\u001b[0m                         \u001b[1;36m1165\u001b[0m   \n",
       "\u001b[1;36m4\u001b[0m                       \u001b[1;36m4\u001b[0m                         \u001b[1;36m1275\u001b[0m   \n",
       "\n",
       "   opponent_team_strength_away  position_name position_name_abbr  \n",
       "\u001b[1;36m0\u001b[0m                         \u001b[1;36m1125\u001b[0m     Goalkeeper                GKP  \n",
       "\u001b[1;36m1\u001b[0m                         \u001b[1;36m1075\u001b[0m     Goalkeeper                GKP  \n",
       "\u001b[1;36m2\u001b[0m                         \u001b[1;36m1355\u001b[0m     Goalkeeper                GKP  \n",
       "\u001b[1;36m3\u001b[0m                         \u001b[1;36m1205\u001b[0m     Goalkeeper                GKP  \n",
       "\u001b[1;36m4\u001b[0m                         \u001b[1;36m1315\u001b[0m     Goalkeeper                GKP  \n",
       "\n",
       "\u001b[1m[\u001b[0m\u001b[1;36m5\u001b[0m rows x \u001b[1;36m37\u001b[0m columns\u001b[1m]\u001b[0m"
      ]
     },
     "execution_count": 185,
     "metadata": {},
     "output_type": "execute_result"
    }
   ],
   "source": [
    "all_df = catalog.load(\"players_hist_merged\")\n",
    "all_df.head()"
   ]
  },
  {
   "cell_type": "markdown",
   "id": "66b2e240",
   "metadata": {},
   "source": [
    "Data Transformations at start"
   ]
  },
  {
   "cell_type": "code",
   "execution_count": null,
   "id": "0c2c7769",
   "metadata": {},
   "outputs": [],
   "source": []
  },
  {
   "cell_type": "code",
   "execution_count": 186,
   "id": "3288bec6",
   "metadata": {},
   "outputs": [],
   "source": [
    "# Shift round points as we need to predict next round using previous round to avoid data leakage\n",
    "shift_to_next_week_cols = [\n",
    "    'round_points',\n",
    "    'opponent_team',\n",
    "    'was_home'\n",
    "]\n",
    "for shift_to_next_week_col in shift_to_next_week_cols:\n",
    "\n",
    "    all_df[f\"next_week_{shift_to_next_week_col}\"] = all_df.groupby('player_id')[shift_to_next_week_col].shift(-1)\n",
    "\n",
    "all_df['accumulated_minutes'] = all_df.groupby('player_id')['round_minutes'].cumsum()\n",
    "\n",
    "# all_df['fixture_difficulty'] = np.where(\n",
    "#     all_df['was_home'] == 1,\n",
    "#     all_df['players_team_strength_home'] - all_df['opponent_team_strength_away'],\n",
    "#     all_df['players_team_strength_away'] - all_df['opponent_team_strength_home']\n",
    "# )\n",
    "\n",
    "# next_gw_cols = [\n",
    "#     'players_team_strength',\n",
    "#     'players_team_strength_home',\n",
    "#     'players_team_strength_away',\n",
    "#     'opponent_team_strength',\n",
    "#     'opponent_team_strength_home',\n",
    "#     'opponent_team_strength_away',\n",
    "#     'fixture_difficulty'\n",
    "# ]\n",
    "\n",
    "# shift them -1 within each player to align next GW features with current GW\n",
    "# for col in next_gw_cols:\n",
    "#     all_df[f'next_{col}'] = all_df.groupby('player_id')[col].shift(-1)\n"
   ]
  },
  {
   "cell_type": "markdown",
   "id": "e2bef692",
   "metadata": {},
   "source": [
    "# EDA"
   ]
  },
  {
   "cell_type": "markdown",
   "id": "1d7e58a1",
   "metadata": {},
   "source": [
    "##  Play time of Players"
   ]
  },
  {
   "cell_type": "markdown",
   "id": "3ab36e6c",
   "metadata": {},
   "source": [
    "Get dataframe of unique players"
   ]
  },
  {
   "cell_type": "code",
   "execution_count": 187,
   "id": "4e646522",
   "metadata": {},
   "outputs": [],
   "source": [
    "p_unique_df_all = all_df.drop_duplicates(subset='player_id', keep='last')"
   ]
  },
  {
   "cell_type": "code",
   "execution_count": 188,
   "id": "ab83b892",
   "metadata": {},
   "outputs": [
    {
     "data": {
      "text/html": [
       "<pre style=\"white-space:pre;overflow-x:auto;line-height:normal;font-family:Menlo,'DejaVu Sans Mono',consolas,'Courier New',monospace\"></pre>\n"
      ],
      "text/plain": []
     },
     "metadata": {},
     "output_type": "display_data"
    },
    {
     "data": {
      "image/png": "[encoded data removed]",
      "text/plain": [
       "\u001b[1m<\u001b[0m\u001b[1;95mFigure\u001b[0m\u001b[39m size 64\u001b[0m\u001b[1;36m0x480\u001b[0m\u001b[39m with \u001b[0m\u001b[1;36m1\u001b[0m\u001b[39m Axes\u001b[0m\u001b[1m>\u001b[0m"
      ]
     },
     "metadata": {},
     "output_type": "display_data"
    }
   ],
   "source": [
    "\n",
    "\n",
    "sns.histplot(p_unique_df_all['total_minutes'], bins=30, kde=True)\n",
    "plt.title('Distribution of Total Minutes')\n",
    "plt.xlabel('Total Minutes')\n",
    "plt.ylabel('Count')\n",
    "plt.show()\n"
   ]
  },
  {
   "cell_type": "markdown",
   "id": "e6f6a466",
   "metadata": {},
   "source": [
    "Most players havent played any minute giving a right skewed distribution, and there is a spike around 600 minutes for players who have played in most games"
   ]
  },
  {
   "cell_type": "markdown",
   "id": "03815fa2",
   "metadata": {},
   "source": [
    "### Remove any player who hasnt played a game"
   ]
  },
  {
   "cell_type": "code",
   "execution_count": null,
   "id": "a48fa137",
   "metadata": {},
   "outputs": [
    {
     "name": "stdout",
     "output_type": "stream",
     "text": [
      "Removing 429 from 743 total players leaving 314 players left\n"
     ]
    }
   ],
   "source": [
    "num_all_players = all_df['player_id'].nunique()\n",
    "num_players_no_mins = all_df.loc[all_df['total_minutes'] > 0, 'player_id'].nunique()\n",
    "print(f'Removing {num_players_no_mins} from {num_all_players} total players leaving {num_all_players-num_players_no_mins} players left')\n",
    "    df = all_df[all_df['total_minutes']>0]\n",
    "\n",
    "model_df = all_df.dropna(subset='next_week_round_points')\n",
    "\n"
   ]
  },
  {
   "cell_type": "code",
   "execution_count": 190,
   "id": "2f8b183c",
   "metadata": {},
   "outputs": [],
   "source": [
    "p_unique_df = df.drop_duplicates(subset='player_id', keep='last')"
   ]
  },
  {
   "cell_type": "code",
   "execution_count": 191,
   "id": "b2a5a86e",
   "metadata": {},
   "outputs": [
    {
     "data": {
      "text/html": [
       "<pre style=\"white-space:pre;overflow-x:auto;line-height:normal;font-family:Menlo,'DejaVu Sans Mono',consolas,'Courier New',monospace\"></pre>\n"
      ],
      "text/plain": []
     },
     "metadata": {},
     "output_type": "display_data"
    },
    {
     "data": {
      "image/png": "[encoded data removed]",
      "text/plain": [
       "\u001b[1m<\u001b[0m\u001b[1;95mFigure\u001b[0m\u001b[39m size 64\u001b[0m\u001b[1;36m0x480\u001b[0m\u001b[39m with \u001b[0m\u001b[1;36m1\u001b[0m\u001b[39m Axes\u001b[0m\u001b[1m>\u001b[0m"
      ]
     },
     "metadata": {},
     "output_type": "display_data"
    }
   ],
   "source": [
    "import seaborn as sns\n",
    "import matplotlib.pyplot as plt\n",
    "\n",
    "sns.histplot(p_unique_df['total_minutes'], bins=50, kde=True)\n",
    "plt.title('Distribution of Total Minutes removing players who have no minutes')\n",
    "plt.xlabel('Total Minutes')\n",
    "plt.ylabel('Count')\n",
    "plt.show()\n"
   ]
  },
  {
   "cell_type": "markdown",
   "id": "3568fdfb",
   "metadata": {},
   "source": [
    "Now we see the more prominent spike of players who have played most minutes in games giving a left skewed distribution"
   ]
  },
  {
   "cell_type": "markdown",
   "id": "36dd33b9",
   "metadata": {},
   "source": [
    "## Target Variable Univariate Analysis: Total Points"
   ]
  },
  {
   "cell_type": "markdown",
   "id": "3e11c682",
   "metadata": {},
   "source": [
    "### Distribution"
   ]
  },
  {
   "cell_type": "code",
   "execution_count": 192,
   "id": "63597acc",
   "metadata": {},
   "outputs": [
    {
     "data": {
      "text/html": [
       "<pre style=\"white-space:pre;overflow-x:auto;line-height:normal;font-family:Menlo,'DejaVu Sans Mono',consolas,'Courier New',monospace\"></pre>\n"
      ],
      "text/plain": []
     },
     "metadata": {},
     "output_type": "display_data"
    },
    {
     "data": {
      "image/png": "[encoded data removed]",
      "text/plain": [
       "\u001b[1m<\u001b[0m\u001b[1;95mFigure\u001b[0m\u001b[39m size 64\u001b[0m\u001b[1;36m0x480\u001b[0m\u001b[39m with \u001b[0m\u001b[1;36m1\u001b[0m\u001b[39m Axes\u001b[0m\u001b[1m>\u001b[0m"
      ]
     },
     "metadata": {},
     "output_type": "display_data"
    }
   ],
   "source": [
    "import seaborn as sns\n",
    "import matplotlib.pyplot as plt\n",
    "\n",
    "sns.histplot(p_unique_df['total_points'], bins=30, kde=True)\n",
    "plt.title('Distribution of Total points')\n",
    "plt.xlabel('Total points')\n",
    "plt.ylabel('Count')\n",
    "plt.show()\n"
   ]
  },
  {
   "cell_type": "markdown",
   "id": "227c3048",
   "metadata": {},
   "source": [
    "- Total points is also a right skewed distribution with most players not having many points\n",
    "- we can try a log transformation to see if this will result in a normal distribution"
   ]
  },
  {
   "cell_type": "code",
   "execution_count": 193,
   "id": "aa0a2a2d",
   "metadata": {},
   "outputs": [
    {
     "data": {
      "text/html": [
       "<pre style=\"white-space:pre;overflow-x:auto;line-height:normal;font-family:Menlo,'DejaVu Sans Mono',consolas,'Courier New',monospace\"><span style=\"color: #7fbfbf; text-decoration-color: #7fbfbf\">                    </span><span style=\"color: #808000; text-decoration-color: #808000\">WARNING </span> <span style=\"color: #800080; text-decoration-color: #800080\">/var/folders/5g/y4dx7m714l7ft2p__s3ybpn80000gn/T/ipykernel_97657/</span><span style=\"color: #ff00ff; text-decoration-color: #ff00ff\">10166</span> <a href=\"file:///opt/homebrew/Cellar/python@3.12/3.12.11_1/Frameworks/Python.framework/Versions/3.12/lib/python3.12/warnings.py\" target=\"_blank\"><span style=\"color: #7f7f7f; text-decoration-color: #7f7f7f\">warnings.py</span></a><span style=\"color: #7f7f7f; text-decoration-color: #7f7f7f\">:</span><a href=\"file:///opt/homebrew/Cellar/python@3.12/3.12.11_1/Frameworks/Python.framework/Versions/3.12/lib/python3.12/warnings.py#112\" target=\"_blank\"><span style=\"color: #7f7f7f; text-decoration-color: #7f7f7f\">112</span></a>\n",
       "<span style=\"color: #7fbfbf; text-decoration-color: #7fbfbf\">                    </span>         <span style=\"color: #ff00ff; text-decoration-color: #ff00ff\">03022.py</span>:<span style=\"color: #008080; text-decoration-color: #008080; font-weight: bold\">1</span>: SettingWithCopyWarning:                                    <span style=\"color: #7f7f7f; text-decoration-color: #7f7f7f\">               </span>\n",
       "<span style=\"color: #7fbfbf; text-decoration-color: #7fbfbf\">                    </span>                                                                                <span style=\"color: #7f7f7f; text-decoration-color: #7f7f7f\">               </span>\n",
       "<span style=\"color: #7fbfbf; text-decoration-color: #7fbfbf\">                    </span>                                                                                <span style=\"color: #7f7f7f; text-decoration-color: #7f7f7f\">               </span>\n",
       "<span style=\"color: #7fbfbf; text-decoration-color: #7fbfbf\">                    </span>         A value is trying to be set on a copy of a slice from a DataFrame.     <span style=\"color: #7f7f7f; text-decoration-color: #7f7f7f\">               </span>\n",
       "<span style=\"color: #7fbfbf; text-decoration-color: #7fbfbf\">                    </span>         Try using .loc = value instead                                         <span style=\"color: #7f7f7f; text-decoration-color: #7f7f7f\">               </span>\n",
       "<span style=\"color: #7fbfbf; text-decoration-color: #7fbfbf\">                    </span>                                                                                <span style=\"color: #7f7f7f; text-decoration-color: #7f7f7f\">               </span>\n",
       "<span style=\"color: #7fbfbf; text-decoration-color: #7fbfbf\">                    </span>         See the caveats in the documentation:                                  <span style=\"color: #7f7f7f; text-decoration-color: #7f7f7f\">               </span>\n",
       "<span style=\"color: #7fbfbf; text-decoration-color: #7fbfbf\">                    </span>         <span style=\"color: #0000ff; text-decoration-color: #0000ff; text-decoration: underline\">https://pandas.pydata.org/pandas-docs/stable/user_guide/indexing.html#</span> <span style=\"color: #7f7f7f; text-decoration-color: #7f7f7f\">               </span>\n",
       "<span style=\"color: #7fbfbf; text-decoration-color: #7fbfbf\">                    </span>         <span style=\"color: #0000ff; text-decoration-color: #0000ff; text-decoration: underline\">returning-a-view-versus-a-copy</span>                                         <span style=\"color: #7f7f7f; text-decoration-color: #7f7f7f\">               </span>\n",
       "<span style=\"color: #7fbfbf; text-decoration-color: #7fbfbf\">                    </span>                                                                                <span style=\"color: #7f7f7f; text-decoration-color: #7f7f7f\">               </span>\n",
       "<span style=\"color: #7fbfbf; text-decoration-color: #7fbfbf\">                    </span>                                                                                <span style=\"color: #7f7f7f; text-decoration-color: #7f7f7f\">               </span>\n",
       "</pre>\n"
      ],
      "text/plain": [
       "\u001b[2;36m                   \u001b[0m\u001b[2;36m \u001b[0m\u001b[33mWARNING \u001b[0m \u001b[35m/var/folders/5g/y4dx7m714l7ft2p__s3ybpn80000gn/T/ipykernel_97657/\u001b[0m\u001b[95m10166\u001b[0m \u001b]8;id=822377;file:///opt/homebrew/Cellar/python@3.12/3.12.11_1/Frameworks/Python.framework/Versions/3.12/lib/python3.12/warnings.py\u001b\\\u001b[2mwarnings.py\u001b[0m\u001b]8;;\u001b\\\u001b[2m:\u001b[0m\u001b]8;id=363134;file:///opt/homebrew/Cellar/python@3.12/3.12.11_1/Frameworks/Python.framework/Versions/3.12/lib/python3.12/warnings.py#112\u001b\\\u001b[2m112\u001b[0m\u001b]8;;\u001b\\\n",
       "\u001b[2;36m                    \u001b[0m         \u001b[95m03022.py\u001b[0m:\u001b[1;36m1\u001b[0m: SettingWithCopyWarning:                                    \u001b[2m               \u001b[0m\n",
       "\u001b[2;36m                    \u001b[0m                                                                                \u001b[2m               \u001b[0m\n",
       "\u001b[2;36m                    \u001b[0m                                                                                \u001b[2m               \u001b[0m\n",
       "\u001b[2;36m                    \u001b[0m         A value is trying to be set on a copy of a slice from a DataFrame.     \u001b[2m               \u001b[0m\n",
       "\u001b[2;36m                    \u001b[0m         Try using .loc = value instead                                         \u001b[2m               \u001b[0m\n",
       "\u001b[2;36m                    \u001b[0m                                                                                \u001b[2m               \u001b[0m\n",
       "\u001b[2;36m                    \u001b[0m         See the caveats in the documentation:                                  \u001b[2m               \u001b[0m\n",
       "\u001b[2;36m                    \u001b[0m         \u001b[4;94mhttps://pandas.pydata.org/pandas-docs/stable/user_guide/indexing.html#\u001b[0m \u001b[2m               \u001b[0m\n",
       "\u001b[2;36m                    \u001b[0m         \u001b[4;94mreturning-a-view-versus-a-copy\u001b[0m                                         \u001b[2m               \u001b[0m\n",
       "\u001b[2;36m                    \u001b[0m                                                                                \u001b[2m               \u001b[0m\n",
       "\u001b[2;36m                    \u001b[0m                                                                                \u001b[2m               \u001b[0m\n"
      ]
     },
     "metadata": {},
     "output_type": "display_data"
    },
    {
     "data": {
      "text/html": [
       "<pre style=\"white-space:pre;overflow-x:auto;line-height:normal;font-family:Menlo,'DejaVu Sans Mono',consolas,'Courier New',monospace\"></pre>\n"
      ],
      "text/plain": []
     },
     "metadata": {},
     "output_type": "display_data"
    },
    {
     "data": {
      "image/png": "[encoded data removed]",
      "text/plain": [
       "\u001b[1m<\u001b[0m\u001b[1;95mFigure\u001b[0m\u001b[39m size 64\u001b[0m\u001b[1;36m0x480\u001b[0m\u001b[39m with \u001b[0m\u001b[1;36m1\u001b[0m\u001b[39m Axes\u001b[0m\u001b[1m>\u001b[0m"
      ]
     },
     "metadata": {},
     "output_type": "display_data"
    }
   ],
   "source": [
    "p_unique_df['log_total_minutes'] = np.log(p_unique_df['total_minutes'])\n",
    "\n",
    "sns.histplot(p_unique_df['log_total_minutes'], bins=30, kde=True)\n",
    "plt.title('Distribution of Log Total points')\n",
    "plt.xlabel('Total Log points')\n",
    "plt.ylabel('Count')\n",
    "plt.show()\n"
   ]
  },
  {
   "cell_type": "markdown",
   "id": "539f3c69",
   "metadata": {},
   "source": [
    "A log transformation actually gives a left skewed distribution instead so it may not be too useful"
   ]
  },
  {
   "cell_type": "code",
   "execution_count": 194,
   "id": "56c74869",
   "metadata": {},
   "outputs": [
    {
     "data": {
      "text/html": [
       "<pre style=\"white-space:pre;overflow-x:auto;line-height:normal;font-family:Menlo,'DejaVu Sans Mono',consolas,'Courier New',monospace\"><span style=\"color: #7fbfbf; text-decoration-color: #7fbfbf\">                    </span><span style=\"color: #808000; text-decoration-color: #808000\">WARNING </span> <span style=\"color: #800080; text-decoration-color: #800080\">/var/folders/5g/y4dx7m714l7ft2p__s3ybpn80000gn/T/ipykernel_97657/</span><span style=\"color: #ff00ff; text-decoration-color: #ff00ff\">19536</span> <a href=\"file:///opt/homebrew/Cellar/python@3.12/3.12.11_1/Frameworks/Python.framework/Versions/3.12/lib/python3.12/warnings.py\" target=\"_blank\"><span style=\"color: #7f7f7f; text-decoration-color: #7f7f7f\">warnings.py</span></a><span style=\"color: #7f7f7f; text-decoration-color: #7f7f7f\">:</span><a href=\"file:///opt/homebrew/Cellar/python@3.12/3.12.11_1/Frameworks/Python.framework/Versions/3.12/lib/python3.12/warnings.py#112\" target=\"_blank\"><span style=\"color: #7f7f7f; text-decoration-color: #7f7f7f\">112</span></a>\n",
       "<span style=\"color: #7fbfbf; text-decoration-color: #7fbfbf\">                    </span>         <span style=\"color: #ff00ff; text-decoration-color: #ff00ff\">93017.py</span>:<span style=\"color: #008080; text-decoration-color: #008080; font-weight: bold\">4</span>: SettingWithCopyWarning:                                    <span style=\"color: #7f7f7f; text-decoration-color: #7f7f7f\">               </span>\n",
       "<span style=\"color: #7fbfbf; text-decoration-color: #7fbfbf\">                    </span>                                                                                <span style=\"color: #7f7f7f; text-decoration-color: #7f7f7f\">               </span>\n",
       "<span style=\"color: #7fbfbf; text-decoration-color: #7fbfbf\">                    </span>                                                                                <span style=\"color: #7f7f7f; text-decoration-color: #7f7f7f\">               </span>\n",
       "<span style=\"color: #7fbfbf; text-decoration-color: #7fbfbf\">                    </span>         A value is trying to be set on a copy of a slice from a DataFrame.     <span style=\"color: #7f7f7f; text-decoration-color: #7f7f7f\">               </span>\n",
       "<span style=\"color: #7fbfbf; text-decoration-color: #7fbfbf\">                    </span>         Try using .loc = value instead                                         <span style=\"color: #7f7f7f; text-decoration-color: #7f7f7f\">               </span>\n",
       "<span style=\"color: #7fbfbf; text-decoration-color: #7fbfbf\">                    </span>                                                                                <span style=\"color: #7f7f7f; text-decoration-color: #7f7f7f\">               </span>\n",
       "<span style=\"color: #7fbfbf; text-decoration-color: #7fbfbf\">                    </span>         See the caveats in the documentation:                                  <span style=\"color: #7f7f7f; text-decoration-color: #7f7f7f\">               </span>\n",
       "<span style=\"color: #7fbfbf; text-decoration-color: #7fbfbf\">                    </span>         <span style=\"color: #0000ff; text-decoration-color: #0000ff; text-decoration: underline\">https://pandas.pydata.org/pandas-docs/stable/user_guide/indexing.html#</span> <span style=\"color: #7f7f7f; text-decoration-color: #7f7f7f\">               </span>\n",
       "<span style=\"color: #7fbfbf; text-decoration-color: #7fbfbf\">                    </span>         <span style=\"color: #0000ff; text-decoration-color: #0000ff; text-decoration: underline\">returning-a-view-versus-a-copy</span>                                         <span style=\"color: #7f7f7f; text-decoration-color: #7f7f7f\">               </span>\n",
       "<span style=\"color: #7fbfbf; text-decoration-color: #7fbfbf\">                    </span>                                                                                <span style=\"color: #7f7f7f; text-decoration-color: #7f7f7f\">               </span>\n",
       "<span style=\"color: #7fbfbf; text-decoration-color: #7fbfbf\">                    </span>                                                                                <span style=\"color: #7f7f7f; text-decoration-color: #7f7f7f\">               </span>\n",
       "</pre>\n"
      ],
      "text/plain": [
       "\u001b[2;36m                   \u001b[0m\u001b[2;36m \u001b[0m\u001b[33mWARNING \u001b[0m \u001b[35m/var/folders/5g/y4dx7m714l7ft2p__s3ybpn80000gn/T/ipykernel_97657/\u001b[0m\u001b[95m19536\u001b[0m \u001b]8;id=166409;file:///opt/homebrew/Cellar/python@3.12/3.12.11_1/Frameworks/Python.framework/Versions/3.12/lib/python3.12/warnings.py\u001b\\\u001b[2mwarnings.py\u001b[0m\u001b]8;;\u001b\\\u001b[2m:\u001b[0m\u001b]8;id=220058;file:///opt/homebrew/Cellar/python@3.12/3.12.11_1/Frameworks/Python.framework/Versions/3.12/lib/python3.12/warnings.py#112\u001b\\\u001b[2m112\u001b[0m\u001b]8;;\u001b\\\n",
       "\u001b[2;36m                    \u001b[0m         \u001b[95m93017.py\u001b[0m:\u001b[1;36m4\u001b[0m: SettingWithCopyWarning:                                    \u001b[2m               \u001b[0m\n",
       "\u001b[2;36m                    \u001b[0m                                                                                \u001b[2m               \u001b[0m\n",
       "\u001b[2;36m                    \u001b[0m                                                                                \u001b[2m               \u001b[0m\n",
       "\u001b[2;36m                    \u001b[0m         A value is trying to be set on a copy of a slice from a DataFrame.     \u001b[2m               \u001b[0m\n",
       "\u001b[2;36m                    \u001b[0m         Try using .loc = value instead                                         \u001b[2m               \u001b[0m\n",
       "\u001b[2;36m                    \u001b[0m                                                                                \u001b[2m               \u001b[0m\n",
       "\u001b[2;36m                    \u001b[0m         See the caveats in the documentation:                                  \u001b[2m               \u001b[0m\n",
       "\u001b[2;36m                    \u001b[0m         \u001b[4;94mhttps://pandas.pydata.org/pandas-docs/stable/user_guide/indexing.html#\u001b[0m \u001b[2m               \u001b[0m\n",
       "\u001b[2;36m                    \u001b[0m         \u001b[4;94mreturning-a-view-versus-a-copy\u001b[0m                                         \u001b[2m               \u001b[0m\n",
       "\u001b[2;36m                    \u001b[0m                                                                                \u001b[2m               \u001b[0m\n",
       "\u001b[2;36m                    \u001b[0m                                                                                \u001b[2m               \u001b[0m\n"
      ]
     },
     "metadata": {},
     "output_type": "display_data"
    },
    {
     "data": {
      "text/html": [
       "<pre style=\"white-space:pre;overflow-x:auto;line-height:normal;font-family:Menlo,'DejaVu Sans Mono',consolas,'Courier New',monospace\"></pre>\n"
      ],
      "text/plain": []
     },
     "metadata": {},
     "output_type": "display_data"
    },
    {
     "data": {
      "image/png": "[encoded data removed]",
      "text/plain": [
       "\u001b[1m<\u001b[0m\u001b[1;95mFigure\u001b[0m\u001b[39m size 64\u001b[0m\u001b[1;36m0x480\u001b[0m\u001b[39m with \u001b[0m\u001b[1;36m1\u001b[0m\u001b[39m Axes\u001b[0m\u001b[1m>\u001b[0m"
      ]
     },
     "metadata": {},
     "output_type": "display_data"
    }
   ],
   "source": [
    "from sklearn.preprocessing import PowerTransformer\n",
    "\n",
    "pt = PowerTransformer(method='yeo-johnson')\n",
    "p_unique_df['yj_total_minutes'] = pt.fit_transform(p_unique_df[['total_points']])\n",
    "\n",
    "sns.histplot(p_unique_df['yj_total_minutes'], bins=30, kde=True)\n",
    "plt.title('Distribution of Yeo Johnson Total points')\n",
    "plt.xlabel('Total Yeo Johnson points')\n",
    "plt.ylabel('Count')\n",
    "plt.show()"
   ]
  },
  {
   "cell_type": "markdown",
   "id": "15d6d86c",
   "metadata": {},
   "source": [
    "### Outliers"
   ]
  },
  {
   "cell_type": "code",
   "execution_count": 195,
   "id": "a03721bf",
   "metadata": {},
   "outputs": [],
   "source": [
    "import plotly.express as px\n",
    "\n",
    "def plot_box_with_hover(df, col, id_col='player_id'):\n",
    "    fig = px.box(\n",
    "        df,\n",
    "        y=col,\n",
    "        points=\"outliers\",               # show only outliers\n",
    "        hover_data=[id_col]              # show player_id on hover\n",
    "    )\n",
    "    fig.update_layout(\n",
    "        title=f\"Boxplot of {col} with Outliers Hover Info\",\n",
    "        yaxis_title=col,\n",
    "        xaxis_title=\"\"\n",
    "    )\n",
    "    fig.show()\n"
   ]
  },
  {
   "cell_type": "code",
   "execution_count": 196,
   "id": "9782c1ab",
   "metadata": {},
   "outputs": [
    {
     "data": {
      "application/vnd.plotly.v1+json": {
       "config": {
        "plotlyServerURL": "https://plot.ly"
       },
       "data": [
        {
         "alignmentgroup": "True",
         "boxpoints": "outliers",
         "customdata": [
          [
           "David Raya Martín"
          ],
          [
           "Bukayo Saka"
          ],
          [
           "Myles Lewis-Skelly"
          ],
          [
           "Leandro Trossard"
          ],
          [
           "Jurriën Timber"
          ],
          [
           "Riccardo Calafiori"
          ],
          [
           "Noni Madueke"
          ],
          [
           "Martin Ødegaard"
          ],
          [
           "Gabriel dos Santos Magalhães"
          ],
          [
           "William Saliba"
          ],
          [
           "Declan Rice"
          ],
          [
           "Gabriel Martinelli Silva"
          ],
          [
           "Benjamin White"
          ],
          [
           "Mikel Merino Zazón"
          ],
          [
           "Martín Zubimendi Ibáñez"
          ],
          [
           "Viktor Gyökeres"
          ],
          [
           "Ethan Nwaneri"
          ],
          [
           "Cristhian Mosquera"
          ],
          [
           "Emiliano Martínez Romero"
          ],
          [
           "Kai Havertz"
          ],
          [
           "Eberechi Eze"
          ],
          [
           "Matty Cash"
          ],
          [
           "Max Dowman"
          ],
          [
           "Marco Bizot"
          ],
          [
           "Pau Torres"
          ],
          [
           "Lucas Digne"
          ],
          [
           "Ian Maatsen"
          ],
          [
           "Tyrone Mings"
          ],
          [
           "Youri Tielemans"
          ],
          [
           "Morgan Rogers"
          ],
          [
           "Lamare Bogarde"
          ],
          [
           "Ross Barkley"
          ],
          [
           "John McGinn"
          ],
          [
           "Ezri Konsa Ngoyo"
          ],
          [
           "Emiliano Buendía Stati"
          ],
          [
           "Donyell Malen"
          ],
          [
           "Boubacar Kamara"
          ],
          [
           "Amadou Onana"
          ],
          [
           "Bradley Burrowes"
          ],
          [
           "Harvey Elliott"
          ],
          [
           "Jadon Sancho"
          ],
          [
           "Victor Lindelöf"
          ],
          [
           "Evann Guessand"
          ],
          [
           "Kyle Walker"
          ],
          [
           "Ollie Watkins"
          ],
          [
           "Hjalmar Ekdal"
          ],
          [
           "Maxime Estève"
          ],
          [
           "Bashir Humphreys"
          ],
          [
           "Quilindschy Hartman"
          ],
          [
           "Jaidon Anthony"
          ],
          [
           "Oliver Sonne"
          ],
          [
           "Joe Worrall"
          ],
          [
           "Jacob Bruun Larsen"
          ],
          [
           "Josh Cullen"
          ],
          [
           "Marcus Edwards"
          ],
          [
           "Hannibal Mejbri"
          ],
          [
           "Axel Tuanzebe"
          ],
          [
           "Josh Laurent"
          ],
          [
           "Loum Tchaouna"
          ],
          [
           "Zian Flemming"
          ],
          [
           "Lyle Foster"
          ],
          [
           "Armando Broja"
          ],
          [
           "Đorđe Petrović"
          ],
          [
           "Florentino Ibrain Morris Luís"
          ],
          [
           "Marcos Senesi Barón"
          ],
          [
           "Martin Dúbravka"
          ],
          [
           "Lesley Ugochukwu"
          ],
          [
           "Adam Smith"
          ],
          [
           "Adrien Truffert"
          ],
          [
           "Julio Soler Barreto"
          ],
          [
           "James Hill"
          ],
          [
           "Justin Kluivert"
          ],
          [
           "Antoine Semenyo"
          ],
          [
           "David Brooks"
          ],
          [
           "Lewis Cook"
          ],
          [
           "Marcus Tavernier"
          ],
          [
           "Alex Scott"
          ],
          [
           "Hamed Traorè"
          ],
          [
           "Ryan Christie"
          ],
          [
           "Tyler Adams"
          ],
          [
           "Ben Winterburn"
          ],
          [
           "Francisco Evanilson de Lima Barbosa"
          ],
          [
           "Bafodé Diakité"
          ],
          [
           "Ben Gannon-Doak"
          ],
          [
           "Amine Adli"
          ],
          [
           "Eli Junior Kroupi"
          ],
          [
           "Veljko Milosavljevic"
          ],
          [
           "Caoimhín Kelleher"
          ],
          [
           "Nathan Collins"
          ],
          [
           "Dango Ouattara"
          ],
          [
           "Keane Lewis-Potter"
          ],
          [
           "Álex Jiménez Sánchez"
          ],
          [
           "Michael Kayode"
          ],
          [
           "Kristoffer Ajer"
          ],
          [
           "Rico Henry"
          ],
          [
           "Ethan Pinnock"
          ],
          [
           "Kevin Schade"
          ],
          [
           "Aaron Hickey"
          ],
          [
           "Sepp van den Berg"
          ],
          [
           "Fábio Freitas Gouveia Carvalho"
          ],
          [
           "Mikkel Damsgaard"
          ],
          [
           "Antoni Milambo"
          ],
          [
           "Vitaly Janelt"
          ],
          [
           "Jordan Henderson"
          ],
          [
           "Frank Onyeka"
          ],
          [
           "Mathias Jensen"
          ],
          [
           "Yehor Yarmoliuk"
          ],
          [
           "Igor Thiago Nascimento Rodrigues"
          ],
          [
           "Ferdi Kadıoğlu"
          ],
          [
           "Lewis Dunk"
          ],
          [
           "Jan Paul van Hecke"
          ],
          [
           "Maxim De Cuyper"
          ],
          [
           "Bart Verbruggen"
          ],
          [
           "Joël Veltman"
          ],
          [
           "Diego Coppola"
          ],
          [
           "Mitoma Kaoru"
          ],
          [
           "Georginio Rutter"
          ],
          [
           "Yankuba Minteh"
          ],
          [
           "Carlos Baleba"
          ],
          [
           "Jack Hinshelwood"
          ],
          [
           "Yasin Ayari"
          ],
          [
           "James Milner"
          ],
          [
           "Brajan Gruda"
          ],
          [
           "Mats Wieffer"
          ],
          [
           "Diego Gómez Amarilla"
          ],
          [
           "Matt O'Riley"
          ],
          [
           "Facundo Buonanotte"
          ],
          [
           "Danny Welbeck"
          ],
          [
           "Stefanos Tzimas"
          ],
          [
           "Robert Lynch Sánchez"
          ],
          [
           "Filip Jörgensen"
          ],
          [
           "Tosin Adarabioyo"
          ],
          [
           "Benoît Badiashile Mukinayi"
          ],
          [
           "Malo Gusto"
          ],
          [
           "Reece James"
          ],
          [
           "Marc Cucurella Saseta"
          ],
          [
           "Trevoh Chalobah"
          ],
          [
           "Wesley Fofana"
          ],
          [
           "Josh Acheampong"
          ],
          [
           "Cole Palmer"
          ],
          [
           "Pedro Lomba Neto"
          ],
          [
           "Enzo Fernández"
          ],
          [
           "Roméo Lavia"
          ],
          [
           "Tyrique George"
          ],
          [
           "Estêvão Almeida de Oliveira Gonçalves"
          ],
          [
           "Andrey Nascimento dos Santos"
          ],
          [
           "Moisés Caicedo Corozo"
          ],
          [
           "Jamie Bynoe-Gittens"
          ],
          [
           "Alejandro Garnacho Ferreyra"
          ],
          [
           "Liam Delap"
          ],
          [
           "Dean Henderson"
          ],
          [
           "Marc Guiu Paz"
          ],
          [
           "João Pedro Junqueira de Jesus"
          ],
          [
           "Jorrel Hato"
          ],
          [
           "Chris Richards"
          ],
          [
           "Nathaniel Clyne"
          ],
          [
           "Tyrick Mitchell"
          ],
          [
           "Maxence Lacroix"
          ],
          [
           "Marc Guéhi"
          ],
          [
           "Daniel Muñoz Mejía"
          ],
          [
           "Ismaïla Sarr"
          ],
          [
           "Daichi Kamada"
          ],
          [
           "Adam Wharton"
          ],
          [
           "Will Hughes"
          ],
          [
           "Romain Esse"
          ],
          [
           "Jefferson Lerma Solís"
          ],
          [
           "Justin Devenny"
          ],
          [
           "Yéremy Pino Santos"
          ],
          [
           "Jean-Philippe Mateta"
          ],
          [
           "Eddie Nketiah"
          ],
          [
           "Odsonne Édouard"
          ],
          [
           "Jordan Pickford"
          ],
          [
           "Kiernan Dewsbury-Hall"
          ],
          [
           "Christantus Uche"
          ],
          [
           "James Tarkowski"
          ],
          [
           "Vitalii Mykolenko"
          ],
          [
           "Jake O'Brien"
          ],
          [
           "Séamus Coleman"
          ],
          [
           "Iliman Ndiaye"
          ],
          [
           "Idrissa Gana Gueye"
          ],
          [
           "Harrison Armstrong"
          ],
          [
           "Carlos Alcaraz Durán"
          ],
          [
           "James Garner"
          ],
          [
           "Thierno Barry"
          ],
          [
           "Michael Keane"
          ],
          [
           "Dwight McNeil"
          ],
          [
           "Tim Iroegbunam"
          ],
          [
           "Norberto Bercique Gomes Betuncal"
          ],
          [
           "Jack Grealish"
          ],
          [
           "Bernd Leno"
          ],
          [
           "Calvin Bassey"
          ],
          [
           "Tyler Dibling"
          ],
          [
           "Merlin Röhl"
          ],
          [
           "Antonee Robinson"
          ],
          [
           "Joachim Andersen"
          ],
          [
           "Jorge Cuenca Barreno"
          ],
          [
           "Issa Diop"
          ],
          [
           "Alex Iwobi"
          ],
          [
           "Kenny Tete"
          ],
          [
           "Timothy Castagne"
          ],
          [
           "Emile Smith Rowe"
          ],
          [
           "Adama Traoré Diarra"
          ],
          [
           "Harry Wilson"
          ],
          [
           "Ryan Sessegnon"
          ],
          [
           "Tom Cairney"
          ],
          [
           "Sander Berge"
          ],
          [
           "Saša Lukić"
          ],
          [
           "Raúl Jiménez Rodríguez"
          ],
          [
           "Josh King"
          ],
          [
           "Kevin Santos Lopes de Macedo"
          ],
          [
           "Karl Darlow"
          ],
          [
           "Samuel Chukwueze"
          ],
          [
           "Rodrigo Muniz Carvalho"
          ],
          [
           "Jayden Bogle"
          ],
          [
           "Pascal Struijk"
          ],
          [
           "Gabriel Gudmundsson"
          ],
          [
           "Sam Byram"
          ],
          [
           "Joe Rodon"
          ],
          [
           "Brenden Aaronson"
          ],
          [
           "Jack Harrison"
          ],
          [
           "Wilfried Gnonto"
          ],
          [
           "Daniel James"
          ],
          [
           "Tanaka Ao"
          ],
          [
           "Ilia Gruev"
          ],
          [
           "Joël Piroe"
          ],
          [
           "Ethan Ampadu"
          ],
          [
           "Lucas Estella Perri"
          ],
          [
           "Lukas Nmecha"
          ],
          [
           "Anton Stach"
          ],
          [
           "Sean Longstaff"
          ],
          [
           "Noah Okafor"
          ],
          [
           "Dominic Calvert-Lewin"
          ],
          [
           "Alisson Becker"
          ],
          [
           "James Justin"
          ],
          [
           "Giorgi Mamardashvili"
          ],
          [
           "Jeremie Frimpong"
          ],
          [
           "Milos Kerkez"
          ],
          [
           "Ibrahima Konaté"
          ],
          [
           "Andrew Robertson"
          ],
          [
           "Virgil van Dijk"
          ],
          [
           "Conor Bradley"
          ],
          [
           "Cody Gakpo"
          ],
          [
           "Federico Chiesa"
          ],
          [
           "Alexis Mac Allister"
          ],
          [
           "Joe Gomez"
          ],
          [
           "Mohamed Salah"
          ],
          [
           "Florian Wirtz"
          ],
          [
           "Curtis Jones"
          ],
          [
           "Ryan Gravenberch"
          ],
          [
           "Dominik Szoboszlai"
          ],
          [
           "Endo Wataru"
          ],
          [
           "Hugo Ekitiké"
          ],
          [
           "Alexander Isak"
          ],
          [
           "Rio Ngumoha"
          ],
          [
           "Rayan Aït-Nouri"
          ],
          [
           "Joško Gvardiol"
          ],
          [
           "James Trafford"
          ],
          [
           "Nathan Aké"
          ],
          [
           "Abdukodir Khusanov"
          ],
          [
           "Rúben dos Santos Gato Alves Dias"
          ],
          [
           "Matheus Nunes"
          ],
          [
           "John Stones"
          ],
          [
           "Rico Lewis"
          ],
          [
           "Nico O'Reilly"
          ],
          [
           "Phil Foden"
          ],
          [
           "Omar Marmoush"
          ],
          [
           "Rayan Cherki"
          ],
          [
           "Nico González Iglesias"
          ],
          [
           "Oscar Bobb"
          ],
          [
           "Sávio Moreira de Oliveira"
          ],
          [
           "Rodrigo 'Rodri' Hernandez Cascante"
          ],
          [
           "Jérémy Doku"
          ],
          [
           "Bernardo Mota Veiga de Carvalho e Silva"
          ],
          [
           "Tijjani Reijnders"
          ],
          [
           "Gianluigi Donnarumma"
          ],
          [
           "Erling Haaland"
          ],
          [
           "Bryan Mbeumo"
          ],
          [
           "Altay Bayındır"
          ],
          [
           "Noussair Mazraoui"
          ],
          [
           "Diogo Dalot Teixeira"
          ],
          [
           "Matthijs de Ligt"
          ],
          [
           "Patrick Dorgu"
          ],
          [
           "Harry Maguire"
          ],
          [
           "Luke Shaw"
          ],
          [
           "Leny Yoro"
          ],
          [
           "Ayden Heaven"
          ],
          [
           "Manuel Ugarte Ribeiro"
          ],
          [
           "Matheus Santos Carneiro da Cunha"
          ],
          [
           "Amad Diallo"
          ],
          [
           "Kobbie Mainoo"
          ],
          [
           "Bruno Borges Fernandes"
          ],
          [
           "Carlos Henrique Casimiro"
          ],
          [
           "Mason Mount"
          ],
          [
           "Senne Lammens"
          ],
          [
           "Joshua Zirkzee"
          ],
          [
           "Benjamin Sesko"
          ],
          [
           "Tino Livramento"
          ],
          [
           "Nick Pope"
          ],
          [
           "Dan Burn"
          ],
          [
           "Jacob Ramsey"
          ],
          [
           "Jamaal Lascelles"
          ],
          [
           "Kieran Trippier"
          ],
          [
           "Fabian Schär"
          ],
          [
           "Sven Botman"
          ],
          [
           "Lewis Hall"
          ],
          [
           "Anthony Gordon"
          ],
          [
           "Anthony Elanga"
          ],
          [
           "Harvey Barnes"
          ],
          [
           "Bruno Guimarães Rodriguez Moura"
          ],
          [
           "Sandro Tonali"
          ],
          [
           "Jacob Murphy"
          ],
          [
           "Joelinton Cássio Apolinário de Lira"
          ],
          [
           "Lewis Miley"
          ],
          [
           "Malick Thiaw"
          ],
          [
           "William Osula"
          ],
          [
           "Joe Willock"
          ],
          [
           "Oleksandr Zinchenko"
          ],
          [
           "James McAtee"
          ],
          [
           "Nick Woltemade"
          ],
          [
           "Matz Sels"
          ],
          [
           "Murillo Costa dos Santos"
          ],
          [
           "Nikola Milenković"
          ],
          [
           "Ola Aina"
          ],
          [
           "Felipe Rodrigues da Silva"
          ],
          [
           "Jair Paula da Cunha Filho"
          ],
          [
           "Morgan Gibbs-White"
          ],
          [
           "João Pedro Ferreira da Silva"
          ],
          [
           "Nicolás Domínguez"
          ],
          [
           "Elliot Anderson"
          ],
          [
           "Neco Williams"
          ],
          [
           "Callum Hudson-Odoi"
          ],
          [
           "Ryan Yates"
          ],
          [
           "Ibrahim Sangaré"
          ],
          [
           "Dan Ndoye"
          ],
          [
           "Chris Wood"
          ],
          [
           "Igor Jesus Maciel da Cruz"
          ],
          [
           "Omari Hutchinson"
          ],
          [
           "Trai Hume"
          ],
          [
           "Arnaud Kalimuendo"
          ],
          [
           "Douglas Luiz Soares de Paulo"
          ],
          [
           "Dilane Bakwa"
          ],
          [
           "Daniel Ballard"
          ],
          [
           "Nicolò Savona"
          ],
          [
           "Reinildo Mandava"
          ],
          [
           "Simon Adingra"
          ],
          [
           "Jenson Seelt"
          ],
          [
           "Patrick Roberts"
          ],
          [
           "Habib Diarra"
          ],
          [
           "Enzo Le Fée"
          ],
          [
           "Dan Neil"
          ],
          [
           "Noah Sadiki"
          ],
          [
           "Eliezer Mayenda Dossou"
          ],
          [
           "Wilson Isidor"
          ],
          [
           "Chemsdine Talbi"
          ],
          [
           "Chris Rigg"
          ],
          [
           "Robin Roefs"
          ],
          [
           "Granit Xhaka"
          ],
          [
           "Arthur Masuaku"
          ],
          [
           "Brian Brobbey"
          ],
          [
           "Guglielmo Vicario"
          ],
          [
           "Nordi Mukiele"
          ],
          [
           "Lutsharel Geertruida"
          ],
          [
           "Djed Spence"
          ],
          [
           "Omar Alderete"
          ],
          [
           "Destiny Udogie"
          ],
          [
           "Pedro Porro Sauceda"
          ],
          [
           "Kevin Danso"
          ],
          [
           "Bertrand Traoré"
          ],
          [
           "Cristian Romero"
          ],
          [
           "Micky van de Ven"
          ],
          [
           "Mohammed Kudus"
          ],
          [
           "Brennan Johnson"
          ],
          [
           "Rodrigo Bentancur"
          ],
          [
           "Mathys Tel"
          ],
          [
           "Archie Gray"
          ],
          [
           "Lucas Bergvall"
          ],
          [
           "Dominic Solanke-Mitchell"
          ],
          [
           "Pape Matar Sarr"
          ],
          [
           "Wilson Odobert"
          ],
          [
           "Richarlison de Andrade"
          ],
          [
           "João Maria Lobo Alves Palhares Costa Palhinha Gonçalves"
          ],
          [
           "Xavi Simons"
          ],
          [
           "Alphonse Areola"
          ],
          [
           "Igor Julio dos Santos de Paulo"
          ],
          [
           "Aaron Wan-Bissaka"
          ],
          [
           "Nayef Aguerd"
          ],
          [
           "Konstantinos Mavropanos"
          ],
          [
           "El Hadji Malick Diouf"
          ],
          [
           "Maximilian Kilman"
          ],
          [
           "Crysencio Summerville"
          ],
          [
           "Jean-Clair Todibo"
          ],
          [
           "Lucas Tolentino Coelho de Lima"
          ],
          [
           "Tomáš Souček"
          ],
          [
           "James Ward-Prowse"
          ],
          [
           "Guido Rodríguez"
          ],
          [
           "Luis Guilherme Lira dos Santos"
          ],
          [
           "Andy Irving"
          ],
          [
           "Sam Johnstone"
          ],
          [
           "Callum Marshall"
          ],
          [
           "Callum Wilson"
          ],
          [
           "Mads Hermansen"
          ],
          [
           "Soungoutou Magassa"
          ],
          [
           "Mateus Gonçalo Espanha Fernandes"
          ],
          [
           "José Malheiro de Sá"
          ],
          [
           "Freddie Potts"
          ],
          [
           "Hugo Bueno López"
          ],
          [
           "Jarrod Bowen"
          ],
          [
           "Niclas Füllkrug"
          ],
          [
           "Kyle Walker-Peters"
          ],
          [
           "Emmanuel Agbadou"
          ],
          [
           "Yerson Mosquera Valdelamar"
          ],
          [
           "Rodrigo Martins Gomes"
          ],
          [
           "Matt Doherty"
          ],
          [
           "Toti Gomes"
          ],
          [
           "Santiago Ignacio Bueno"
          ],
          [
           "Ki-Jana Hoever"
          ],
          [
           "Jean-Ricner Bellegarde"
          ],
          [
           "André Trindade da Costa Neto"
          ],
          [
           "Hwang Hee-chan"
          ],
          [
           "João Victor Gomes da Silva"
          ],
          [
           "Marshall Munetsi"
          ],
          [
           "Saša Kalajdžić"
          ],
          [
           "Fer López González"
          ],
          [
           "Jørgen Strand Larsen"
          ],
          [
           "Jhon Arias"
          ],
          [
           "Ladislav Krejcí"
          ],
          [
           "Tolu Arokodare"
          ],
          [
           "Jackson Tchatchoua"
          ],
          [
           "David Møller Wolfe"
          ]
         ],
         "hovertemplate": "total_points=%{y}<br>player_name=%{customdata[0]}<extra></extra>",
         "legendgroup": "",
         "marker": {
          "color": "#636efa"
         },
         "name": "",
         "notched": false,
         "offsetgroup": "",
         "orientation": "v",
         "showlegend": false,
         "type": "box",
         "x0": " ",
         "xaxis": "x",
         "y": {
          "bdata": "IhQEDDAqCg0vGSgOBg8gGgYMDwEWHQUHCBUDFwgWDwEVEBEWDwcBBAEDCQsUEw8AFSkDBAslAQwBCw0EFQMbDC4UDQggARAMQhIBGxgECBIBFhoFBQkFFRITEAETCAQAEgYUDBMBAxYLDBcgCQ8WDgsHAhQQHwgEFAoTDAcMARIGEwELAA8TGyMDCwsUKQIDFAUtBQMEGwMnAyEBIyUuJCQUEwsBCAgJFAYBHhQCIAcXAiUYAQUhCCMBCw8lFBIDAQMdAwIeDwcMBhUXBBASDAwDCQUPFxgXAR4TBgYHBwcEDwwMIRwVEhQDAgYNGAIdAyEODwIiDQolGwYhCAgKGAsECxsVCQ4UFAkHCw8HCx0PHw9GGwsJEBoKEA8UAQoJDgUcDxIJAxclKSsCARsXGgkHDAweFxENBxMMBAQEGA8HDAYHAxIBABYPEgQLGBgGBBoFBQUXAQ4NAgEMFAEODhwUBCkgAQMjGwQVJwceAwEgICcWDg8EFQIYCSAeCgYBAgMQGg0OAR0ECwIDBAgBCwkEDQUDESMKCw4ECgAFEQIIEQ0SEwEGCQ4MBgkH",
          "dtype": "i1"
         },
         "y0": " ",
         "yaxis": "y"
        }
       ],
       "layout": {
        "boxmode": "group",
        "legend": {
         "tracegroupgap": 0
        },
        "margin": {
         "t": 60
        },
        "template": {
         "data": {
          "bar": [
           {
            "error_x": {
             "color": "#2a3f5f"
            },
            "error_y": {
             "color": "#2a3f5f"
            },
            "marker": {
             "line": {
              "color": "#E5ECF6",
              "width": 0.5
             },
             "pattern": {
              "fillmode": "overlay",
              "size": 10,
              "solidity": 0.2
             }
            },
            "type": "bar"
           }
          ],
          "barpolar": [
           {
            "marker": {
             "line": {
              "color": "#E5ECF6",
              "width": 0.5
             },
             "pattern": {
              "fillmode": "overlay",
              "size": 10,
              "solidity": 0.2
             }
            },
            "type": "barpolar"
           }
          ],
          "carpet": [
           {
            "aaxis": {
             "endlinecolor": "#2a3f5f",
             "gridcolor": "white",
             "linecolor": "white",
             "minorgridcolor": "white",
             "startlinecolor": "#2a3f5f"
            },
            "baxis": {
             "endlinecolor": "#2a3f5f",
             "gridcolor": "white",
             "linecolor": "white",
             "minorgridcolor": "white",
             "startlinecolor": "#2a3f5f"
            },
            "type": "carpet"
           }
          ],
          "choropleth": [
           {
            "colorbar": {
             "outlinewidth": 0,
             "ticks": ""
            },
            "type": "choropleth"
           }
          ],
          "contour": [
           {
            "colorbar": {
             "outlinewidth": 0,
             "ticks": ""
            },
            "colorscale": [
             [
              0,
              "#0d0887"
             ],
             [
              0.1111111111111111,
              "#46039f"
             ],
             [
              0.2222222222222222,
              "#7201a8"
             ],
             [
              0.3333333333333333,
              "#9c179e"
             ],
             [
              0.4444444444444444,
              "#bd3786"
             ],
             [
              0.5555555555555556,
              "#d8576b"
             ],
             [
              0.6666666666666666,
              "#ed7953"
             ],
             [
              0.7777777777777778,
              "#fb9f3a"
             ],
             [
              0.8888888888888888,
              "#fdca26"
             ],
             [
              1,
              "#f0f921"
             ]
            ],
            "type": "contour"
           }
          ],
          "contourcarpet": [
           {
            "colorbar": {
             "outlinewidth": 0,
             "ticks": ""
            },
            "type": "contourcarpet"
           }
          ],
          "heatmap": [
           {
            "colorbar": {
             "outlinewidth": 0,
             "ticks": ""
            },
            "colorscale": [
             [
              0,
              "#0d0887"
             ],
             [
              0.1111111111111111,
              "#46039f"
             ],
             [
              0.2222222222222222,
              "#7201a8"
             ],
             [
              0.3333333333333333,
              "#9c179e"
             ],
             [
              0.4444444444444444,
              "#bd3786"
             ],
             [
              0.5555555555555556,
              "#d8576b"
             ],
             [
              0.6666666666666666,
              "#ed7953"
             ],
             [
              0.7777777777777778,
              "#fb9f3a"
             ],
             [
              0.8888888888888888,
              "#fdca26"
             ],
             [
              1,
              "#f0f921"
             ]
            ],
            "type": "heatmap"
           }
          ],
          "histogram": [
           {
            "marker": {
             "pattern": {
              "fillmode": "overlay",
              "size": 10,
              "solidity": 0.2
             }
            },
            "type": "histogram"
           }
          ],
          "histogram2d": [
           {
            "colorbar": {
             "outlinewidth": 0,
             "ticks": ""
            },
            "colorscale": [
             [
              0,
              "#0d0887"
             ],
             [
              0.1111111111111111,
              "#46039f"
             ],
             [
              0.2222222222222222,
              "#7201a8"
             ],
             [
              0.3333333333333333,
              "#9c179e"
             ],
             [
              0.4444444444444444,
              "#bd3786"
             ],
             [
              0.5555555555555556,
              "#d8576b"
             ],
             [
              0.6666666666666666,
              "#ed7953"
             ],
             [
              0.7777777777777778,
              "#fb9f3a"
             ],
             [
              0.8888888888888888,
              "#fdca26"
             ],
             [
              1,
              "#f0f921"
             ]
            ],
            "type": "histogram2d"
           }
          ],
          "histogram2dcontour": [
           {
            "colorbar": {
             "outlinewidth": 0,
             "ticks": ""
            },
            "colorscale": [
             [
              0,
              "#0d0887"
             ],
             [
              0.1111111111111111,
              "#46039f"
             ],
             [
              0.2222222222222222,
              "#7201a8"
             ],
             [
              0.3333333333333333,
              "#9c179e"
             ],
             [
              0.4444444444444444,
              "#bd3786"
             ],
             [
              0.5555555555555556,
              "#d8576b"
             ],
             [
              0.6666666666666666,
              "#ed7953"
             ],
             [
              0.7777777777777778,
              "#fb9f3a"
             ],
             [
              0.8888888888888888,
              "#fdca26"
             ],
             [
              1,
              "#f0f921"
             ]
            ],
            "type": "histogram2dcontour"
           }
          ],
          "mesh3d": [
           {
            "colorbar": {
             "outlinewidth": 0,
             "ticks": ""
            },
            "type": "mesh3d"
           }
          ],
          "parcoords": [
           {
            "line": {
             "colorbar": {
              "outlinewidth": 0,
              "ticks": ""
             }
            },
            "type": "parcoords"
           }
          ],
          "pie": [
           {
            "automargin": true,
            "type": "pie"
           }
          ],
          "scatter": [
           {
            "fillpattern": {
             "fillmode": "overlay",
             "size": 10,
             "solidity": 0.2
            },
            "type": "scatter"
           }
          ],
          "scatter3d": [
           {
            "line": {
             "colorbar": {
              "outlinewidth": 0,
              "ticks": ""
             }
            },
            "marker": {
             "colorbar": {
              "outlinewidth": 0,
              "ticks": ""
             }
            },
            "type": "scatter3d"
           }
          ],
          "scattercarpet": [
           {
            "marker": {
             "colorbar": {
              "outlinewidth": 0,
              "ticks": ""
             }
            },
            "type": "scattercarpet"
           }
          ],
          "scattergeo": [
           {
            "marker": {
             "colorbar": {
              "outlinewidth": 0,
              "ticks": ""
             }
            },
            "type": "scattergeo"
           }
          ],
          "scattergl": [
           {
            "marker": {
             "colorbar": {
              "outlinewidth": 0,
              "ticks": ""
             }
            },
            "type": "scattergl"
           }
          ],
          "scattermap": [
           {
            "marker": {
             "colorbar": {
              "outlinewidth": 0,
              "ticks": ""
             }
            },
            "type": "scattermap"
           }
          ],
          "scattermapbox": [
           {
            "marker": {
             "colorbar": {
              "outlinewidth": 0,
              "ticks": ""
             }
            },
            "type": "scattermapbox"
           }
          ],
          "scatterpolar": [
           {
            "marker": {
             "colorbar": {
              "outlinewidth": 0,
              "ticks": ""
             }
            },
            "type": "scatterpolar"
           }
          ],
          "scatterpolargl": [
           {
            "marker": {
             "colorbar": {
              "outlinewidth": 0,
              "ticks": ""
             }
            },
            "type": "scatterpolargl"
           }
          ],
          "scatterternary": [
           {
            "marker": {
             "colorbar": {
              "outlinewidth": 0,
              "ticks": ""
             }
            },
            "type": "scatterternary"
           }
          ],
          "surface": [
           {
            "colorbar": {
             "outlinewidth": 0,
             "ticks": ""
            },
            "colorscale": [
             [
              0,
              "#0d0887"
             ],
             [
              0.1111111111111111,
              "#46039f"
             ],
             [
              0.2222222222222222,
              "#7201a8"
             ],
             [
              0.3333333333333333,
              "#9c179e"
             ],
             [
              0.4444444444444444,
              "#bd3786"
             ],
             [
              0.5555555555555556,
              "#d8576b"
             ],
             [
              0.6666666666666666,
              "#ed7953"
             ],
             [
              0.7777777777777778,
              "#fb9f3a"
             ],
             [
              0.8888888888888888,
              "#fdca26"
             ],
             [
              1,
              "#f0f921"
             ]
            ],
            "type": "surface"
           }
          ],
          "table": [
           {
            "cells": {
             "fill": {
              "color": "#EBF0F8"
             },
             "line": {
              "color": "white"
             }
            },
            "header": {
             "fill": {
              "color": "#C8D4E3"
             },
             "line": {
              "color": "white"
             }
            },
            "type": "table"
           }
          ]
         },
         "layout": {
          "annotationdefaults": {
           "arrowcolor": "#2a3f5f",
           "arrowhead": 0,
           "arrowwidth": 1
          },
          "autotypenumbers": "strict",
          "coloraxis": {
           "colorbar": {
            "outlinewidth": 0,
            "ticks": ""
           }
          },
          "colorscale": {
           "diverging": [
            [
             0,
             "#8e0152"
            ],
            [
             0.1,
             "#c51b7d"
            ],
            [
             0.2,
             "#de77ae"
            ],
            [
             0.3,
             "#f1b6da"
            ],
            [
             0.4,
             "#fde0ef"
            ],
            [
             0.5,
             "#f7f7f7"
            ],
            [
             0.6,
             "#e6f5d0"
            ],
            [
             0.7,
             "#b8e186"
            ],
            [
             0.8,
             "#7fbc41"
            ],
            [
             0.9,
             "#4d9221"
            ],
            [
             1,
             "#276419"
            ]
           ],
           "sequential": [
            [
             0,
             "#0d0887"
            ],
            [
             0.1111111111111111,
             "#46039f"
            ],
            [
             0.2222222222222222,
             "#7201a8"
            ],
            [
             0.3333333333333333,
             "#9c179e"
            ],
            [
             0.4444444444444444,
             "#bd3786"
            ],
            [
             0.5555555555555556,
             "#d8576b"
            ],
            [
             0.6666666666666666,
             "#ed7953"
            ],
            [
             0.7777777777777778,
             "#fb9f3a"
            ],
            [
             0.8888888888888888,
             "#fdca26"
            ],
            [
             1,
             "#f0f921"
            ]
           ],
           "sequentialminus": [
            [
             0,
             "#0d0887"
            ],
            [
             0.1111111111111111,
             "#46039f"
            ],
            [
             0.2222222222222222,
             "#7201a8"
            ],
            [
             0.3333333333333333,
             "#9c179e"
            ],
            [
             0.4444444444444444,
             "#bd3786"
            ],
            [
             0.5555555555555556,
             "#d8576b"
            ],
            [
             0.6666666666666666,
             "#ed7953"
            ],
            [
             0.7777777777777778,
             "#fb9f3a"
            ],
            [
             0.8888888888888888,
             "#fdca26"
            ],
            [
             1,
             "#f0f921"
            ]
           ]
          },
          "colorway": [
           "#636efa",
           "#EF553B",
           "#00cc96",
           "#ab63fa",
           "#FFA15A",
           "#19d3f3",
           "#FF6692",
           "#B6E880",
           "#FF97FF",
           "#FECB52"
          ],
          "font": {
           "color": "#2a3f5f"
          },
          "geo": {
           "bgcolor": "white",
           "lakecolor": "white",
           "landcolor": "#E5ECF6",
           "showlakes": true,
           "showland": true,
           "subunitcolor": "white"
          },
          "hoverlabel": {
           "align": "left"
          },
          "hovermode": "closest",
          "mapbox": {
           "style": "light"
          },
          "paper_bgcolor": "white",
          "plot_bgcolor": "#E5ECF6",
          "polar": {
           "angularaxis": {
            "gridcolor": "white",
            "linecolor": "white",
            "ticks": ""
           },
           "bgcolor": "#E5ECF6",
           "radialaxis": {
            "gridcolor": "white",
            "linecolor": "white",
            "ticks": ""
           }
          },
          "scene": {
           "xaxis": {
            "backgroundcolor": "#E5ECF6",
            "gridcolor": "white",
            "gridwidth": 2,
            "linecolor": "white",
            "showbackground": true,
            "ticks": "",
            "zerolinecolor": "white"
           },
           "yaxis": {
            "backgroundcolor": "#E5ECF6",
            "gridcolor": "white",
            "gridwidth": 2,
            "linecolor": "white",
            "showbackground": true,
            "ticks": "",
            "zerolinecolor": "white"
           },
           "zaxis": {
            "backgroundcolor": "#E5ECF6",
            "gridcolor": "white",
            "gridwidth": 2,
            "linecolor": "white",
            "showbackground": true,
            "ticks": "",
            "zerolinecolor": "white"
           }
          },
          "shapedefaults": {
           "line": {
            "color": "#2a3f5f"
           }
          },
          "ternary": {
           "aaxis": {
            "gridcolor": "white",
            "linecolor": "white",
            "ticks": ""
           },
           "baxis": {
            "gridcolor": "white",
            "linecolor": "white",
            "ticks": ""
           },
           "bgcolor": "#E5ECF6",
           "caxis": {
            "gridcolor": "white",
            "linecolor": "white",
            "ticks": ""
           }
          },
          "title": {
           "x": 0.05
          },
          "xaxis": {
           "automargin": true,
           "gridcolor": "white",
           "linecolor": "white",
           "ticks": "",
           "title": {
            "standoff": 15
           },
           "zerolinecolor": "white",
           "zerolinewidth": 2
          },
          "yaxis": {
           "automargin": true,
           "gridcolor": "white",
           "linecolor": "white",
           "ticks": "",
           "title": {
            "standoff": 15
           },
           "zerolinecolor": "white",
           "zerolinewidth": 2
          }
         }
        },
        "title": {
         "text": "Boxplot of total_points with Outliers Hover Info"
        },
        "xaxis": {
         "anchor": "y",
         "domain": [
          0,
          1
         ],
         "title": {
          "text": ""
         }
        },
        "yaxis": {
         "anchor": "x",
         "domain": [
          0,
          1
         ],
         "title": {
          "text": "total_points"
         }
        }
       }
      }
     },
     "metadata": {},
     "output_type": "display_data"
    }
   ],
   "source": [
    "plot_box_with_hover(p_unique_df, col='total_points', id_col='player_name')\n"
   ]
  },
  {
   "cell_type": "markdown",
   "id": "cee96c3c",
   "metadata": {},
   "source": [
    "## Bivariate Analysis of Round Points"
   ]
  },
  {
   "cell_type": "markdown",
   "id": "256d7c18",
   "metadata": {},
   "source": [
    "### Numerical Features"
   ]
  },
  {
   "cell_type": "markdown",
   "id": "cf5b36cc",
   "metadata": {},
   "source": [
    "#### Correlation Matrix"
   ]
  },
  {
   "cell_type": "code",
   "execution_count": 197,
   "id": "ab26a951",
   "metadata": {},
   "outputs": [
    {
     "data": {
      "text/html": [
       "<pre style=\"white-space:pre;overflow-x:auto;line-height:normal;font-family:Menlo,'DejaVu Sans Mono',consolas,'Courier New',monospace\"></pre>\n"
      ],
      "text/plain": []
     },
     "metadata": {},
     "output_type": "display_data"
    },
    {
     "data": {
      "image/png": "[encoded data removed]",
      "text/plain": [
       "\u001b[1m<\u001b[0m\u001b[1;95mFigure\u001b[0m\u001b[39m size 80\u001b[0m\u001b[1;36m0x600\u001b[0m\u001b[39m with \u001b[0m\u001b[1;36m2\u001b[0m\u001b[39m Axes\u001b[0m\u001b[1m>\u001b[0m"
      ]
     },
     "metadata": {},
     "output_type": "display_data"
    }
   ],
   "source": [
    "numerical_feature_cols = [\n",
    "    'accumulated_minutes',\n",
    "    'transfers_in',\n",
    "    'ict_index',\n",
    "    'selected_by_percent'\n",
    "]\n",
    "target_col = 'next_week_round_points'\n",
    "\n",
    "# Select relevant columns\n",
    "corr_df = model_df[numerical_feature_cols + [target_col]]\n",
    "\n",
    "# Compute correlation matrix\n",
    "corr_matrix = corr_df.corr()\n",
    "\n",
    "# Plot heatmap\n",
    "plt.figure(figsize=(8, 6))\n",
    "sns.heatmap(corr_matrix, annot=True, fmt=\".2f\", cmap=\"coolwarm\", cbar=True)\n",
    "plt.title(\"Correlation Matrix\")\n",
    "plt.show()\n"
   ]
  },
  {
   "cell_type": "code",
   "execution_count": 198,
   "id": "618848e0",
   "metadata": {},
   "outputs": [
    {
     "data": {
      "text/html": [
       "<pre style=\"white-space:pre;overflow-x:auto;line-height:normal;font-family:Menlo,'DejaVu Sans Mono',consolas,'Courier New',monospace\"></pre>\n"
      ],
      "text/plain": []
     },
     "metadata": {},
     "output_type": "display_data"
    },
    {
     "data": {
      "image/png": "[encoded data removed]",
      "text/plain": [
       "\u001b[1m<\u001b[0m\u001b[1;95mFigure\u001b[0m\u001b[39m size 60\u001b[0m\u001b[1;36m0x400\u001b[0m\u001b[39m with \u001b[0m\u001b[1;36m1\u001b[0m\u001b[39m Axes\u001b[0m\u001b[1m>\u001b[0m"
      ]
     },
     "metadata": {},
     "output_type": "display_data"
    },
    {
     "data": {
      "text/html": [
       "<pre style=\"white-space:pre;overflow-x:auto;line-height:normal;font-family:Menlo,'DejaVu Sans Mono',consolas,'Courier New',monospace\"></pre>\n"
      ],
      "text/plain": []
     },
     "metadata": {},
     "output_type": "display_data"
    },
    {
     "data": {
      "image/png": "[encoded data removed]",
      "text/plain": [
       "\u001b[1m<\u001b[0m\u001b[1;95mFigure\u001b[0m\u001b[39m size 60\u001b[0m\u001b[1;36m0x400\u001b[0m\u001b[39m with \u001b[0m\u001b[1;36m1\u001b[0m\u001b[39m Axes\u001b[0m\u001b[1m>\u001b[0m"
      ]
     },
     "metadata": {},
     "output_type": "display_data"
    },
    {
     "data": {
      "text/html": [
       "<pre style=\"white-space:pre;overflow-x:auto;line-height:normal;font-family:Menlo,'DejaVu Sans Mono',consolas,'Courier New',monospace\"></pre>\n"
      ],
      "text/plain": []
     },
     "metadata": {},
     "output_type": "display_data"
    },
    {
     "data": {
      "image/png": "[encoded data removed]",
      "text/plain": [
       "\u001b[1m<\u001b[0m\u001b[1;95mFigure\u001b[0m\u001b[39m size 60\u001b[0m\u001b[1;36m0x400\u001b[0m\u001b[39m with \u001b[0m\u001b[1;36m1\u001b[0m\u001b[39m Axes\u001b[0m\u001b[1m>\u001b[0m"
      ]
     },
     "metadata": {},
     "output_type": "display_data"
    },
    {
     "data": {
      "text/html": [
       "<pre style=\"white-space:pre;overflow-x:auto;line-height:normal;font-family:Menlo,'DejaVu Sans Mono',consolas,'Courier New',monospace\"></pre>\n"
      ],
      "text/plain": []
     },
     "metadata": {},
     "output_type": "display_data"
    },
    {
     "data": {
      "image/png": "[encoded data removed]",
      "text/plain": [
       "\u001b[1m<\u001b[0m\u001b[1;95mFigure\u001b[0m\u001b[39m size 60\u001b[0m\u001b[1;36m0x400\u001b[0m\u001b[39m with \u001b[0m\u001b[1;36m1\u001b[0m\u001b[39m Axes\u001b[0m\u001b[1m>\u001b[0m"
      ]
     },
     "metadata": {},
     "output_type": "display_data"
    }
   ],
   "source": [
    "for feature in numerical_feature_cols:\n",
    "    plt.figure(figsize=(6, 4))\n",
    "    sns.scatterplot(x=feature, y=target_col, data=model_df, alpha=0.6)\n",
    "    plt.title(f\"{feature} vs {target_col}\")\n",
    "    plt.xlabel(feature)\n",
    "    plt.ylabel(target_col)\n",
    "    plt.tight_layout()\n",
    "    plt.show()"
   ]
  },
  {
   "cell_type": "markdown",
   "id": "82b7bc7e",
   "metadata": {},
   "source": [
    "### Categorial Features"
   ]
  },
  {
   "cell_type": "code",
   "execution_count": 199,
   "id": "eb2b0eeb",
   "metadata": {},
   "outputs": [],
   "source": [
    "categorical_feature_cols = [\n",
    "    'next_week_was_home',\n",
    "    'players_team',\n",
    "    'next_week_opponent_team',\n",
    "    'position_name',\n",
    "]\n",
    "target_col = 'next_week_round_points'\n"
   ]
  },
  {
   "cell_type": "code",
   "execution_count": 200,
   "id": "f13ea0c8",
   "metadata": {},
   "outputs": [
    {
     "data": {
      "text/html": [
       "<pre style=\"white-space:pre;overflow-x:auto;line-height:normal;font-family:Menlo,'DejaVu Sans Mono',consolas,'Courier New',monospace\"></pre>\n"
      ],
      "text/plain": []
     },
     "metadata": {},
     "output_type": "display_data"
    },
    {
     "data": {
      "image/png": "[encoded data removed]",
      "text/plain": [
       "\u001b[1m<\u001b[0m\u001b[1;95mFigure\u001b[0m\u001b[39m size 70\u001b[0m\u001b[1;36m0x400\u001b[0m\u001b[39m with \u001b[0m\u001b[1;36m1\u001b[0m\u001b[39m Axes\u001b[0m\u001b[1m>\u001b[0m"
      ]
     },
     "metadata": {},
     "output_type": "display_data"
    },
    {
     "data": {
      "text/html": [
       "<pre style=\"white-space:pre;overflow-x:auto;line-height:normal;font-family:Menlo,'DejaVu Sans Mono',consolas,'Courier New',monospace\"></pre>\n"
      ],
      "text/plain": []
     },
     "metadata": {},
     "output_type": "display_data"
    },
    {
     "data": {
      "image/png": "[encoded data removed]",
      "text/plain": [
       "\u001b[1m<\u001b[0m\u001b[1;95mFigure\u001b[0m\u001b[39m size 70\u001b[0m\u001b[1;36m0x400\u001b[0m\u001b[39m with \u001b[0m\u001b[1;36m1\u001b[0m\u001b[39m Axes\u001b[0m\u001b[1m>\u001b[0m"
      ]
     },
     "metadata": {},
     "output_type": "display_data"
    },
    {
     "data": {
      "text/html": [
       "<pre style=\"white-space:pre;overflow-x:auto;line-height:normal;font-family:Menlo,'DejaVu Sans Mono',consolas,'Courier New',monospace\"></pre>\n"
      ],
      "text/plain": []
     },
     "metadata": {},
     "output_type": "display_data"
    },
    {
     "data": {
      "image/png": "[encoded data removed]",
      "text/plain": [
       "\u001b[1m<\u001b[0m\u001b[1;95mFigure\u001b[0m\u001b[39m size 70\u001b[0m\u001b[1;36m0x400\u001b[0m\u001b[39m with \u001b[0m\u001b[1;36m1\u001b[0m\u001b[39m Axes\u001b[0m\u001b[1m>\u001b[0m"
      ]
     },
     "metadata": {},
     "output_type": "display_data"
    },
    {
     "data": {
      "text/html": [
       "<pre style=\"white-space:pre;overflow-x:auto;line-height:normal;font-family:Menlo,'DejaVu Sans Mono',consolas,'Courier New',monospace\"></pre>\n"
      ],
      "text/plain": []
     },
     "metadata": {},
     "output_type": "display_data"
    },
    {
     "data": {
      "image/png": "[encoded data removed]",
      "text/plain": [
       "\u001b[1m<\u001b[0m\u001b[1;95mFigure\u001b[0m\u001b[39m size 70\u001b[0m\u001b[1;36m0x400\u001b[0m\u001b[39m with \u001b[0m\u001b[1;36m1\u001b[0m\u001b[39m Axes\u001b[0m\u001b[1m>\u001b[0m"
      ]
     },
     "metadata": {},
     "output_type": "display_data"
    },
    {
     "data": {
      "text/html": [
       "<pre style=\"white-space:pre;overflow-x:auto;line-height:normal;font-family:Menlo,'DejaVu Sans Mono',consolas,'Courier New',monospace\"></pre>\n"
      ],
      "text/plain": []
     },
     "metadata": {},
     "output_type": "display_data"
    },
    {
     "data": {
      "text/html": [
       "<div>\n",
       "<style scoped>\n",
       "    .dataframe tbody tr th:only-of-type {\n",
       "        vertical-align: middle;\n",
       "    }\n",
       "\n",
       "    .dataframe tbody tr th {\n",
       "        vertical-align: top;\n",
       "    }\n",
       "\n",
       "    .dataframe thead th {\n",
       "        text-align: right;\n",
       "    }\n",
       "</style>\n",
       "<table border=\"1\" class=\"dataframe\">\n",
       "  <thead>\n",
       "    <tr style=\"text-align: right;\">\n",
       "      <th></th>\n",
       "      <th>feature</th>\n",
       "      <th>F_value</th>\n",
       "      <th>p_value</th>\n",
       "    </tr>\n",
       "  </thead>\n",
       "  <tbody>\n",
       "    <tr>\n",
       "      <th>0</th>\n",
       "      <td>next_week_was_home</td>\n",
       "      <td>7.847887</td>\n",
       "      <td>0.005111</td>\n",
       "    </tr>\n",
       "    <tr>\n",
       "      <th>3</th>\n",
       "      <td>position_name</td>\n",
       "      <td>7.593823</td>\n",
       "      <td>0.000046</td>\n",
       "    </tr>\n",
       "    <tr>\n",
       "      <th>1</th>\n",
       "      <td>players_team</td>\n",
       "      <td>2.538545</td>\n",
       "      <td>0.000252</td>\n",
       "    </tr>\n",
       "    <tr>\n",
       "      <th>2</th>\n",
       "      <td>next_week_opponent_team</td>\n",
       "      <td>1.533698</td>\n",
       "      <td>0.064437</td>\n",
       "    </tr>\n",
       "  </tbody>\n",
       "</table>\n",
       "</div>"
      ],
      "text/plain": [
       "\n",
       "                   feature   F_value   p_value\n",
       "\u001b[1;36m0\u001b[0m       next_week_was_home  \u001b[1;36m7.847887\u001b[0m  \u001b[1;36m0.005111\u001b[0m\n",
       "\u001b[1;36m3\u001b[0m            position_name  \u001b[1;36m7.593823\u001b[0m  \u001b[1;36m0.000046\u001b[0m\n",
       "\u001b[1;36m1\u001b[0m             players_team  \u001b[1;36m2.538545\u001b[0m  \u001b[1;36m0.000252\u001b[0m\n",
       "\u001b[1;36m2\u001b[0m  next_week_opponent_team  \u001b[1;36m1.533698\u001b[0m  \u001b[1;36m0.064437\u001b[0m"
      ]
     },
     "execution_count": 200,
     "metadata": {},
     "output_type": "execute_result"
    }
   ],
   "source": [
    "anova_results = []\n",
    "\n",
    "for col in categorical_feature_cols:\n",
    "    # --- ANOVA test ---\n",
    "    groups = [model_df[model_df[col] == cat][target_col] for cat in model_df[col].unique()]\n",
    "    f_val, p_val = f_oneway(*groups)\n",
    "    anova_results.append({'feature': col, 'F_value': f_val, 'p_value': p_val})\n",
    "\n",
    "    # --- Boxplot ---\n",
    "    plt.figure(figsize=(7, 4))\n",
    "    sns.boxplot(x=col, y=target_col, data=model_df)\n",
    "    plt.title(f\"{col} vs {target_col}\\nANOVA F={f_val:.2f}, p={p_val:.3g}\")\n",
    "    plt.xticks(rotation=45)\n",
    "    plt.tight_layout()\n",
    "    plt.show()\n",
    "\n",
    "anova_df = pd.DataFrame(anova_results).sort_values('F_value', ascending=False)\n",
    "anova_df"
   ]
  },
  {
   "cell_type": "markdown",
   "id": "a81de469",
   "metadata": {},
   "source": [
    "All features accept next week opponent team prove statistically singificant difference at > 99% confidence while next week opponent team proves at >90% confidence"
   ]
  },
  {
   "cell_type": "markdown",
   "id": "afb0f00d",
   "metadata": {},
   "source": [
    "# Modelling"
   ]
  },
  {
   "cell_type": "markdown",
   "id": "b764f709",
   "metadata": {},
   "source": [
    "## Prepare Train and Test Dataframes"
   ]
  },
  {
   "cell_type": "code",
   "execution_count": 201,
   "id": "63c3e81f",
   "metadata": {},
   "outputs": [
    {
     "name": "stdout",
     "output_type": "stream",
     "text": [
      "We have up to gameweek 7 available which means we can use up to gameweek 4 for modelling\n"
     ]
    }
   ],
   "source": [
    "print(f'We have up to gameweek {model_df['round'].max()+1} available which means we can use up to gameweek {model_df['round'].max()-2} for modelling')"
   ]
  },
  {
   "cell_type": "code",
   "execution_count": 202,
   "id": "2ee13646",
   "metadata": {},
   "outputs": [],
   "source": [
    "def prepare_df_at_gameweek(current_gameweek, arg_df, num_forecasted_games=3, \n",
    "                           target_col='next_week_round_points', num_test_gameweeks=1):\n",
    "    \"\"\"\n",
    "    Build a dataset for a given gameweek, using features from each past gameweek to predict\n",
    "    total points over the next `num_forecasted_games` gameweeks.\n",
    "\n",
    "    The most recent `num_test_gameweeks` will be returned as test set, rest as training set.\n",
    "\n",
    "    Returns:\n",
    "        train_df, test_df\n",
    "    \"\"\"\n",
    "\n",
    "    max_gw_in_data = arg_df['round'].max()+1\n",
    "\n",
    "    # --- Sanity checks ---\n",
    "    if current_gameweek > max_gw_in_data:\n",
    "        raise ValueError(f\"current_gameweek={current_gameweek} is beyond max round in data ({max_gw_in_data}).\")\n",
    "\n",
    "    if current_gameweek + num_forecasted_games > max_gw_in_data:\n",
    "        raise ValueError(\n",
    "            f\"Not enough future gameweeks after GW{current_gameweek} \"\n",
    "            f\"to forecast {num_forecasted_games} games. \"\n",
    "            f\"Max available GW is {max_gw_in_data}.\"\n",
    "        )\n",
    "\n",
    "    Xs = []\n",
    "\n",
    "    # Go backwards from current_gameweek down to 1\n",
    "    for gw in range(current_gameweek, 0, -1):\n",
    "        curr_X = arg_df[arg_df['round'] == gw].copy()\n",
    "\n",
    "        # Define next gameweeks to sum for target\n",
    "        next_weeks = list(range(gw + 1, gw + 1 + num_forecasted_games))\n",
    "\n",
    "        # Stop early if any next week exceeds available rounds\n",
    "        if any(nw > max_gw_in_data for nw in next_weeks):\n",
    "            continue  # skip gameweeks without full future info\n",
    "\n",
    "        target_data = arg_df[arg_df['round'].isin(next_weeks)][['player_id', target_col]]\n",
    "\n",
    "        # Sum future points per player\n",
    "        curr_y = target_data.groupby('player_id')[target_col].sum().reset_index(name='target')\n",
    "\n",
    "        # Merge features and target\n",
    "        merged = pd.merge(curr_X, curr_y, on='player_id', how='inner')\n",
    "        merged['source_gw'] = gw\n",
    "        Xs.append(merged)\n",
    "\n",
    "    if not Xs:\n",
    "        raise ValueError(\n",
    "            f\"No valid gameweeks to process for current_gameweek={current_gameweek} \"\n",
    "            f\"and num_forecasted_games={num_forecasted_games}. Try reducing num_forecasted_games.\"\n",
    "        )\n",
    "\n",
    "    # Combine all GWs\n",
    "    df_all = pd.concat(Xs, ignore_index=True)\n",
    "\n",
    "    # Split into train/test\n",
    "    max_gw = df_all['source_gw'].max()\n",
    "    test_gws = list(range(max_gw, max_gw - num_test_gameweeks, -1))\n",
    "\n",
    "    test_df = df_all[df_all['source_gw'].isin(test_gws)].reset_index(drop=True)\n",
    "    train_df = df_all[~df_all['source_gw'].isin(test_gws)].reset_index(drop=True)\n",
    "\n",
    "    # Return None if no training data\n",
    "    if train_df.empty:\n",
    "        train_df = None\n",
    "\n",
    "    return train_df, test_df\n"
   ]
  },
  {
   "cell_type": "code",
   "execution_count": 203,
   "id": "e08db9fd",
   "metadata": {},
   "outputs": [],
   "source": [
    "train_df, test_df = prepare_df_at_gameweek(current_gameweek=4, arg_df=model_df)\n",
    "                       "
   ]
  },
  {
   "cell_type": "markdown",
   "id": "3a570994",
   "metadata": {},
   "source": [
    "# Model Selection and Evaluation"
   ]
  },
  {
   "cell_type": "code",
   "execution_count": 204,
   "id": "7dc53c14",
   "metadata": {},
   "outputs": [],
   "source": [
    "features = numerical_feature_cols+categorical_feature_cols"
   ]
  },
  {
   "cell_type": "markdown",
   "id": "dba44416",
   "metadata": {},
   "source": [
    "## Walk Forward Cross Validation"
   ]
  },
  {
   "cell_type": "code",
   "execution_count": 205,
   "id": "9fb036e8",
   "metadata": {},
   "outputs": [],
   "source": [
    "def train_test_split(train_df, test_df, features, target):\n",
    "\n",
    "    return train_df[features], train_df[target_col], test_df[features], test_df[target_col]"
   ]
  },
  {
   "cell_type": "code",
   "execution_count": null,
   "id": "132976b5",
   "metadata": {},
   "outputs": [],
   "source": [
    "from sklearn.compose import ColumnTransformer\n",
    "from sklearn.pipeline import Pipeline\n",
    "from sklearn.preprocessing import RobustScaler, OneHotEncoder\n",
    "from sklearn.linear_model import ElasticNet, PoissonRegressor, Ridge\n",
    "from sklearn.ensemble import RandomForestRegressor, GradientBoostingRegressor\n",
    "from xgboost import XGBRegressor\n",
    "from lightgbm import LGBMRegressor\n",
    "from catboost import CatBoostRegressor\n",
    "from sklearn.neighbors import KNeighborsRegressor\n",
    "from sklearn.model_selection import TimeSeriesSplit\n",
    "from skopt import BayesSearchCV\n",
    "from sklearn.metrics import r2_score, mean_absolute_error, mean_squared_error, root_mean_squared_error\n",
    "import numpy as np\n",
    "import pandas as pd\n",
    "from skopt.space import Real, Integer, Categorical\n",
    "\n",
    "# FEATURES\n",
    "\n",
    "all_features = numerical_feature_cols + categorical_feature_cols\n",
    "\n",
    "# COLUMN TRANSFORMER\n",
    "preprocessor = ColumnTransformer(\n",
    "    transformers=[\n",
    "        (\"num\", RobustScaler(), numerical_feature_cols),\n",
    "        (\"cat\", OneHotEncoder(handle_unknown='ignore'), categorical_feature_cols)\n",
    "    ]\n",
    ")\n",
    "\n",
    "# MODELS AND PARAM SPACES\n",
    "models = {\n",
    "    # \"ElasticNet\": {\n",
    "    #     \"model\": ElasticNet(),\n",
    "    #     \"param_space\": {\n",
    "    #         \"model__alpha\": (0.01, 10.0, \"log-uniform\"),\n",
    "    #         \"model__l1_ratio\": (0.0, 1.0)\n",
    "    #     },\n",
    "    #     \"scale\": True\n",
    "    # },\n",
    "    # \"Ridge\": {\n",
    "    #     \"model\": Ridge(),\n",
    "    #     \"param_space\": {\"model__alpha\": (0.01, 10.0, \"log-uniform\")},\n",
    "    #     \"scale\": True\n",
    "    # },\n",
    "    # \"PoissonRegressor\": {\n",
    "    #     \"model\": PoissonRegressor(max_iter=200),\n",
    "    #     \"param_space\": {\"model__alpha\": (0.0, 1.0)},\n",
    "    #     \"scale\": True\n",
    "    # },\n",
    "    # \"KNN\": {\n",
    "    #     \"model\": KNeighborsRegressor(),\n",
    "    #     \"param_space\": {\"model__n_neighbors\": (2, 20)},\n",
    "    #     \"scale\": True\n",
    "    # },\n",
    "    # \"RandomForestRegressor\": {\n",
    "    #     \"model\": RandomForestRegressor(random_state=42),\n",
    "    #     \"param_space\": {\"model__n_estimators\": (50, 300), \"model__max_depth\": (3, 15)},\n",
    "    #     \"scale\": False\n",
    "    # },\n",
    "    \"GradientBoostingRegressor\": {\n",
    "        \"model\": GradientBoostingRegressor(random_state=42),\n",
    "        \"param_space\": {\n",
    "    \"model__n_estimators\": Integer(50, 1000),\n",
    "    \"model__max_depth\": Integer(2, 15),\n",
    "    \"model__learning_rate\": Real(1e-3, 0.5, prior=\"log-uniform\"),\n",
    "    \"model__min_samples_split\": Integer(2, 50),\n",
    "    \"model__min_samples_leaf\": Integer(1, 50),\n",
    "    \"model__subsample\": Real(0.5, 1.0),\n",
    "    \"model__max_features\": Categorical([\"sqrt\", \"log2\", None]),\n",
    "    \"model__loss\": Categorical([\"squared_error\", \"huber\", \"absolute_error\"]),\n",
    "    \"model__alpha\": Real(0.7, 0.99)\n",
    "},\n",
    "        \"scale\": False\n",
    "    },\n",
    "    \"XGBRegressor\": {\n",
    "        \"model\": XGBRegressor(objective='reg:squarederror', random_state=42),\n",
    "        \"param_space\": {\n",
    "    \"model__n_estimators\": Integer(50, 2000),\n",
    "    \"model__max_depth\": Integer(2, 15),\n",
    "    \"model__learning_rate\": Real(5e-4, 0.5, prior=\"log-uniform\"),\n",
    "    \"model__subsample\": Real(0.4, 1.0),\n",
    "    \"model__colsample_bytree\": Real(0.4, 1.0),\n",
    "    \"model__colsample_bylevel\": Real(0.4, 1.0),\n",
    "    \"model__reg_alpha\": Real(1e-8, 100.0, prior=\"log-uniform\"),\n",
    "    \"model__reg_lambda\": Real(1e-8, 100.0, prior=\"log-uniform\"),\n",
    "    \"model__min_child_weight\": Integer(1, 20),\n",
    "    \"model__gamma\": Real(0.0, 10.0),\n",
    "    \"model__booster\": Categorical([\"gbtree\"])\n",
    "},\n",
    "        \"scale\": False\n",
    "    },\n",
    "    # \"LGBMRegressor\": {\n",
    "    #     \"model\": LGBMRegressor(random_state=42),\n",
    "    #     \"param_space\": {\"model__n_estimators\": (50, 300), \"model__max_depth\": (3, 15), \"model__learning_rate\": (0.01, 0.3, \"log-uniform\")},\n",
    "    #     \"scale\": False\n",
    "    # },\n",
    "    # \"CatBoostRegressor\": {\n",
    "    #     \"model\": CatBoostRegressor(random_state=42, verbose=0),\n",
    "    #     \"param_space\": {\"model__iterations\": (50, 300), \"model__depth\": (3, 10), \"model__learning_rate\": (0.01, 0.3, \"log-uniform\")},\n",
    "    #     \"scale\": False\n",
    "    # }\n",
    "}\n",
    "\n",
    "# STORAGE FOR RESULTS\n",
    "results = []\n",
    "\n",
    "# NAIVE BASELINE: predict mean target from training set\n",
    "def naive_baseline(y_train, y_test):\n",
    "    pred = np.full_like(y_test, y_train.mean(), dtype=float)\n",
    "    return {\n",
    "        \"test_r2\": r2_score(y_test, pred),\n",
    "        \"test_mae\": mean_absolute_error(y_test, pred),\n",
    "        \"test_rmse\": root_mean_squared_error(y_test, pred),\n",
    "        \"test_mape\": np.mean(np.abs((y_test - pred)/y_test))*100\n",
    "    }\n",
    "\n",
    "# LOOP THROUGH GAMEWEEKS AND MODELS\n",
    "for gw in range(2, 5):  # example gameweeks\n",
    "    train_df, test_df = prepare_df_at_gameweek(current_gameweek=gw, arg_df=model_df)\n",
    "    \n",
    "    X_train = train_df[all_features]\n",
    "    y_train = train_df['target']\n",
    "    X_test = test_df[all_features]\n",
    "    y_test = test_df['target']\n",
    "    \n",
    "    # Add naive baseline first\n",
    "    naive_metrics = naive_baseline(y_train, y_test)\n",
    "    naive_metrics.update({\"model\": \"NaiveMean\", \"gameweek\": gw, \"best_params\": None})\n",
    "    results.append(naive_metrics)\n",
    "    \n",
    "    for model_name, mp in models.items():\n",
    "        # PIPELINE\n",
    "        if mp[\"scale\"]:\n",
    "            pipeline = Pipeline([(\"preprocessor\", preprocessor), (\"model\", mp[\"model\"])])\n",
    "        else:\n",
    "            preproc_no_scale = ColumnTransformer(\n",
    "                transformers=[(\"cat\", OneHotEncoder(handle_unknown=\"ignore\"), categorical_feature_cols)],\n",
    "                remainder=\"passthrough\"\n",
    "            )\n",
    "            pipeline = Pipeline([(\"preprocessor\", preproc_no_scale), (\"model\", mp[\"model\"])])\n",
    "        \n",
    "        # TIME SERIES SPLIT\n",
    "        tscv = TimeSeriesSplit(n_splits=max(2, gw-1))\n",
    "        \n",
    "        # BAYESIAN OPTIMIZATION\n",
    "        opt = BayesSearchCV(\n",
    "            estimator=pipeline,\n",
    "            search_spaces=mp[\"param_space\"],\n",
    "            cv=tscv,\n",
    "            n_iter=150,\n",
    "            scoring='neg_root_mean_squared_error',\n",
    "            n_jobs=-1,\n",
    "            random_state=42\n",
    "        )\n",
    "        \n",
    "        opt.fit(X_train, y_train)\n",
    "        y_pred_test = opt.best_estimator_.predict(X_test)\n",
    "        \n",
    "        results.append({\n",
    "            \"model\": model_name,\n",
    "            \"gameweek\": gw,\n",
    "            \"best_params\": opt.best_params_,\n",
    "            \"test_r2\": r2_score(y_test, y_pred_test),\n",
    "            \"test_rmse\": root_mean_squared_error(y_test, y_pred_test),\n",
    "            \"test_mae\": mean_absolute_error(y_test, y_pred_test),\n",
    "            \"test_mape\": np.mean(np.abs((y_test - y_pred_test)/y_test))*100\n",
    "        })\n",
    "\n",
    "# CONVERT RESULTS TO DATAFRAME\n",
    "results_df = pd.DataFrame(results)\n"
   ]
  },
  {
   "cell_type": "code",
   "execution_count": null,
   "id": "a226886a",
   "metadata": {},
   "outputs": [
    {
     "data": {
      "text/html": [
       "<pre style=\"white-space:pre;overflow-x:auto;line-height:normal;font-family:Menlo,'DejaVu Sans Mono',consolas,'Courier New',monospace\"></pre>\n"
      ],
      "text/plain": []
     },
     "metadata": {},
     "output_type": "display_data"
    },
    {
     "data": {
      "text/html": [
       "<div>\n",
       "<style scoped>\n",
       "    .dataframe tbody tr th:only-of-type {\n",
       "        vertical-align: middle;\n",
       "    }\n",
       "\n",
       "    .dataframe tbody tr th {\n",
       "        vertical-align: top;\n",
       "    }\n",
       "\n",
       "    .dataframe thead th {\n",
       "        text-align: right;\n",
       "    }\n",
       "</style>\n",
       "<table border=\"1\" class=\"dataframe\">\n",
       "  <thead>\n",
       "    <tr style=\"text-align: right;\">\n",
       "      <th></th>\n",
       "      <th>test_r2</th>\n",
       "      <th>test_mae</th>\n",
       "      <th>test_rmse</th>\n",
       "      <th>test_mape</th>\n",
       "      <th>model</th>\n",
       "      <th>gameweek</th>\n",
       "      <th>best_params</th>\n",
       "    </tr>\n",
       "  </thead>\n",
       "  <tbody>\n",
       "    <tr>\n",
       "      <th>5</th>\n",
       "      <td>0.520020</td>\n",
       "      <td>2.498285</td>\n",
       "      <td>3.775499</td>\n",
       "      <td>inf</td>\n",
       "      <td>GradientBoostingRegressor</td>\n",
       "      <td>2</td>\n",
       "      <td>{'model__learning_rate': 0.01597774786435076, ...</td>\n",
       "    </tr>\n",
       "    <tr>\n",
       "      <th>6</th>\n",
       "      <td>0.516104</td>\n",
       "      <td>2.478205</td>\n",
       "      <td>3.790866</td>\n",
       "      <td>inf</td>\n",
       "      <td>XGBRegressor</td>\n",
       "      <td>2</td>\n",
       "      <td>{'model__learning_rate': 0.016962221594166126,...</td>\n",
       "    </tr>\n",
       "    <tr>\n",
       "      <th>4</th>\n",
       "      <td>0.512819</td>\n",
       "      <td>2.510934</td>\n",
       "      <td>3.803713</td>\n",
       "      <td>inf</td>\n",
       "      <td>RandomForestRegressor</td>\n",
       "      <td>2</td>\n",
       "      <td>{'model__max_depth': 3, 'model__n_estimators':...</td>\n",
       "    </tr>\n",
       "    <tr>\n",
       "      <th>8</th>\n",
       "      <td>0.497553</td>\n",
       "      <td>2.564826</td>\n",
       "      <td>3.862850</td>\n",
       "      <td>inf</td>\n",
       "      <td>CatBoostRegressor</td>\n",
       "      <td>2</td>\n",
       "      <td>{'model__depth': 3, 'model__iterations': 241, ...</td>\n",
       "    </tr>\n",
       "    <tr>\n",
       "      <th>7</th>\n",
       "      <td>0.465591</td>\n",
       "      <td>2.557502</td>\n",
       "      <td>3.983820</td>\n",
       "      <td>inf</td>\n",
       "      <td>LGBMRegressor</td>\n",
       "      <td>2</td>\n",
       "      <td>{'model__learning_rate': 0.045401641878176635,...</td>\n",
       "    </tr>\n",
       "    <tr>\n",
       "      <th>3</th>\n",
       "      <td>0.449020</td>\n",
       "      <td>2.570618</td>\n",
       "      <td>4.045114</td>\n",
       "      <td>inf</td>\n",
       "      <td>KNN</td>\n",
       "      <td>2</td>\n",
       "      <td>{'model__n_neighbors': 7}</td>\n",
       "    </tr>\n",
       "    <tr>\n",
       "      <th>1</th>\n",
       "      <td>0.173553</td>\n",
       "      <td>3.457107</td>\n",
       "      <td>4.954160</td>\n",
       "      <td>inf</td>\n",
       "      <td>ElasticNet</td>\n",
       "      <td>2</td>\n",
       "      <td>{'model__alpha': 0.10481315701873967, 'model__...</td>\n",
       "    </tr>\n",
       "    <tr>\n",
       "      <th>2</th>\n",
       "      <td>0.156211</td>\n",
       "      <td>3.458413</td>\n",
       "      <td>5.005870</td>\n",
       "      <td>inf</td>\n",
       "      <td>Ridge</td>\n",
       "      <td>2</td>\n",
       "      <td>{'model__alpha': 8.565925757139402}</td>\n",
       "    </tr>\n",
       "    <tr>\n",
       "      <th>0</th>\n",
       "      <td>-0.001053</td>\n",
       "      <td>4.251859</td>\n",
       "      <td>5.452444</td>\n",
       "      <td>inf</td>\n",
       "      <td>NaiveMean</td>\n",
       "      <td>2</td>\n",
       "      <td>None</td>\n",
       "    </tr>\n",
       "    <tr>\n",
       "      <th>15</th>\n",
       "      <td>0.580305</td>\n",
       "      <td>2.208099</td>\n",
       "      <td>3.373606</td>\n",
       "      <td>inf</td>\n",
       "      <td>XGBRegressor</td>\n",
       "      <td>3</td>\n",
       "      <td>{'model__learning_rate': 0.29999999999999993, ...</td>\n",
       "    </tr>\n",
       "    <tr>\n",
       "      <th>14</th>\n",
       "      <td>0.541344</td>\n",
       "      <td>2.373554</td>\n",
       "      <td>3.526721</td>\n",
       "      <td>inf</td>\n",
       "      <td>GradientBoostingRegressor</td>\n",
       "      <td>3</td>\n",
       "      <td>{'model__learning_rate': 0.01, 'model__max_dep...</td>\n",
       "    </tr>\n",
       "    <tr>\n",
       "      <th>17</th>\n",
       "      <td>0.538450</td>\n",
       "      <td>2.333533</td>\n",
       "      <td>3.537830</td>\n",
       "      <td>inf</td>\n",
       "      <td>CatBoostRegressor</td>\n",
       "      <td>3</td>\n",
       "      <td>{'model__depth': 3, 'model__iterations': 280, ...</td>\n",
       "    </tr>\n",
       "    <tr>\n",
       "      <th>16</th>\n",
       "      <td>0.530980</td>\n",
       "      <td>2.365226</td>\n",
       "      <td>3.566346</td>\n",
       "      <td>inf</td>\n",
       "      <td>LGBMRegressor</td>\n",
       "      <td>3</td>\n",
       "      <td>{'model__learning_rate': 0.01327619158181911, ...</td>\n",
       "    </tr>\n",
       "    <tr>\n",
       "      <th>13</th>\n",
       "      <td>0.509392</td>\n",
       "      <td>2.415282</td>\n",
       "      <td>3.647497</td>\n",
       "      <td>inf</td>\n",
       "      <td>RandomForestRegressor</td>\n",
       "      <td>3</td>\n",
       "      <td>{'model__max_depth': 3, 'model__n_estimators':...</td>\n",
       "    </tr>\n",
       "    <tr>\n",
       "      <th>12</th>\n",
       "      <td>0.404401</td>\n",
       "      <td>2.717401</td>\n",
       "      <td>4.018876</td>\n",
       "      <td>inf</td>\n",
       "      <td>KNN</td>\n",
       "      <td>3</td>\n",
       "      <td>{'model__n_neighbors': 19}</td>\n",
       "    </tr>\n",
       "    <tr>\n",
       "      <th>10</th>\n",
       "      <td>0.348564</td>\n",
       "      <td>2.990952</td>\n",
       "      <td>4.203039</td>\n",
       "      <td>inf</td>\n",
       "      <td>ElasticNet</td>\n",
       "      <td>3</td>\n",
       "      <td>{'model__alpha': 0.07587882346174367, 'model__...</td>\n",
       "    </tr>\n",
       "    <tr>\n",
       "      <th>11</th>\n",
       "      <td>0.310841</td>\n",
       "      <td>3.080525</td>\n",
       "      <td>4.323021</td>\n",
       "      <td>inf</td>\n",
       "      <td>Ridge</td>\n",
       "      <td>3</td>\n",
       "      <td>{'model__alpha': 10.0}</td>\n",
       "    </tr>\n",
       "    <tr>\n",
       "      <th>9</th>\n",
       "      <td>-0.001477</td>\n",
       "      <td>4.106679</td>\n",
       "      <td>5.211324</td>\n",
       "      <td>inf</td>\n",
       "      <td>NaiveMean</td>\n",
       "      <td>3</td>\n",
       "      <td>None</td>\n",
       "    </tr>\n",
       "    <tr>\n",
       "      <th>23</th>\n",
       "      <td>0.322647</td>\n",
       "      <td>2.059207</td>\n",
       "      <td>3.134707</td>\n",
       "      <td>inf</td>\n",
       "      <td>GradientBoostingRegressor</td>\n",
       "      <td>4</td>\n",
       "      <td>{'model__learning_rate': 0.06394816988529078, ...</td>\n",
       "    </tr>\n",
       "    <tr>\n",
       "      <th>24</th>\n",
       "      <td>0.309142</td>\n",
       "      <td>2.072789</td>\n",
       "      <td>3.165804</td>\n",
       "      <td>inf</td>\n",
       "      <td>XGBRegressor</td>\n",
       "      <td>4</td>\n",
       "      <td>{'model__learning_rate': 0.032913477110898294,...</td>\n",
       "    </tr>\n",
       "    <tr>\n",
       "      <th>22</th>\n",
       "      <td>0.295117</td>\n",
       "      <td>2.092264</td>\n",
       "      <td>3.197775</td>\n",
       "      <td>inf</td>\n",
       "      <td>RandomForestRegressor</td>\n",
       "      <td>4</td>\n",
       "      <td>{'model__max_depth': 6, 'model__n_estimators':...</td>\n",
       "    </tr>\n",
       "    <tr>\n",
       "      <th>26</th>\n",
       "      <td>0.284633</td>\n",
       "      <td>2.116941</td>\n",
       "      <td>3.221469</td>\n",
       "      <td>inf</td>\n",
       "      <td>CatBoostRegressor</td>\n",
       "      <td>4</td>\n",
       "      <td>{'model__depth': 3, 'model__iterations': 230, ...</td>\n",
       "    </tr>\n",
       "    <tr>\n",
       "      <th>25</th>\n",
       "      <td>0.273853</td>\n",
       "      <td>2.139275</td>\n",
       "      <td>3.245650</td>\n",
       "      <td>inf</td>\n",
       "      <td>LGBMRegressor</td>\n",
       "      <td>4</td>\n",
       "      <td>{'model__learning_rate': 0.01886227251162934, ...</td>\n",
       "    </tr>\n",
       "    <tr>\n",
       "      <th>21</th>\n",
       "      <td>0.230371</td>\n",
       "      <td>2.238176</td>\n",
       "      <td>3.341414</td>\n",
       "      <td>inf</td>\n",
       "      <td>KNN</td>\n",
       "      <td>4</td>\n",
       "      <td>{'model__n_neighbors': 20}</td>\n",
       "    </tr>\n",
       "    <tr>\n",
       "      <th>18</th>\n",
       "      <td>-0.113783</td>\n",
       "      <td>3.351293</td>\n",
       "      <td>4.019664</td>\n",
       "      <td>inf</td>\n",
       "      <td>NaiveMean</td>\n",
       "      <td>4</td>\n",
       "      <td>None</td>\n",
       "    </tr>\n",
       "    <tr>\n",
       "      <th>19</th>\n",
       "      <td>-0.309510</td>\n",
       "      <td>3.058155</td>\n",
       "      <td>4.358569</td>\n",
       "      <td>inf</td>\n",
       "      <td>ElasticNet</td>\n",
       "      <td>4</td>\n",
       "      <td>{'model__alpha': 0.024252424431976775, 'model_...</td>\n",
       "    </tr>\n",
       "    <tr>\n",
       "      <th>20</th>\n",
       "      <td>-0.321521</td>\n",
       "      <td>3.102833</td>\n",
       "      <td>4.378512</td>\n",
       "      <td>inf</td>\n",
       "      <td>Ridge</td>\n",
       "      <td>4</td>\n",
       "      <td>{'model__alpha': 10.0}</td>\n",
       "    </tr>\n",
       "  </tbody>\n",
       "</table>\n",
       "</div>"
      ],
      "text/plain": [
       "\n",
       "     test_r2  test_mae  test_rmse  test_mape                      model  \\\n",
       "\u001b[1;36m5\u001b[0m   \u001b[1;36m0.520020\u001b[0m  \u001b[1;36m2.498285\u001b[0m   \u001b[1;36m3.775499\u001b[0m        inf  GradientBoostingRegressor   \n",
       "\u001b[1;36m6\u001b[0m   \u001b[1;36m0.516104\u001b[0m  \u001b[1;36m2.478205\u001b[0m   \u001b[1;36m3.790866\u001b[0m        inf               XGBRegressor   \n",
       "\u001b[1;36m4\u001b[0m   \u001b[1;36m0.512819\u001b[0m  \u001b[1;36m2.510934\u001b[0m   \u001b[1;36m3.803713\u001b[0m        inf      RandomForestRegressor   \n",
       "\u001b[1;36m8\u001b[0m   \u001b[1;36m0.497553\u001b[0m  \u001b[1;36m2.564826\u001b[0m   \u001b[1;36m3.862850\u001b[0m        inf          CatBoostRegressor   \n",
       "\u001b[1;36m7\u001b[0m   \u001b[1;36m0.465591\u001b[0m  \u001b[1;36m2.557502\u001b[0m   \u001b[1;36m3.983820\u001b[0m        inf              LGBMRegressor   \n",
       "\u001b[1;36m3\u001b[0m   \u001b[1;36m0.449020\u001b[0m  \u001b[1;36m2.570618\u001b[0m   \u001b[1;36m4.045114\u001b[0m        inf                        KNN   \n",
       "\u001b[1;36m1\u001b[0m   \u001b[1;36m0.173553\u001b[0m  \u001b[1;36m3.457107\u001b[0m   \u001b[1;36m4.954160\u001b[0m        inf                 ElasticNet   \n",
       "\u001b[1;36m2\u001b[0m   \u001b[1;36m0.156211\u001b[0m  \u001b[1;36m3.458413\u001b[0m   \u001b[1;36m5.005870\u001b[0m        inf                      Ridge   \n",
       "\u001b[1;36m0\u001b[0m  \u001b[1;36m-0.001053\u001b[0m  \u001b[1;36m4.251859\u001b[0m   \u001b[1;36m5.452444\u001b[0m        inf                  NaiveMean   \n",
       "\u001b[1;36m15\u001b[0m  \u001b[1;36m0.580305\u001b[0m  \u001b[1;36m2.208099\u001b[0m   \u001b[1;36m3.373606\u001b[0m        inf               XGBRegressor   \n",
       "\u001b[1;36m14\u001b[0m  \u001b[1;36m0.541344\u001b[0m  \u001b[1;36m2.373554\u001b[0m   \u001b[1;36m3.526721\u001b[0m        inf  GradientBoostingRegressor   \n",
       "\u001b[1;36m17\u001b[0m  \u001b[1;36m0.538450\u001b[0m  \u001b[1;36m2.333533\u001b[0m   \u001b[1;36m3.537830\u001b[0m        inf          CatBoostRegressor   \n",
       "\u001b[1;36m16\u001b[0m  \u001b[1;36m0.530980\u001b[0m  \u001b[1;36m2.365226\u001b[0m   \u001b[1;36m3.566346\u001b[0m        inf              LGBMRegressor   \n",
       "\u001b[1;36m13\u001b[0m  \u001b[1;36m0.509392\u001b[0m  \u001b[1;36m2.415282\u001b[0m   \u001b[1;36m3.647497\u001b[0m        inf      RandomForestRegressor   \n",
       "\u001b[1;36m12\u001b[0m  \u001b[1;36m0.404401\u001b[0m  \u001b[1;36m2.717401\u001b[0m   \u001b[1;36m4.018876\u001b[0m        inf                        KNN   \n",
       "\u001b[1;36m10\u001b[0m  \u001b[1;36m0.348564\u001b[0m  \u001b[1;36m2.990952\u001b[0m   \u001b[1;36m4.203039\u001b[0m        inf                 ElasticNet   \n",
       "\u001b[1;36m11\u001b[0m  \u001b[1;36m0.310841\u001b[0m  \u001b[1;36m3.080525\u001b[0m   \u001b[1;36m4.323021\u001b[0m        inf                      Ridge   \n",
       "\u001b[1;36m9\u001b[0m  \u001b[1;36m-0.001477\u001b[0m  \u001b[1;36m4.106679\u001b[0m   \u001b[1;36m5.211324\u001b[0m        inf                  NaiveMean   \n",
       "\u001b[1;36m23\u001b[0m  \u001b[1;36m0.322647\u001b[0m  \u001b[1;36m2.059207\u001b[0m   \u001b[1;36m3.134707\u001b[0m        inf  GradientBoostingRegressor   \n",
       "\u001b[1;36m24\u001b[0m  \u001b[1;36m0.309142\u001b[0m  \u001b[1;36m2.072789\u001b[0m   \u001b[1;36m3.165804\u001b[0m        inf               XGBRegressor   \n",
       "\u001b[1;36m22\u001b[0m  \u001b[1;36m0.295117\u001b[0m  \u001b[1;36m2.092264\u001b[0m   \u001b[1;36m3.197775\u001b[0m        inf      RandomForestRegressor   \n",
       "\u001b[1;36m26\u001b[0m  \u001b[1;36m0.284633\u001b[0m  \u001b[1;36m2.116941\u001b[0m   \u001b[1;36m3.221469\u001b[0m        inf          CatBoostRegressor   \n",
       "\u001b[1;36m25\u001b[0m  \u001b[1;36m0.273853\u001b[0m  \u001b[1;36m2.139275\u001b[0m   \u001b[1;36m3.245650\u001b[0m        inf              LGBMRegressor   \n",
       "\u001b[1;36m21\u001b[0m  \u001b[1;36m0.230371\u001b[0m  \u001b[1;36m2.238176\u001b[0m   \u001b[1;36m3.341414\u001b[0m        inf                        KNN   \n",
       "\u001b[1;36m18\u001b[0m \u001b[1;36m-0.113783\u001b[0m  \u001b[1;36m3.351293\u001b[0m   \u001b[1;36m4.019664\u001b[0m        inf                  NaiveMean   \n",
       "\u001b[1;36m19\u001b[0m \u001b[1;36m-0.309510\u001b[0m  \u001b[1;36m3.058155\u001b[0m   \u001b[1;36m4.358569\u001b[0m        inf                 ElasticNet   \n",
       "\u001b[1;36m20\u001b[0m \u001b[1;36m-0.321521\u001b[0m  \u001b[1;36m3.102833\u001b[0m   \u001b[1;36m4.378512\u001b[0m        inf                      Ridge   \n",
       "\n",
       "    gameweek                                        best_params  \n",
       "\u001b[1;36m5\u001b[0m          \u001b[1;36m2\u001b[0m  \u001b[1m{\u001b[0m\u001b[32m'model__learning_rate'\u001b[0m: \u001b[1;36m0.01597774786435076\u001b[0m, \u001b[33m...\u001b[0m  \n",
       "\u001b[1;36m6\u001b[0m          \u001b[1;36m2\u001b[0m  \u001b[1m{\u001b[0m\u001b[32m'model__learning_rate'\u001b[0m: \u001b[1;36m0.016962221594166126\u001b[0m,\u001b[33m...\u001b[0m  \n",
       "\u001b[1;36m4\u001b[0m          \u001b[1;36m2\u001b[0m  \u001b[1m{\u001b[0m\u001b[32m'model__max_depth'\u001b[0m: \u001b[1;36m3\u001b[0m, \u001b[32m'model__n_estimators'\u001b[0m:\u001b[33m...\u001b[0m  \n",
       "\u001b[1;36m8\u001b[0m          \u001b[1;36m2\u001b[0m  \u001b[1m{\u001b[0m\u001b[32m'model__depth'\u001b[0m: \u001b[1;36m3\u001b[0m, \u001b[32m'model__iterations'\u001b[0m: \u001b[1;36m241\u001b[0m, \u001b[33m...\u001b[0m  \n",
       "\u001b[1;36m7\u001b[0m          \u001b[1;36m2\u001b[0m  \u001b[1m{\u001b[0m\u001b[32m'model__learning_rate'\u001b[0m: \u001b[1;36m0.045401641878176635\u001b[0m,\u001b[33m...\u001b[0m  \n",
       "\u001b[1;36m3\u001b[0m          \u001b[1;36m2\u001b[0m                          \u001b[1m{\u001b[0m\u001b[32m'model__n_neighbors'\u001b[0m: \u001b[1;36m7\u001b[0m\u001b[1m}\u001b[0m  \n",
       "\u001b[1;36m1\u001b[0m          \u001b[1;36m2\u001b[0m  \u001b[1m{\u001b[0m\u001b[32m'model__alpha'\u001b[0m: \u001b[1;36m0.10481315701873967\u001b[0m, 'model__\u001b[33m...\u001b[0m  \n",
       "\u001b[1;36m2\u001b[0m          \u001b[1;36m2\u001b[0m                \u001b[1m{\u001b[0m\u001b[32m'model__alpha'\u001b[0m: \u001b[1;36m8.565925757139402\u001b[0m\u001b[1m}\u001b[0m  \n",
       "\u001b[1;36m0\u001b[0m          \u001b[1;36m2\u001b[0m                                               \u001b[3;35mNone\u001b[0m  \n",
       "\u001b[1;36m15\u001b[0m         \u001b[1;36m3\u001b[0m  \u001b[1m{\u001b[0m\u001b[32m'model__learning_rate'\u001b[0m: \u001b[1;36m0.29999999999999993\u001b[0m, \u001b[33m...\u001b[0m  \n",
       "\u001b[1;36m14\u001b[0m         \u001b[1;36m3\u001b[0m  \u001b[1m{\u001b[0m\u001b[32m'model__learning_rate'\u001b[0m: \u001b[1;36m0.01\u001b[0m, 'model__max_dep\u001b[33m...\u001b[0m  \n",
       "\u001b[1;36m17\u001b[0m         \u001b[1;36m3\u001b[0m  \u001b[1m{\u001b[0m\u001b[32m'model__depth'\u001b[0m: \u001b[1;36m3\u001b[0m, \u001b[32m'model__iterations'\u001b[0m: \u001b[1;36m280\u001b[0m, \u001b[33m...\u001b[0m  \n",
       "\u001b[1;36m16\u001b[0m         \u001b[1;36m3\u001b[0m  \u001b[1m{\u001b[0m\u001b[32m'model__learning_rate'\u001b[0m: \u001b[1;36m0.01327619158181911\u001b[0m, \u001b[33m...\u001b[0m  \n",
       "\u001b[1;36m13\u001b[0m         \u001b[1;36m3\u001b[0m  \u001b[1m{\u001b[0m\u001b[32m'model__max_depth'\u001b[0m: \u001b[1;36m3\u001b[0m, \u001b[32m'model__n_estimators'\u001b[0m:\u001b[33m...\u001b[0m  \n",
       "\u001b[1;36m12\u001b[0m         \u001b[1;36m3\u001b[0m                         \u001b[1m{\u001b[0m\u001b[32m'model__n_neighbors'\u001b[0m: \u001b[1;36m19\u001b[0m\u001b[1m}\u001b[0m  \n",
       "\u001b[1;36m10\u001b[0m         \u001b[1;36m3\u001b[0m  \u001b[1m{\u001b[0m\u001b[32m'model__alpha'\u001b[0m: \u001b[1;36m0.07587882346174367\u001b[0m, 'model__\u001b[33m...\u001b[0m  \n",
       "\u001b[1;36m11\u001b[0m         \u001b[1;36m3\u001b[0m                             \u001b[1m{\u001b[0m\u001b[32m'model__alpha'\u001b[0m: \u001b[1;36m10.0\u001b[0m\u001b[1m}\u001b[0m  \n",
       "\u001b[1;36m9\u001b[0m          \u001b[1;36m3\u001b[0m                                               \u001b[3;35mNone\u001b[0m  \n",
       "\u001b[1;36m23\u001b[0m         \u001b[1;36m4\u001b[0m  \u001b[1m{\u001b[0m\u001b[32m'model__learning_rate'\u001b[0m: \u001b[1;36m0.06394816988529078\u001b[0m, \u001b[33m...\u001b[0m  \n",
       "\u001b[1;36m24\u001b[0m         \u001b[1;36m4\u001b[0m  \u001b[1m{\u001b[0m\u001b[32m'model__learning_rate'\u001b[0m: \u001b[1;36m0.032913477110898294\u001b[0m,\u001b[33m...\u001b[0m  \n",
       "\u001b[1;36m22\u001b[0m         \u001b[1;36m4\u001b[0m  \u001b[1m{\u001b[0m\u001b[32m'model__max_depth'\u001b[0m: \u001b[1;36m6\u001b[0m, \u001b[32m'model__n_estimators'\u001b[0m:\u001b[33m...\u001b[0m  \n",
       "\u001b[1;36m26\u001b[0m         \u001b[1;36m4\u001b[0m  \u001b[1m{\u001b[0m\u001b[32m'model__depth'\u001b[0m: \u001b[1;36m3\u001b[0m, \u001b[32m'model__iterations'\u001b[0m: \u001b[1;36m230\u001b[0m, \u001b[33m...\u001b[0m  \n",
       "\u001b[1;36m25\u001b[0m         \u001b[1;36m4\u001b[0m  \u001b[1m{\u001b[0m\u001b[32m'model__learning_rate'\u001b[0m: \u001b[1;36m0.01886227251162934\u001b[0m, \u001b[33m...\u001b[0m  \n",
       "\u001b[1;36m21\u001b[0m         \u001b[1;36m4\u001b[0m                         \u001b[1m{\u001b[0m\u001b[32m'model__n_neighbors'\u001b[0m: \u001b[1;36m20\u001b[0m\u001b[1m}\u001b[0m  \n",
       "\u001b[1;36m18\u001b[0m         \u001b[1;36m4\u001b[0m                                               \u001b[3;35mNone\u001b[0m  \n",
       "\u001b[1;36m19\u001b[0m         \u001b[1;36m4\u001b[0m  \u001b[1m{\u001b[0m\u001b[32m'model__alpha'\u001b[0m: \u001b[1;36m0.024252424431976775\u001b[0m, 'model_\u001b[33m...\u001b[0m  \n",
       "\u001b[1;36m20\u001b[0m         \u001b[1;36m4\u001b[0m                             \u001b[1m{\u001b[0m\u001b[32m'model__alpha'\u001b[0m: \u001b[1;36m10.0\u001b[0m\u001b[1m}\u001b[0m  "
      ]
     },
     "execution_count": 177,
     "metadata": {},
     "output_type": "execute_result"
    }
   ],
   "source": [
    "results_df.sort_values(by=['gameweek', 'test_rmse'])"
   ]
  },
  {
   "cell_type": "code",
   "execution_count": null,
   "id": "f38df961",
   "metadata": {},
   "outputs": [
    {
     "data": {
      "text/html": [
       "<pre style=\"white-space:pre;overflow-x:auto;line-height:normal;font-family:Menlo,'DejaVu Sans Mono',consolas,'Courier New',monospace\"></pre>\n"
      ],
      "text/plain": []
     },
     "metadata": {},
     "output_type": "display_data"
    },
    {
     "data": {
      "text/plain": [
       "\u001b[1;35mOrderedDict\u001b[0m\u001b[1m(\u001b[0m\u001b[1m{\u001b[0m\u001b[32m'model__learning_rate'\u001b[0m: \u001b[1;36m0.06394816988529078\u001b[0m, \u001b[32m'model__max_depth'\u001b[0m: \u001b[1;36m3\u001b[0m, \u001b[32m'model__n_estimators'\u001b[0m: \u001b[1;36m160\u001b[0m\u001b[1m}\u001b[0m\u001b[1m)\u001b[0m"
      ]
     },
     "execution_count": 182,
     "metadata": {},
     "output_type": "execute_result"
    }
   ],
   "source": [
    "results_df[results_df['gameweek']==4].sort_values(by='test_rmse').iloc[0]['best_params']"
   ]
  },
  {
   "cell_type": "markdown",
   "id": "73069a2b",
   "metadata": {},
   "source": [
    "## Regular Train Test Split"
   ]
  },
  {
   "cell_type": "code",
   "execution_count": null,
   "id": "062189f2",
   "metadata": {},
   "outputs": [
    {
     "name": "stdout",
     "output_type": "stream",
     "text": [
      "Train MAE: 0.6982\n",
      "Test MAE: 1.2623\n",
      "Train RMSE: 1.2196\n",
      "Test RMSE: 2.2011\n",
      "Train R2: 0.7648\n",
      "Test R2: 0.1932\n",
      "Train MAPE: 20.1378\n",
      "Test MAPE: 33.3970\n"
     ]
    }
   ],
   "source": [
    "import pandas as pd\n",
    "from sklearn.ensemble import RandomForestRegressor\n",
    "from sklearn.preprocessing import OneHotEncoder, StandardScaler, OrdinalEncoder\n",
    "from sklearn.compose import ColumnTransformer\n",
    "from sklearn.pipeline import Pipeline\n",
    "from sklearn.metrics import mean_absolute_error, mean_squared_error, r2_score, root_mean_squared_error\n",
    "from sklearn.linear_model import LinearRegression, Ridge\n",
    "\n",
    "train_df, test_df = prepare_df_at_gameweek(current_gameweek=3, arg_df=model_df)\n",
    "\n",
    "features = numerical_feature_cols + categorical_feature_cols\n",
    "\n",
    "X_train, y_train = train_df[features], train_df[target_col]\n",
    "X_test, y_test = test_df[features], test_df[target_col]\n",
    "\n",
    "# Preprocessing: One-hot encode categorical columns\n",
    "preprocessor = ColumnTransformer(\n",
    "    transformers=[\n",
    "        ('cat', OneHotEncoder(), categorical_feature_cols),\n",
    "        # ('num', StandardScaler(), numerical_feature_cols)\n",
    "    ],\n",
    "    remainder='passthrough'  # keep numerical columns as is\n",
    ")\n",
    "\n",
    "# Random Forest pipeline\n",
    "pipeline = Pipeline([\n",
    "    ('preprocess', preprocessor),\n",
    "    ('model', GradientBoostingRegressor(**{'learning_rate': 0.29999999999999993, 'max_depth': 3, 'n_estimators': 50}))\n",
    "])\n",
    "\n",
    "# Train model\n",
    "pipeline.fit(X_train, y_train)\n",
    "\n",
    "# Predictions\n",
    "y_train_pred = pipeline.predict(X_train)\n",
    "y_test_pred = pipeline.predict(X_test)\n",
    "\n",
    "# Evaluation metrics\n",
    "def mean_absolute_percentage_error(y_true, y_pred):\n",
    "    y_true, y_pred = pd.Series(y_true), pd.Series(y_pred)\n",
    "    return (abs((y_true - y_pred) / y_true).replace([float('inf'), -float('inf')], 0).mean()) * 100\n",
    "\n",
    "metrics = {\n",
    "    'Train MAE': mean_absolute_error(y_train, y_train_pred),\n",
    "    'Test MAE': mean_absolute_error(y_test, y_test_pred),\n",
    "    'Train RMSE': root_mean_squared_error(y_train, y_train_pred),\n",
    "    'Test RMSE': root_mean_squared_error(y_test, y_test_pred),\n",
    "    'Train R2': r2_score(y_train, y_train_pred),\n",
    "    'Test R2': r2_score(y_test, y_test_pred),\n",
    "    'Train MAPE': mean_absolute_percentage_error(y_train, y_train_pred),\n",
    "    'Test MAPE': mean_absolute_percentage_error(y_test, y_test_pred)\n",
    "}\n",
    "\n",
    "for k, v in metrics.items():\n",
    "    print(f\"{k}: {v:.4f}\")\n"
   ]
  },
  {
   "cell_type": "code",
   "execution_count": null,
   "id": "fd9ed113",
   "metadata": {},
   "outputs": [
    {
     "data": {
      "text/html": [
       "<pre style=\"white-space:pre;overflow-x:auto;line-height:normal;font-family:Menlo,'DejaVu Sans Mono',consolas,'Courier New',monospace\"></pre>\n"
      ],
      "text/plain": []
     },
     "metadata": {},
     "output_type": "display_data"
    },
    {
     "data": {
      "image/png": "[encoded data removed]",
      "text/plain": [
       "\u001b[1m<\u001b[0m\u001b[1;95mFigure\u001b[0m\u001b[39m size 60\u001b[0m\u001b[1;36m0x600\u001b[0m\u001b[39m with \u001b[0m\u001b[1;36m1\u001b[0m\u001b[39m Axes\u001b[0m\u001b[1m>\u001b[0m"
      ]
     },
     "metadata": {},
     "output_type": "display_data"
    }
   ],
   "source": [
    "import matplotlib.pyplot as plt\n",
    "\n",
    "plt.figure(figsize=(6, 6))\n",
    "plt.scatter(y_test, y_test_pred, alpha=0.6, edgecolor='k')\n",
    "\n",
    "# Labels and formatting\n",
    "plt.title(\"Predicted vs Actual Values\", fontsize=14)\n",
    "plt.xlabel(\"Actual Values\", fontsize=12)\n",
    "plt.ylabel(\"Predicted Values\", fontsize=12)\n",
    "\n",
    "# Reference line (perfect predictions)\n",
    "lims = [min(y_test.min(), y_test_pred.min()), max(y_test.max(), y_test_pred.max())]\n",
    "plt.plot(lims, lims, 'r--', lw=2, label='Perfect Prediction')\n",
    "\n",
    "plt.legend()\n",
    "plt.grid(True, linestyle='--', alpha=0.5)\n",
    "plt.tight_layout()\n",
    "plt.show()\n"
   ]
  },
  {
   "cell_type": "code",
   "execution_count": null,
   "id": "901678d7",
   "metadata": {},
   "outputs": [
    {
     "data": {
      "text/html": [
       "<pre style=\"white-space:pre;overflow-x:auto;line-height:normal;font-family:Menlo,'DejaVu Sans Mono',consolas,'Courier New',monospace\"></pre>\n"
      ],
      "text/plain": []
     },
     "metadata": {},
     "output_type": "display_data"
    },
    {
     "data": {
      "text/plain": [
       "\u001b[1;35mnp.float64\u001b[0m\u001b[1m(\u001b[0m\u001b[1;36m3.4887640449438204\u001b[0m\u001b[1m)\u001b[0m"
      ]
     },
     "execution_count": 144,
     "metadata": {},
     "output_type": "execute_result"
    }
   ],
   "source": [
    "test_df['target'].mean()"
   ]
  },
  {
   "cell_type": "code",
   "execution_count": null,
   "id": "57cf9189",
   "metadata": {},
   "outputs": [
    {
     "data": {
      "text/html": [
       "<pre style=\"white-space:pre;overflow-x:auto;line-height:normal;font-family:Menlo,'DejaVu Sans Mono',consolas,'Courier New',monospace\"></pre>\n"
      ],
      "text/plain": []
     },
     "metadata": {},
     "output_type": "display_data"
    },
    {
     "data": {
      "text/html": [
       "<div>\n",
       "<style scoped>\n",
       "    .dataframe tbody tr th:only-of-type {\n",
       "        vertical-align: middle;\n",
       "    }\n",
       "\n",
       "    .dataframe tbody tr th {\n",
       "        vertical-align: top;\n",
       "    }\n",
       "\n",
       "    .dataframe thead th {\n",
       "        text-align: right;\n",
       "    }\n",
       "</style>\n",
       "<table border=\"1\" class=\"dataframe\">\n",
       "  <thead>\n",
       "    <tr style=\"text-align: right;\">\n",
       "      <th></th>\n",
       "      <th>model</th>\n",
       "      <th>gameweek</th>\n",
       "      <th>best_params</th>\n",
       "      <th>test_r2</th>\n",
       "      <th>test_rmse</th>\n",
       "      <th>test_mae</th>\n",
       "      <th>test_mape</th>\n",
       "    </tr>\n",
       "  </thead>\n",
       "  <tbody>\n",
       "    <tr>\n",
       "      <th>18</th>\n",
       "      <td>GradientBoostingRegressor</td>\n",
       "      <td>2</td>\n",
       "      <td>{'model__learning_rate': 0.01597774786435076, ...</td>\n",
       "      <td>0.520020</td>\n",
       "      <td>3.775499</td>\n",
       "      <td>2.498285</td>\n",
       "      <td>inf</td>\n",
       "    </tr>\n",
       "    <tr>\n",
       "      <th>21</th>\n",
       "      <td>XGBRegressor</td>\n",
       "      <td>2</td>\n",
       "      <td>{'model__learning_rate': 0.016962221594166126,...</td>\n",
       "      <td>0.516104</td>\n",
       "      <td>3.790866</td>\n",
       "      <td>2.478205</td>\n",
       "      <td>inf</td>\n",
       "    </tr>\n",
       "    <tr>\n",
       "      <th>15</th>\n",
       "      <td>RandomForestRegressor</td>\n",
       "      <td>2</td>\n",
       "      <td>{'model__max_depth': 3, 'model__n_estimators':...</td>\n",
       "      <td>0.512819</td>\n",
       "      <td>3.803713</td>\n",
       "      <td>2.510934</td>\n",
       "      <td>inf</td>\n",
       "    </tr>\n",
       "    <tr>\n",
       "      <th>27</th>\n",
       "      <td>CatBoostRegressor</td>\n",
       "      <td>2</td>\n",
       "      <td>{'model__depth': 3, 'model__iterations': 241, ...</td>\n",
       "      <td>0.497553</td>\n",
       "      <td>3.862850</td>\n",
       "      <td>2.564826</td>\n",
       "      <td>inf</td>\n",
       "    </tr>\n",
       "    <tr>\n",
       "      <th>24</th>\n",
       "      <td>LGBMRegressor</td>\n",
       "      <td>2</td>\n",
       "      <td>{'model__learning_rate': 0.045401641878176635,...</td>\n",
       "      <td>0.465591</td>\n",
       "      <td>3.983820</td>\n",
       "      <td>2.557502</td>\n",
       "      <td>inf</td>\n",
       "    </tr>\n",
       "    <tr>\n",
       "      <th>12</th>\n",
       "      <td>KNN</td>\n",
       "      <td>2</td>\n",
       "      <td>{'model__n_neighbors': 7}</td>\n",
       "      <td>0.449020</td>\n",
       "      <td>4.045114</td>\n",
       "      <td>2.570618</td>\n",
       "      <td>inf</td>\n",
       "    </tr>\n",
       "    <tr>\n",
       "      <th>6</th>\n",
       "      <td>Lasso</td>\n",
       "      <td>2</td>\n",
       "      <td>{'model__alpha': 0.10625459084029841}</td>\n",
       "      <td>0.174540</td>\n",
       "      <td>4.951201</td>\n",
       "      <td>3.456125</td>\n",
       "      <td>inf</td>\n",
       "    </tr>\n",
       "    <tr>\n",
       "      <th>0</th>\n",
       "      <td>ElasticNet</td>\n",
       "      <td>2</td>\n",
       "      <td>{'model__alpha': 0.10481315701873967, 'model__...</td>\n",
       "      <td>0.173553</td>\n",
       "      <td>4.954160</td>\n",
       "      <td>3.457107</td>\n",
       "      <td>inf</td>\n",
       "    </tr>\n",
       "    <tr>\n",
       "      <th>3</th>\n",
       "      <td>Ridge</td>\n",
       "      <td>2</td>\n",
       "      <td>{'model__alpha': 8.565925757139402}</td>\n",
       "      <td>0.156211</td>\n",
       "      <td>5.005870</td>\n",
       "      <td>3.458413</td>\n",
       "      <td>inf</td>\n",
       "    </tr>\n",
       "    <tr>\n",
       "      <th>9</th>\n",
       "      <td>SVR</td>\n",
       "      <td>2</td>\n",
       "      <td>{'model__C': 15.925169151603527, 'model__epsil...</td>\n",
       "      <td>-1.340753</td>\n",
       "      <td>8.337588</td>\n",
       "      <td>7.365818</td>\n",
       "      <td>inf</td>\n",
       "    </tr>\n",
       "    <tr>\n",
       "      <th>22</th>\n",
       "      <td>XGBRegressor</td>\n",
       "      <td>3</td>\n",
       "      <td>{'model__learning_rate': 0.29999999999999993, ...</td>\n",
       "      <td>0.580305</td>\n",
       "      <td>3.373606</td>\n",
       "      <td>2.208099</td>\n",
       "      <td>inf</td>\n",
       "    </tr>\n",
       "    <tr>\n",
       "      <th>19</th>\n",
       "      <td>GradientBoostingRegressor</td>\n",
       "      <td>3</td>\n",
       "      <td>{'model__learning_rate': 0.01, 'model__max_dep...</td>\n",
       "      <td>0.541344</td>\n",
       "      <td>3.526721</td>\n",
       "      <td>2.373554</td>\n",
       "      <td>inf</td>\n",
       "    </tr>\n",
       "    <tr>\n",
       "      <th>28</th>\n",
       "      <td>CatBoostRegressor</td>\n",
       "      <td>3</td>\n",
       "      <td>{'model__depth': 3, 'model__iterations': 280, ...</td>\n",
       "      <td>0.538450</td>\n",
       "      <td>3.537830</td>\n",
       "      <td>2.333533</td>\n",
       "      <td>inf</td>\n",
       "    </tr>\n",
       "    <tr>\n",
       "      <th>25</th>\n",
       "      <td>LGBMRegressor</td>\n",
       "      <td>3</td>\n",
       "      <td>{'model__learning_rate': 0.01327619158181911, ...</td>\n",
       "      <td>0.530980</td>\n",
       "      <td>3.566346</td>\n",
       "      <td>2.365226</td>\n",
       "      <td>inf</td>\n",
       "    </tr>\n",
       "    <tr>\n",
       "      <th>16</th>\n",
       "      <td>RandomForestRegressor</td>\n",
       "      <td>3</td>\n",
       "      <td>{'model__max_depth': 3, 'model__n_estimators':...</td>\n",
       "      <td>0.509392</td>\n",
       "      <td>3.647497</td>\n",
       "      <td>2.415282</td>\n",
       "      <td>inf</td>\n",
       "    </tr>\n",
       "    <tr>\n",
       "      <th>10</th>\n",
       "      <td>SVR</td>\n",
       "      <td>3</td>\n",
       "      <td>{'model__C': 23.038866459216415, 'model__epsil...</td>\n",
       "      <td>0.430152</td>\n",
       "      <td>3.931038</td>\n",
       "      <td>2.548096</td>\n",
       "      <td>inf</td>\n",
       "    </tr>\n",
       "    <tr>\n",
       "      <th>13</th>\n",
       "      <td>KNN</td>\n",
       "      <td>3</td>\n",
       "      <td>{'model__n_neighbors': 19}</td>\n",
       "      <td>0.404401</td>\n",
       "      <td>4.018876</td>\n",
       "      <td>2.717401</td>\n",
       "      <td>inf</td>\n",
       "    </tr>\n",
       "    <tr>\n",
       "      <th>1</th>\n",
       "      <td>ElasticNet</td>\n",
       "      <td>3</td>\n",
       "      <td>{'model__alpha': 0.07587882346174367, 'model__...</td>\n",
       "      <td>0.348564</td>\n",
       "      <td>4.203039</td>\n",
       "      <td>2.990952</td>\n",
       "      <td>inf</td>\n",
       "    </tr>\n",
       "    <tr>\n",
       "      <th>7</th>\n",
       "      <td>Lasso</td>\n",
       "      <td>3</td>\n",
       "      <td>{'model__alpha': 0.06505973033858296}</td>\n",
       "      <td>0.314224</td>\n",
       "      <td>4.312397</td>\n",
       "      <td>3.039096</td>\n",
       "      <td>inf</td>\n",
       "    </tr>\n",
       "    <tr>\n",
       "      <th>4</th>\n",
       "      <td>Ridge</td>\n",
       "      <td>3</td>\n",
       "      <td>{'model__alpha': 10.0}</td>\n",
       "      <td>0.310841</td>\n",
       "      <td>4.323021</td>\n",
       "      <td>3.080525</td>\n",
       "      <td>inf</td>\n",
       "    </tr>\n",
       "    <tr>\n",
       "      <th>20</th>\n",
       "      <td>GradientBoostingRegressor</td>\n",
       "      <td>4</td>\n",
       "      <td>{'model__learning_rate': 0.06394816988529078, ...</td>\n",
       "      <td>0.322647</td>\n",
       "      <td>3.134707</td>\n",
       "      <td>2.059207</td>\n",
       "      <td>inf</td>\n",
       "    </tr>\n",
       "    <tr>\n",
       "      <th>23</th>\n",
       "      <td>XGBRegressor</td>\n",
       "      <td>4</td>\n",
       "      <td>{'model__learning_rate': 0.032913477110898294,...</td>\n",
       "      <td>0.309142</td>\n",
       "      <td>3.165804</td>\n",
       "      <td>2.072789</td>\n",
       "      <td>inf</td>\n",
       "    </tr>\n",
       "    <tr>\n",
       "      <th>17</th>\n",
       "      <td>RandomForestRegressor</td>\n",
       "      <td>4</td>\n",
       "      <td>{'model__max_depth': 6, 'model__n_estimators':...</td>\n",
       "      <td>0.295117</td>\n",
       "      <td>3.197775</td>\n",
       "      <td>2.092264</td>\n",
       "      <td>inf</td>\n",
       "    </tr>\n",
       "    <tr>\n",
       "      <th>29</th>\n",
       "      <td>CatBoostRegressor</td>\n",
       "      <td>4</td>\n",
       "      <td>{'model__depth': 3, 'model__iterations': 230, ...</td>\n",
       "      <td>0.284633</td>\n",
       "      <td>3.221469</td>\n",
       "      <td>2.116941</td>\n",
       "      <td>inf</td>\n",
       "    </tr>\n",
       "    <tr>\n",
       "      <th>26</th>\n",
       "      <td>LGBMRegressor</td>\n",
       "      <td>4</td>\n",
       "      <td>{'model__learning_rate': 0.01886227251162934, ...</td>\n",
       "      <td>0.273853</td>\n",
       "      <td>3.245650</td>\n",
       "      <td>2.139275</td>\n",
       "      <td>inf</td>\n",
       "    </tr>\n",
       "    <tr>\n",
       "      <th>14</th>\n",
       "      <td>KNN</td>\n",
       "      <td>4</td>\n",
       "      <td>{'model__n_neighbors': 20}</td>\n",
       "      <td>0.230371</td>\n",
       "      <td>3.341414</td>\n",
       "      <td>2.238176</td>\n",
       "      <td>inf</td>\n",
       "    </tr>\n",
       "    <tr>\n",
       "      <th>11</th>\n",
       "      <td>SVR</td>\n",
       "      <td>4</td>\n",
       "      <td>{'model__C': 39.83070851882392, 'model__epsilo...</td>\n",
       "      <td>0.138293</td>\n",
       "      <td>3.535651</td>\n",
       "      <td>2.323762</td>\n",
       "      <td>inf</td>\n",
       "    </tr>\n",
       "    <tr>\n",
       "      <th>8</th>\n",
       "      <td>Lasso</td>\n",
       "      <td>4</td>\n",
       "      <td>{'model__alpha': 0.025361076690324343}</td>\n",
       "      <td>-0.309106</td>\n",
       "      <td>4.357896</td>\n",
       "      <td>3.057433</td>\n",
       "      <td>inf</td>\n",
       "    </tr>\n",
       "    <tr>\n",
       "      <th>2</th>\n",
       "      <td>ElasticNet</td>\n",
       "      <td>4</td>\n",
       "      <td>{'model__alpha': 0.024252424431976775, 'model_...</td>\n",
       "      <td>-0.309510</td>\n",
       "      <td>4.358569</td>\n",
       "      <td>3.058155</td>\n",
       "      <td>inf</td>\n",
       "    </tr>\n",
       "    <tr>\n",
       "      <th>5</th>\n",
       "      <td>Ridge</td>\n",
       "      <td>4</td>\n",
       "      <td>{'model__alpha': 10.0}</td>\n",
       "      <td>-0.321521</td>\n",
       "      <td>4.378512</td>\n",
       "      <td>3.102833</td>\n",
       "      <td>inf</td>\n",
       "    </tr>\n",
       "  </tbody>\n",
       "</table>\n",
       "</div>"
      ],
      "text/plain": [
       "\n",
       "                        model  gameweek  \\\n",
       "\u001b[1;36m18\u001b[0m  GradientBoostingRegressor         \u001b[1;36m2\u001b[0m   \n",
       "\u001b[1;36m21\u001b[0m               XGBRegressor         \u001b[1;36m2\u001b[0m   \n",
       "\u001b[1;36m15\u001b[0m      RandomForestRegressor         \u001b[1;36m2\u001b[0m   \n",
       "\u001b[1;36m27\u001b[0m          CatBoostRegressor         \u001b[1;36m2\u001b[0m   \n",
       "\u001b[1;36m24\u001b[0m              LGBMRegressor         \u001b[1;36m2\u001b[0m   \n",
       "\u001b[1;36m12\u001b[0m                        KNN         \u001b[1;36m2\u001b[0m   \n",
       "\u001b[1;36m6\u001b[0m                       Lasso         \u001b[1;36m2\u001b[0m   \n",
       "\u001b[1;36m0\u001b[0m                  ElasticNet         \u001b[1;36m2\u001b[0m   \n",
       "\u001b[1;36m3\u001b[0m                       Ridge         \u001b[1;36m2\u001b[0m   \n",
       "\u001b[1;36m9\u001b[0m                         SVR         \u001b[1;36m2\u001b[0m   \n",
       "\u001b[1;36m22\u001b[0m               XGBRegressor         \u001b[1;36m3\u001b[0m   \n",
       "\u001b[1;36m19\u001b[0m  GradientBoostingRegressor         \u001b[1;36m3\u001b[0m   \n",
       "\u001b[1;36m28\u001b[0m          CatBoostRegressor         \u001b[1;36m3\u001b[0m   \n",
       "\u001b[1;36m25\u001b[0m              LGBMRegressor         \u001b[1;36m3\u001b[0m   \n",
       "\u001b[1;36m16\u001b[0m      RandomForestRegressor         \u001b[1;36m3\u001b[0m   \n",
       "\u001b[1;36m10\u001b[0m                        SVR         \u001b[1;36m3\u001b[0m   \n",
       "\u001b[1;36m13\u001b[0m                        KNN         \u001b[1;36m3\u001b[0m   \n",
       "\u001b[1;36m1\u001b[0m                  ElasticNet         \u001b[1;36m3\u001b[0m   \n",
       "\u001b[1;36m7\u001b[0m                       Lasso         \u001b[1;36m3\u001b[0m   \n",
       "\u001b[1;36m4\u001b[0m                       Ridge         \u001b[1;36m3\u001b[0m   \n",
       "\u001b[1;36m20\u001b[0m  GradientBoostingRegressor         \u001b[1;36m4\u001b[0m   \n",
       "\u001b[1;36m23\u001b[0m               XGBRegressor         \u001b[1;36m4\u001b[0m   \n",
       "\u001b[1;36m17\u001b[0m      RandomForestRegressor         \u001b[1;36m4\u001b[0m   \n",
       "\u001b[1;36m29\u001b[0m          CatBoostRegressor         \u001b[1;36m4\u001b[0m   \n",
       "\u001b[1;36m26\u001b[0m              LGBMRegressor         \u001b[1;36m4\u001b[0m   \n",
       "\u001b[1;36m14\u001b[0m                        KNN         \u001b[1;36m4\u001b[0m   \n",
       "\u001b[1;36m11\u001b[0m                        SVR         \u001b[1;36m4\u001b[0m   \n",
       "\u001b[1;36m8\u001b[0m                       Lasso         \u001b[1;36m4\u001b[0m   \n",
       "\u001b[1;36m2\u001b[0m                  ElasticNet         \u001b[1;36m4\u001b[0m   \n",
       "\u001b[1;36m5\u001b[0m                       Ridge         \u001b[1;36m4\u001b[0m   \n",
       "\n",
       "                                          best_params   test_r2  test_rmse  \\\n",
       "\u001b[1;36m18\u001b[0m  \u001b[1m{\u001b[0m\u001b[32m'model__learning_rate'\u001b[0m: \u001b[1;36m0.01597774786435076\u001b[0m, \u001b[33m...\u001b[0m  \u001b[1;36m0.520020\u001b[0m   \u001b[1;36m3.775499\u001b[0m   \n",
       "\u001b[1;36m21\u001b[0m  \u001b[1m{\u001b[0m\u001b[32m'model__learning_rate'\u001b[0m: \u001b[1;36m0.016962221594166126\u001b[0m,\u001b[33m...\u001b[0m  \u001b[1;36m0.516104\u001b[0m   \u001b[1;36m3.790866\u001b[0m   \n",
       "\u001b[1;36m15\u001b[0m  \u001b[1m{\u001b[0m\u001b[32m'model__max_depth'\u001b[0m: \u001b[1;36m3\u001b[0m, \u001b[32m'model__n_estimators'\u001b[0m:\u001b[33m...\u001b[0m  \u001b[1;36m0.512819\u001b[0m   \u001b[1;36m3.803713\u001b[0m   \n",
       "\u001b[1;36m27\u001b[0m  \u001b[1m{\u001b[0m\u001b[32m'model__depth'\u001b[0m: \u001b[1;36m3\u001b[0m, \u001b[32m'model__iterations'\u001b[0m: \u001b[1;36m241\u001b[0m, \u001b[33m...\u001b[0m  \u001b[1;36m0.497553\u001b[0m   \u001b[1;36m3.862850\u001b[0m   \n",
       "\u001b[1;36m24\u001b[0m  \u001b[1m{\u001b[0m\u001b[32m'model__learning_rate'\u001b[0m: \u001b[1;36m0.045401641878176635\u001b[0m,\u001b[33m...\u001b[0m  \u001b[1;36m0.465591\u001b[0m   \u001b[1;36m3.983820\u001b[0m   \n",
       "\u001b[1;36m12\u001b[0m                          \u001b[1m{\u001b[0m\u001b[32m'model__n_neighbors'\u001b[0m: \u001b[1;36m7\u001b[0m\u001b[1m}\u001b[0m  \u001b[1;36m0.449020\u001b[0m   \u001b[1;36m4.045114\u001b[0m   \n",
       "\u001b[1;36m6\u001b[0m               \u001b[1m{\u001b[0m\u001b[32m'model__alpha'\u001b[0m: \u001b[1;36m0.10625459084029841\u001b[0m\u001b[1m}\u001b[0m  \u001b[1;36m0.174540\u001b[0m   \u001b[1;36m4.951201\u001b[0m   \n",
       "\u001b[1;36m0\u001b[0m   \u001b[1m{\u001b[0m\u001b[32m'model__alpha'\u001b[0m: \u001b[1;36m0.10481315701873967\u001b[0m, 'model__\u001b[33m...\u001b[0m  \u001b[1;36m0.173553\u001b[0m   \u001b[1;36m4.954160\u001b[0m   \n",
       "\u001b[1;36m3\u001b[0m                 \u001b[1m{\u001b[0m\u001b[32m'model__alpha'\u001b[0m: \u001b[1;36m8.565925757139402\u001b[0m\u001b[1m}\u001b[0m  \u001b[1;36m0.156211\u001b[0m   \u001b[1;36m5.005870\u001b[0m   \n",
       "\u001b[1;36m9\u001b[0m   \u001b[1m{\u001b[0m\u001b[32m'model__C'\u001b[0m: \u001b[1;36m15.925169151603527\u001b[0m, 'model__epsil\u001b[33m...\u001b[0m \u001b[1;36m-1.340753\u001b[0m   \u001b[1;36m8.337588\u001b[0m   \n",
       "\u001b[1;36m22\u001b[0m  \u001b[1m{\u001b[0m\u001b[32m'model__learning_rate'\u001b[0m: \u001b[1;36m0.29999999999999993\u001b[0m, \u001b[33m...\u001b[0m  \u001b[1;36m0.580305\u001b[0m   \u001b[1;36m3.373606\u001b[0m   \n",
       "\u001b[1;36m19\u001b[0m  \u001b[1m{\u001b[0m\u001b[32m'model__learning_rate'\u001b[0m: \u001b[1;36m0.01\u001b[0m, 'model__max_dep\u001b[33m...\u001b[0m  \u001b[1;36m0.541344\u001b[0m   \u001b[1;36m3.526721\u001b[0m   \n",
       "\u001b[1;36m28\u001b[0m  \u001b[1m{\u001b[0m\u001b[32m'model__depth'\u001b[0m: \u001b[1;36m3\u001b[0m, \u001b[32m'model__iterations'\u001b[0m: \u001b[1;36m280\u001b[0m, \u001b[33m...\u001b[0m  \u001b[1;36m0.538450\u001b[0m   \u001b[1;36m3.537830\u001b[0m   \n",
       "\u001b[1;36m25\u001b[0m  \u001b[1m{\u001b[0m\u001b[32m'model__learning_rate'\u001b[0m: \u001b[1;36m0.01327619158181911\u001b[0m, \u001b[33m...\u001b[0m  \u001b[1;36m0.530980\u001b[0m   \u001b[1;36m3.566346\u001b[0m   \n",
       "\u001b[1;36m16\u001b[0m  \u001b[1m{\u001b[0m\u001b[32m'model__max_depth'\u001b[0m: \u001b[1;36m3\u001b[0m, \u001b[32m'model__n_estimators'\u001b[0m:\u001b[33m...\u001b[0m  \u001b[1;36m0.509392\u001b[0m   \u001b[1;36m3.647497\u001b[0m   \n",
       "\u001b[1;36m10\u001b[0m  \u001b[1m{\u001b[0m\u001b[32m'model__C'\u001b[0m: \u001b[1;36m23.038866459216415\u001b[0m, 'model__epsil\u001b[33m...\u001b[0m  \u001b[1;36m0.430152\u001b[0m   \u001b[1;36m3.931038\u001b[0m   \n",
       "\u001b[1;36m13\u001b[0m                         \u001b[1m{\u001b[0m\u001b[32m'model__n_neighbors'\u001b[0m: \u001b[1;36m19\u001b[0m\u001b[1m}\u001b[0m  \u001b[1;36m0.404401\u001b[0m   \u001b[1;36m4.018876\u001b[0m   \n",
       "\u001b[1;36m1\u001b[0m   \u001b[1m{\u001b[0m\u001b[32m'model__alpha'\u001b[0m: \u001b[1;36m0.07587882346174367\u001b[0m, 'model__\u001b[33m...\u001b[0m  \u001b[1;36m0.348564\u001b[0m   \u001b[1;36m4.203039\u001b[0m   \n",
       "\u001b[1;36m7\u001b[0m               \u001b[1m{\u001b[0m\u001b[32m'model__alpha'\u001b[0m: \u001b[1;36m0.06505973033858296\u001b[0m\u001b[1m}\u001b[0m  \u001b[1;36m0.314224\u001b[0m   \u001b[1;36m4.312397\u001b[0m   \n",
       "\u001b[1;36m4\u001b[0m                              \u001b[1m{\u001b[0m\u001b[32m'model__alpha'\u001b[0m: \u001b[1;36m10.0\u001b[0m\u001b[1m}\u001b[0m  \u001b[1;36m0.310841\u001b[0m   \u001b[1;36m4.323021\u001b[0m   \n",
       "\u001b[1;36m20\u001b[0m  \u001b[1m{\u001b[0m\u001b[32m'model__learning_rate'\u001b[0m: \u001b[1;36m0.06394816988529078\u001b[0m, \u001b[33m...\u001b[0m  \u001b[1;36m0.322647\u001b[0m   \u001b[1;36m3.134707\u001b[0m   \n",
       "\u001b[1;36m23\u001b[0m  \u001b[1m{\u001b[0m\u001b[32m'model__learning_rate'\u001b[0m: \u001b[1;36m0.032913477110898294\u001b[0m,\u001b[33m...\u001b[0m  \u001b[1;36m0.309142\u001b[0m   \u001b[1;36m3.165804\u001b[0m   \n",
       "\u001b[1;36m17\u001b[0m  \u001b[1m{\u001b[0m\u001b[32m'model__max_depth'\u001b[0m: \u001b[1;36m6\u001b[0m, \u001b[32m'model__n_estimators'\u001b[0m:\u001b[33m...\u001b[0m  \u001b[1;36m0.295117\u001b[0m   \u001b[1;36m3.197775\u001b[0m   \n",
       "\u001b[1;36m29\u001b[0m  \u001b[1m{\u001b[0m\u001b[32m'model__depth'\u001b[0m: \u001b[1;36m3\u001b[0m, \u001b[32m'model__iterations'\u001b[0m: \u001b[1;36m230\u001b[0m, \u001b[33m...\u001b[0m  \u001b[1;36m0.284633\u001b[0m   \u001b[1;36m3.221469\u001b[0m   \n",
       "\u001b[1;36m26\u001b[0m  \u001b[1m{\u001b[0m\u001b[32m'model__learning_rate'\u001b[0m: \u001b[1;36m0.01886227251162934\u001b[0m, \u001b[33m...\u001b[0m  \u001b[1;36m0.273853\u001b[0m   \u001b[1;36m3.245650\u001b[0m   \n",
       "\u001b[1;36m14\u001b[0m                         \u001b[1m{\u001b[0m\u001b[32m'model__n_neighbors'\u001b[0m: \u001b[1;36m20\u001b[0m\u001b[1m}\u001b[0m  \u001b[1;36m0.230371\u001b[0m   \u001b[1;36m3.341414\u001b[0m   \n",
       "\u001b[1;36m11\u001b[0m  \u001b[1m{\u001b[0m\u001b[32m'model__C'\u001b[0m: \u001b[1;36m39.83070851882392\u001b[0m, 'model__epsilo\u001b[33m...\u001b[0m  \u001b[1;36m0.138293\u001b[0m   \u001b[1;36m3.535651\u001b[0m   \n",
       "\u001b[1;36m8\u001b[0m              \u001b[1m{\u001b[0m\u001b[32m'model__alpha'\u001b[0m: \u001b[1;36m0.025361076690324343\u001b[0m\u001b[1m}\u001b[0m \u001b[1;36m-0.309106\u001b[0m   \u001b[1;36m4.357896\u001b[0m   \n",
       "\u001b[1;36m2\u001b[0m   \u001b[1m{\u001b[0m\u001b[32m'model__alpha'\u001b[0m: \u001b[1;36m0.024252424431976775\u001b[0m, 'model_\u001b[33m...\u001b[0m \u001b[1;36m-0.309510\u001b[0m   \u001b[1;36m4.358569\u001b[0m   \n",
       "\u001b[1;36m5\u001b[0m                              \u001b[1m{\u001b[0m\u001b[32m'model__alpha'\u001b[0m: \u001b[1;36m10.0\u001b[0m\u001b[1m}\u001b[0m \u001b[1;36m-0.321521\u001b[0m   \u001b[1;36m4.378512\u001b[0m   \n",
       "\n",
       "    test_mae  test_mape  \n",
       "\u001b[1;36m18\u001b[0m  \u001b[1;36m2.498285\u001b[0m        inf  \n",
       "\u001b[1;36m21\u001b[0m  \u001b[1;36m2.478205\u001b[0m        inf  \n",
       "\u001b[1;36m15\u001b[0m  \u001b[1;36m2.510934\u001b[0m        inf  \n",
       "\u001b[1;36m27\u001b[0m  \u001b[1;36m2.564826\u001b[0m        inf  \n",
       "\u001b[1;36m24\u001b[0m  \u001b[1;36m2.557502\u001b[0m        inf  \n",
       "\u001b[1;36m12\u001b[0m  \u001b[1;36m2.570618\u001b[0m        inf  \n",
       "\u001b[1;36m6\u001b[0m   \u001b[1;36m3.456125\u001b[0m        inf  \n",
       "\u001b[1;36m0\u001b[0m   \u001b[1;36m3.457107\u001b[0m        inf  \n",
       "\u001b[1;36m3\u001b[0m   \u001b[1;36m3.458413\u001b[0m        inf  \n",
       "\u001b[1;36m9\u001b[0m   \u001b[1;36m7.365818\u001b[0m        inf  \n",
       "\u001b[1;36m22\u001b[0m  \u001b[1;36m2.208099\u001b[0m        inf  \n",
       "\u001b[1;36m19\u001b[0m  \u001b[1;36m2.373554\u001b[0m        inf  \n",
       "\u001b[1;36m28\u001b[0m  \u001b[1;36m2.333533\u001b[0m        inf  \n",
       "\u001b[1;36m25\u001b[0m  \u001b[1;36m2.365226\u001b[0m        inf  \n",
       "\u001b[1;36m16\u001b[0m  \u001b[1;36m2.415282\u001b[0m        inf  \n",
       "\u001b[1;36m10\u001b[0m  \u001b[1;36m2.548096\u001b[0m        inf  \n",
       "\u001b[1;36m13\u001b[0m  \u001b[1;36m2.717401\u001b[0m        inf  \n",
       "\u001b[1;36m1\u001b[0m   \u001b[1;36m2.990952\u001b[0m        inf  \n",
       "\u001b[1;36m7\u001b[0m   \u001b[1;36m3.039096\u001b[0m        inf  \n",
       "\u001b[1;36m4\u001b[0m   \u001b[1;36m3.080525\u001b[0m        inf  \n",
       "\u001b[1;36m20\u001b[0m  \u001b[1;36m2.059207\u001b[0m        inf  \n",
       "\u001b[1;36m23\u001b[0m  \u001b[1;36m2.072789\u001b[0m        inf  \n",
       "\u001b[1;36m17\u001b[0m  \u001b[1;36m2.092264\u001b[0m        inf  \n",
       "\u001b[1;36m29\u001b[0m  \u001b[1;36m2.116941\u001b[0m        inf  \n",
       "\u001b[1;36m26\u001b[0m  \u001b[1;36m2.139275\u001b[0m        inf  \n",
       "\u001b[1;36m14\u001b[0m  \u001b[1;36m2.238176\u001b[0m        inf  \n",
       "\u001b[1;36m11\u001b[0m  \u001b[1;36m2.323762\u001b[0m        inf  \n",
       "\u001b[1;36m8\u001b[0m   \u001b[1;36m3.057433\u001b[0m        inf  \n",
       "\u001b[1;36m2\u001b[0m   \u001b[1;36m3.058155\u001b[0m        inf  \n",
       "\u001b[1;36m5\u001b[0m   \u001b[1;36m3.102833\u001b[0m        inf  "
      ]
     },
     "execution_count": 143,
     "metadata": {},
     "output_type": "execute_result"
    }
   ],
   "source": [
    "results_df.sort_values(by=['gameweek', 'test_rmse'])"
   ]
  },
  {
   "cell_type": "code",
   "execution_count": null,
   "id": "592f9b5d",
   "metadata": {},
   "outputs": [
    {
     "data": {
      "text/html": [
       "<pre style=\"white-space:pre;overflow-x:auto;line-height:normal;font-family:Menlo,'DejaVu Sans Mono',consolas,'Courier New',monospace\"></pre>\n"
      ],
      "text/plain": []
     },
     "metadata": {},
     "output_type": "display_data"
    },
    {
     "data": {
      "text/plain": [
       "\u001b[1;35mOrderedDict\u001b[0m\u001b[1m(\u001b[0m\u001b[1m{\u001b[0m\u001b[32m'model__learning_rate'\u001b[0m: \u001b[1;36m0.01597774786435076\u001b[0m, \u001b[32m'model__max_depth'\u001b[0m: \u001b[1;36m3\u001b[0m, \u001b[32m'model__n_estimators'\u001b[0m: \u001b[1;36m228\u001b[0m\u001b[1m}\u001b[0m\u001b[1m)\u001b[0m"
      ]
     },
     "execution_count": 141,
     "metadata": {},
     "output_type": "execute_result"
    }
   ],
   "source": [
    "min_rmse_rows = results_df.loc[results_df.groupby('gameweek')['test_rmse'].idxmin()]\n",
    "min_rmse_rows['best_params'].iloc[-3]"
   ]
  },
  {
   "cell_type": "markdown",
   "id": "2c9afd69",
   "metadata": {},
   "source": []
  }
 ],
 "metadata": {
  "kernelspec": {
   "display_name": ".venv",
   "language": "python",
   "name": "python3"
  },
  "language_info": {
   "codemirror_mode": {
    "name": "ipython",
    "version": 3
   },
   "file_extension": ".py",
   "mimetype": "text/x-python",
   "name": "python",
   "nbconvert_exporter": "python",
   "pygments_lexer": "ipython3",
   "version": "3.12.11"
  }
 },
 "nbformat": 4,
 "nbformat_minor": 5
}
