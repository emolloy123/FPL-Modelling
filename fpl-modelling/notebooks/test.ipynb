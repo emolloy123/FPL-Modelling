{
 "cells": [
  {
   "cell_type": "code",
   "execution_count": 93,
   "id": "ef27b8cf",
   "metadata": {},
   "outputs": [
    {
     "data": {
      "text/html": [
       "<pre style=\"white-space:pre;overflow-x:auto;line-height:normal;font-family:Menlo,'DejaVu Sans Mono',consolas,'Courier New',monospace\"><span style=\"color: #7fbfbf; text-decoration-color: #7fbfbf\">[10/06/25 23:04:12] </span><span style=\"color: #000080; text-decoration-color: #000080\">INFO    </span> Registered line magic <span style=\"color: #008000; text-decoration-color: #008000\">'%reload_kedro'</span>                                   <a href=\"file:///Users/eoinmolloy/Documents/Documents/FPL-Modelling/.venv/lib/python3.12/site-packages/kedro/ipython/__init__.py\" target=\"_blank\"><span style=\"color: #7f7f7f; text-decoration-color: #7f7f7f\">__init__.py</span></a><span style=\"color: #7f7f7f; text-decoration-color: #7f7f7f\">:</span><a href=\"file:///Users/eoinmolloy/Documents/Documents/FPL-Modelling/.venv/lib/python3.12/site-packages/kedro/ipython/__init__.py#63\" target=\"_blank\"><span style=\"color: #7f7f7f; text-decoration-color: #7f7f7f\">63</span></a>\n",
       "</pre>\n"
      ],
      "text/plain": [
       "\u001b[2;36m[10/06/25 23:04:12]\u001b[0m\u001b[2;36m \u001b[0m\u001b[34mINFO    \u001b[0m Registered line magic \u001b[32m'%reload_kedro'\u001b[0m                                   \u001b]8;id=123275;file:///Users/eoinmolloy/Documents/Documents/FPL-Modelling/.venv/lib/python3.12/site-packages/kedro/ipython/__init__.py\u001b\\\u001b[2m__init__.py\u001b[0m\u001b]8;;\u001b\\\u001b[2m:\u001b[0m\u001b]8;id=243555;file:///Users/eoinmolloy/Documents/Documents/FPL-Modelling/.venv/lib/python3.12/site-packages/kedro/ipython/__init__.py#63\u001b\\\u001b[2m63\u001b[0m\u001b]8;;\u001b\\\n"
      ]
     },
     "metadata": {},
     "output_type": "display_data"
    },
    {
     "data": {
      "text/html": [
       "<pre style=\"white-space:pre;overflow-x:auto;line-height:normal;font-family:Menlo,'DejaVu Sans Mono',consolas,'Courier New',monospace\"><span style=\"color: #7fbfbf; text-decoration-color: #7fbfbf\">                    </span><span style=\"color: #000080; text-decoration-color: #000080\">INFO    </span> Registered line magic <span style=\"color: #008000; text-decoration-color: #008000\">'%load_node'</span>                                      <a href=\"file:///Users/eoinmolloy/Documents/Documents/FPL-Modelling/.venv/lib/python3.12/site-packages/kedro/ipython/__init__.py\" target=\"_blank\"><span style=\"color: #7f7f7f; text-decoration-color: #7f7f7f\">__init__.py</span></a><span style=\"color: #7f7f7f; text-decoration-color: #7f7f7f\">:</span><a href=\"file:///Users/eoinmolloy/Documents/Documents/FPL-Modelling/.venv/lib/python3.12/site-packages/kedro/ipython/__init__.py#65\" target=\"_blank\"><span style=\"color: #7f7f7f; text-decoration-color: #7f7f7f\">65</span></a>\n",
       "</pre>\n"
      ],
      "text/plain": [
       "\u001b[2;36m                   \u001b[0m\u001b[2;36m \u001b[0m\u001b[34mINFO    \u001b[0m Registered line magic \u001b[32m'%load_node'\u001b[0m                                      \u001b]8;id=679868;file:///Users/eoinmolloy/Documents/Documents/FPL-Modelling/.venv/lib/python3.12/site-packages/kedro/ipython/__init__.py\u001b\\\u001b[2m__init__.py\u001b[0m\u001b]8;;\u001b\\\u001b[2m:\u001b[0m\u001b]8;id=854170;file:///Users/eoinmolloy/Documents/Documents/FPL-Modelling/.venv/lib/python3.12/site-packages/kedro/ipython/__init__.py#65\u001b\\\u001b[2m65\u001b[0m\u001b]8;;\u001b\\\n"
      ]
     },
     "metadata": {},
     "output_type": "display_data"
    },
    {
     "data": {
      "text/html": [
       "<pre style=\"white-space:pre;overflow-x:auto;line-height:normal;font-family:Menlo,'DejaVu Sans Mono',consolas,'Courier New',monospace\"><span style=\"color: #7fbfbf; text-decoration-color: #7fbfbf\">                    </span><span style=\"color: #000080; text-decoration-color: #000080\">INFO    </span> Resolved project path as:                                              <a href=\"file:///Users/eoinmolloy/Documents/Documents/FPL-Modelling/.venv/lib/python3.12/site-packages/kedro/ipython/__init__.py\" target=\"_blank\"><span style=\"color: #7f7f7f; text-decoration-color: #7f7f7f\">__init__.py</span></a><span style=\"color: #7f7f7f; text-decoration-color: #7f7f7f\">:</span><a href=\"file:///Users/eoinmolloy/Documents/Documents/FPL-Modelling/.venv/lib/python3.12/site-packages/kedro/ipython/__init__.py#180\" target=\"_blank\"><span style=\"color: #7f7f7f; text-decoration-color: #7f7f7f\">180</span></a>\n",
       "<span style=\"color: #7fbfbf; text-decoration-color: #7fbfbf\">                    </span>         <span style=\"color: #800080; text-decoration-color: #800080\">/Users/eoinmolloy/Documents/Documents/FPL-Modelling/</span><span style=\"color: #ff00ff; text-decoration-color: #ff00ff\">fpl-modelling.</span>     <span style=\"color: #7f7f7f; text-decoration-color: #7f7f7f\">               </span>\n",
       "<span style=\"color: #7fbfbf; text-decoration-color: #7fbfbf\">                    </span>         To set a different path, run <span style=\"color: #008000; text-decoration-color: #008000\">'%reload_kedro &lt;project_root&gt;'</span>            <span style=\"color: #7f7f7f; text-decoration-color: #7f7f7f\">               </span>\n",
       "</pre>\n"
      ],
      "text/plain": [
       "\u001b[2;36m                   \u001b[0m\u001b[2;36m \u001b[0m\u001b[34mINFO    \u001b[0m Resolved project path as:                                              \u001b]8;id=872501;file:///Users/eoinmolloy/Documents/Documents/FPL-Modelling/.venv/lib/python3.12/site-packages/kedro/ipython/__init__.py\u001b\\\u001b[2m__init__.py\u001b[0m\u001b]8;;\u001b\\\u001b[2m:\u001b[0m\u001b]8;id=207053;file:///Users/eoinmolloy/Documents/Documents/FPL-Modelling/.venv/lib/python3.12/site-packages/kedro/ipython/__init__.py#180\u001b\\\u001b[2m180\u001b[0m\u001b]8;;\u001b\\\n",
       "\u001b[2;36m                    \u001b[0m         \u001b[35m/Users/eoinmolloy/Documents/Documents/FPL-Modelling/\u001b[0m\u001b[95mfpl-modelling.\u001b[0m     \u001b[2m               \u001b[0m\n",
       "\u001b[2;36m                    \u001b[0m         To set a different path, run \u001b[32m'%reload_kedro \u001b[0m\u001b[32m<\u001b[0m\u001b[32mproject_root\u001b[0m\u001b[32m>\u001b[0m\u001b[32m'\u001b[0m            \u001b[2m               \u001b[0m\n"
      ]
     },
     "metadata": {},
     "output_type": "display_data"
    },
    {
     "data": {
      "text/html": [
       "<pre style=\"white-space:pre;overflow-x:auto;line-height:normal;font-family:Menlo,'DejaVu Sans Mono',consolas,'Courier New',monospace\"><span style=\"color: #7fbfbf; text-decoration-color: #7fbfbf\">                    </span><span style=\"color: #000080; text-decoration-color: #000080\">INFO    </span> Kedro is sending anonymous usage data with the sole purpose of improving <a href=\"file:///Users/eoinmolloy/Documents/Documents/FPL-Modelling/.venv/lib/python3.12/site-packages/kedro_telemetry/plugin.py\" target=\"_blank\"><span style=\"color: #7f7f7f; text-decoration-color: #7f7f7f\">plugin.py</span></a><span style=\"color: #7f7f7f; text-decoration-color: #7f7f7f\">:</span><a href=\"file:///Users/eoinmolloy/Documents/Documents/FPL-Modelling/.venv/lib/python3.12/site-packages/kedro_telemetry/plugin.py#243\" target=\"_blank\"><span style=\"color: #7f7f7f; text-decoration-color: #7f7f7f\">243</span></a>\n",
       "<span style=\"color: #7fbfbf; text-decoration-color: #7fbfbf\">                    </span>         the product. No personal data or IP addresses are stored on our side. To <span style=\"color: #7f7f7f; text-decoration-color: #7f7f7f\">             </span>\n",
       "<span style=\"color: #7fbfbf; text-decoration-color: #7fbfbf\">                    </span>         opt out, set the `KEDRO_DISABLE_TELEMETRY` or `DO_NOT_TRACK` environment <span style=\"color: #7f7f7f; text-decoration-color: #7f7f7f\">             </span>\n",
       "<span style=\"color: #7fbfbf; text-decoration-color: #7fbfbf\">                    </span>         variables, or create a `.telemetry` file in the current working          <span style=\"color: #7f7f7f; text-decoration-color: #7f7f7f\">             </span>\n",
       "<span style=\"color: #7fbfbf; text-decoration-color: #7fbfbf\">                    </span>         directory with the contents `consent: false`. To hide this message,      <span style=\"color: #7f7f7f; text-decoration-color: #7f7f7f\">             </span>\n",
       "<span style=\"color: #7fbfbf; text-decoration-color: #7fbfbf\">                    </span>         explicitly grant or deny consent. Read more at                           <span style=\"color: #7f7f7f; text-decoration-color: #7f7f7f\">             </span>\n",
       "<span style=\"color: #7fbfbf; text-decoration-color: #7fbfbf\">                    </span>         <span style=\"color: #0000ff; text-decoration-color: #0000ff; text-decoration: underline\">https://docs.kedro.org/en/stable/configuration/telemetry.html</span>            <span style=\"color: #7f7f7f; text-decoration-color: #7f7f7f\">             </span>\n",
       "</pre>\n"
      ],
      "text/plain": [
       "\u001b[2;36m                   \u001b[0m\u001b[2;36m \u001b[0m\u001b[34mINFO    \u001b[0m Kedro is sending anonymous usage data with the sole purpose of improving \u001b]8;id=622084;file:///Users/eoinmolloy/Documents/Documents/FPL-Modelling/.venv/lib/python3.12/site-packages/kedro_telemetry/plugin.py\u001b\\\u001b[2mplugin.py\u001b[0m\u001b]8;;\u001b\\\u001b[2m:\u001b[0m\u001b]8;id=246188;file:///Users/eoinmolloy/Documents/Documents/FPL-Modelling/.venv/lib/python3.12/site-packages/kedro_telemetry/plugin.py#243\u001b\\\u001b[2m243\u001b[0m\u001b]8;;\u001b\\\n",
       "\u001b[2;36m                    \u001b[0m         the product. No personal data or IP addresses are stored on our side. To \u001b[2m             \u001b[0m\n",
       "\u001b[2;36m                    \u001b[0m         opt out, set the `KEDRO_DISABLE_TELEMETRY` or `DO_NOT_TRACK` environment \u001b[2m             \u001b[0m\n",
       "\u001b[2;36m                    \u001b[0m         variables, or create a `.telemetry` file in the current working          \u001b[2m             \u001b[0m\n",
       "\u001b[2;36m                    \u001b[0m         directory with the contents `consent: false`. To hide this message,      \u001b[2m             \u001b[0m\n",
       "\u001b[2;36m                    \u001b[0m         explicitly grant or deny consent. Read more at                           \u001b[2m             \u001b[0m\n",
       "\u001b[2;36m                    \u001b[0m         \u001b[4;94mhttps://docs.kedro.org/en/stable/configuration/telemetry.html\u001b[0m            \u001b[2m             \u001b[0m\n"
      ]
     },
     "metadata": {},
     "output_type": "display_data"
    },
    {
     "data": {
      "text/html": [
       "<pre style=\"white-space:pre;overflow-x:auto;line-height:normal;font-family:Menlo,'DejaVu Sans Mono',consolas,'Courier New',monospace\"><span style=\"color: #7fbfbf; text-decoration-color: #7fbfbf\">[10/06/25 23:04:13] </span><span style=\"color: #000080; text-decoration-color: #000080\">INFO    </span> Kedro project fpl_modelling                                            <a href=\"file:///Users/eoinmolloy/Documents/Documents/FPL-Modelling/.venv/lib/python3.12/site-packages/kedro/ipython/__init__.py\" target=\"_blank\"><span style=\"color: #7f7f7f; text-decoration-color: #7f7f7f\">__init__.py</span></a><span style=\"color: #7f7f7f; text-decoration-color: #7f7f7f\">:</span><a href=\"file:///Users/eoinmolloy/Documents/Documents/FPL-Modelling/.venv/lib/python3.12/site-packages/kedro/ipython/__init__.py#146\" target=\"_blank\"><span style=\"color: #7f7f7f; text-decoration-color: #7f7f7f\">146</span></a>\n",
       "</pre>\n"
      ],
      "text/plain": [
       "\u001b[2;36m[10/06/25 23:04:13]\u001b[0m\u001b[2;36m \u001b[0m\u001b[34mINFO    \u001b[0m Kedro project fpl_modelling                                            \u001b]8;id=279135;file:///Users/eoinmolloy/Documents/Documents/FPL-Modelling/.venv/lib/python3.12/site-packages/kedro/ipython/__init__.py\u001b\\\u001b[2m__init__.py\u001b[0m\u001b]8;;\u001b\\\u001b[2m:\u001b[0m\u001b]8;id=968331;file:///Users/eoinmolloy/Documents/Documents/FPL-Modelling/.venv/lib/python3.12/site-packages/kedro/ipython/__init__.py#146\u001b\\\u001b[2m146\u001b[0m\u001b]8;;\u001b\\\n"
      ]
     },
     "metadata": {},
     "output_type": "display_data"
    },
    {
     "data": {
      "text/html": [
       "<pre style=\"white-space:pre;overflow-x:auto;line-height:normal;font-family:Menlo,'DejaVu Sans Mono',consolas,'Courier New',monospace\"><span style=\"color: #7fbfbf; text-decoration-color: #7fbfbf\">                    </span><span style=\"color: #000080; text-decoration-color: #000080\">INFO    </span> Defined global variable <span style=\"color: #008000; text-decoration-color: #008000\">'context'</span>, <span style=\"color: #008000; text-decoration-color: #008000\">'session'</span>, <span style=\"color: #008000; text-decoration-color: #008000\">'catalog'</span> and            <a href=\"file:///Users/eoinmolloy/Documents/Documents/FPL-Modelling/.venv/lib/python3.12/site-packages/kedro/ipython/__init__.py\" target=\"_blank\"><span style=\"color: #7f7f7f; text-decoration-color: #7f7f7f\">__init__.py</span></a><span style=\"color: #7f7f7f; text-decoration-color: #7f7f7f\">:</span><a href=\"file:///Users/eoinmolloy/Documents/Documents/FPL-Modelling/.venv/lib/python3.12/site-packages/kedro/ipython/__init__.py#147\" target=\"_blank\"><span style=\"color: #7f7f7f; text-decoration-color: #7f7f7f\">147</span></a>\n",
       "<span style=\"color: #7fbfbf; text-decoration-color: #7fbfbf\">                    </span>         <span style=\"color: #008000; text-decoration-color: #008000\">'pipelines'</span>                                                            <span style=\"color: #7f7f7f; text-decoration-color: #7f7f7f\">               </span>\n",
       "</pre>\n"
      ],
      "text/plain": [
       "\u001b[2;36m                   \u001b[0m\u001b[2;36m \u001b[0m\u001b[34mINFO    \u001b[0m Defined global variable \u001b[32m'context'\u001b[0m, \u001b[32m'session'\u001b[0m, \u001b[32m'catalog'\u001b[0m and            \u001b]8;id=156336;file:///Users/eoinmolloy/Documents/Documents/FPL-Modelling/.venv/lib/python3.12/site-packages/kedro/ipython/__init__.py\u001b\\\u001b[2m__init__.py\u001b[0m\u001b]8;;\u001b\\\u001b[2m:\u001b[0m\u001b]8;id=381123;file:///Users/eoinmolloy/Documents/Documents/FPL-Modelling/.venv/lib/python3.12/site-packages/kedro/ipython/__init__.py#147\u001b\\\u001b[2m147\u001b[0m\u001b]8;;\u001b\\\n",
       "\u001b[2;36m                    \u001b[0m         \u001b[32m'pipelines'\u001b[0m                                                            \u001b[2m               \u001b[0m\n"
      ]
     },
     "metadata": {},
     "output_type": "display_data"
    }
   ],
   "source": [
    "%reload_ext kedro.ipython"
   ]
  },
  {
   "cell_type": "code",
   "execution_count": 67,
   "id": "7e8ec232",
   "metadata": {},
   "outputs": [
    {
     "data": {
      "text/html": [
       "<pre style=\"white-space:pre;overflow-x:auto;line-height:normal;font-family:Menlo,'DejaVu Sans Mono',consolas,'Courier New',monospace\"><span style=\"color: #7fbfbf; text-decoration-color: #7fbfbf\">                    </span><span style=\"color: #000080; text-decoration-color: #000080\">INFO    </span> Loading data from <span style=\"color: #ff8700; text-decoration-color: #ff8700\">current_team</span> <span style=\"font-weight: bold\">(</span>SQLQueryDataset<span style=\"font-weight: bold\">)</span><span style=\"color: #808000; text-decoration-color: #808000\">...</span>               <a href=\"file:///Users/eoinmolloy/Documents/Documents/FPL-Modelling/.venv/lib/python3.12/site-packages/kedro/io/data_catalog.py\" target=\"_blank\"><span style=\"color: #7f7f7f; text-decoration-color: #7f7f7f\">data_catalog.py</span></a><span style=\"color: #7f7f7f; text-decoration-color: #7f7f7f\">:</span><a href=\"file:///Users/eoinmolloy/Documents/Documents/FPL-Modelling/.venv/lib/python3.12/site-packages/kedro/io/data_catalog.py#1046\" target=\"_blank\"><span style=\"color: #7f7f7f; text-decoration-color: #7f7f7f\">1046</span></a>\n",
       "</pre>\n"
      ],
      "text/plain": [
       "\u001b[2;36m                   \u001b[0m\u001b[2;36m \u001b[0m\u001b[34mINFO    \u001b[0m Loading data from \u001b[38;5;208mcurrent_team\u001b[0m \u001b[1m(\u001b[0mSQLQueryDataset\u001b[1m)\u001b[0m\u001b[33m...\u001b[0m               \u001b]8;id=409795;file:///Users/eoinmolloy/Documents/Documents/FPL-Modelling/.venv/lib/python3.12/site-packages/kedro/io/data_catalog.py\u001b\\\u001b[2mdata_catalog.py\u001b[0m\u001b]8;;\u001b\\\u001b[2m:\u001b[0m\u001b]8;id=922897;file:///Users/eoinmolloy/Documents/Documents/FPL-Modelling/.venv/lib/python3.12/site-packages/kedro/io/data_catalog.py#1046\u001b\\\u001b[2m1046\u001b[0m\u001b]8;;\u001b\\\n"
      ]
     },
     "metadata": {},
     "output_type": "display_data"
    },
    {
     "data": {
      "text/html": [
       "<pre style=\"white-space:pre;overflow-x:auto;line-height:normal;font-family:Menlo,'DejaVu Sans Mono',consolas,'Courier New',monospace\"></pre>\n"
      ],
      "text/plain": []
     },
     "metadata": {},
     "output_type": "display_data"
    },
    {
     "data": {
      "text/html": [
       "<div>\n",
       "<style scoped>\n",
       "    .dataframe tbody tr th:only-of-type {\n",
       "        vertical-align: middle;\n",
       "    }\n",
       "\n",
       "    .dataframe tbody tr th {\n",
       "        vertical-align: top;\n",
       "    }\n",
       "\n",
       "    .dataframe thead th {\n",
       "        text-align: right;\n",
       "    }\n",
       "</style>\n",
       "<table border=\"1\" class=\"dataframe\">\n",
       "  <thead>\n",
       "    <tr style=\"text-align: right;\">\n",
       "      <th></th>\n",
       "      <th>player_id</th>\n",
       "      <th>position_id</th>\n",
       "      <th>selling_price</th>\n",
       "      <th>purchase_price</th>\n",
       "      <th>player_name</th>\n",
       "      <th>total_points</th>\n",
       "      <th>total_minutes</th>\n",
       "      <th>now_cost</th>\n",
       "      <th>selected_by_percent</th>\n",
       "      <th>transfers_in</th>\n",
       "      <th>transfers_out</th>\n",
       "      <th>team_id</th>\n",
       "      <th>chance_of_playing_next_round</th>\n",
       "      <th>form</th>\n",
       "      <th>web_name</th>\n",
       "      <th>first_name</th>\n",
       "      <th>second_name</th>\n",
       "      <th>points_per_game</th>\n",
       "      <th>position_name</th>\n",
       "      <th>position_name_abbr</th>\n",
       "    </tr>\n",
       "  </thead>\n",
       "  <tbody>\n",
       "    <tr>\n",
       "      <th>0</th>\n",
       "      <td>366</td>\n",
       "      <td>1</td>\n",
       "      <td>55</td>\n",
       "      <td>55</td>\n",
       "      <td>Alisson Becker</td>\n",
       "      <td>20</td>\n",
       "      <td>540</td>\n",
       "      <td>5.5</td>\n",
       "      <td>8.3</td>\n",
       "      <td>276718</td>\n",
       "      <td>705993</td>\n",
       "      <td>12</td>\n",
       "      <td>0.0</td>\n",
       "      <td>2.5</td>\n",
       "      <td>A.Becker</td>\n",
       "      <td>Alisson</td>\n",
       "      <td>Becker</td>\n",
       "      <td>3.3</td>\n",
       "      <td>Goalkeeper</td>\n",
       "      <td>GKP</td>\n",
       "    </tr>\n",
       "    <tr>\n",
       "      <th>1</th>\n",
       "      <td>8</td>\n",
       "      <td>2</td>\n",
       "      <td>56</td>\n",
       "      <td>55</td>\n",
       "      <td>Jurriën Timber</td>\n",
       "      <td>48</td>\n",
       "      <td>521</td>\n",
       "      <td>5.9</td>\n",
       "      <td>16.8</td>\n",
       "      <td>1868794</td>\n",
       "      <td>409426</td>\n",
       "      <td>1</td>\n",
       "      <td>NaN</td>\n",
       "      <td>5.5</td>\n",
       "      <td>J.Timber</td>\n",
       "      <td>Jurriën</td>\n",
       "      <td>Timber</td>\n",
       "      <td>6.9</td>\n",
       "      <td>Defender</td>\n",
       "      <td>DEF</td>\n",
       "    </tr>\n",
       "    <tr>\n",
       "      <th>2</th>\n",
       "      <td>370</td>\n",
       "      <td>2</td>\n",
       "      <td>59</td>\n",
       "      <td>60</td>\n",
       "      <td>Jeremie Frimpong</td>\n",
       "      <td>6</td>\n",
       "      <td>78</td>\n",
       "      <td>5.9</td>\n",
       "      <td>7.4</td>\n",
       "      <td>175307</td>\n",
       "      <td>2609766</td>\n",
       "      <td>12</td>\n",
       "      <td>100.0</td>\n",
       "      <td>1.2</td>\n",
       "      <td>Frimpong</td>\n",
       "      <td>Jeremie</td>\n",
       "      <td>Frimpong</td>\n",
       "      <td>2.0</td>\n",
       "      <td>Defender</td>\n",
       "      <td>DEF</td>\n",
       "    </tr>\n",
       "    <tr>\n",
       "      <th>3</th>\n",
       "      <td>402</td>\n",
       "      <td>2</td>\n",
       "      <td>58</td>\n",
       "      <td>60</td>\n",
       "      <td>Rayan Aït-Nouri</td>\n",
       "      <td>10</td>\n",
       "      <td>202</td>\n",
       "      <td>5.8</td>\n",
       "      <td>5.8</td>\n",
       "      <td>480537</td>\n",
       "      <td>2124824</td>\n",
       "      <td>13</td>\n",
       "      <td>50.0</td>\n",
       "      <td>0.0</td>\n",
       "      <td>Aït-Nouri</td>\n",
       "      <td>Rayan</td>\n",
       "      <td>Aït-Nouri</td>\n",
       "      <td>3.3</td>\n",
       "      <td>Defender</td>\n",
       "      <td>DEF</td>\n",
       "    </tr>\n",
       "    <tr>\n",
       "      <th>4</th>\n",
       "      <td>371</td>\n",
       "      <td>2</td>\n",
       "      <td>59</td>\n",
       "      <td>60</td>\n",
       "      <td>Milos Kerkez</td>\n",
       "      <td>13</td>\n",
       "      <td>510</td>\n",
       "      <td>5.9</td>\n",
       "      <td>4.4</td>\n",
       "      <td>207136</td>\n",
       "      <td>495764</td>\n",
       "      <td>12</td>\n",
       "      <td>NaN</td>\n",
       "      <td>1.5</td>\n",
       "      <td>Kerkez</td>\n",
       "      <td>Milos</td>\n",
       "      <td>Kerkez</td>\n",
       "      <td>1.9</td>\n",
       "      <td>Defender</td>\n",
       "      <td>DEF</td>\n",
       "    </tr>\n",
       "    <tr>\n",
       "      <th>5</th>\n",
       "      <td>47</td>\n",
       "      <td>3</td>\n",
       "      <td>69</td>\n",
       "      <td>70</td>\n",
       "      <td>Morgan Rogers</td>\n",
       "      <td>22</td>\n",
       "      <td>621</td>\n",
       "      <td>6.9</td>\n",
       "      <td>5.5</td>\n",
       "      <td>440012</td>\n",
       "      <td>904192</td>\n",
       "      <td>2</td>\n",
       "      <td>100.0</td>\n",
       "      <td>3.8</td>\n",
       "      <td>Rogers</td>\n",
       "      <td>Morgan</td>\n",
       "      <td>Rogers</td>\n",
       "      <td>3.1</td>\n",
       "      <td>Midfielder</td>\n",
       "      <td>MID</td>\n",
       "    </tr>\n",
       "    <tr>\n",
       "      <th>6</th>\n",
       "      <td>580</td>\n",
       "      <td>3</td>\n",
       "      <td>70</td>\n",
       "      <td>70</td>\n",
       "      <td>Brennan Johnson</td>\n",
       "      <td>22</td>\n",
       "      <td>266</td>\n",
       "      <td>6.9</td>\n",
       "      <td>4.7</td>\n",
       "      <td>1071095</td>\n",
       "      <td>975577</td>\n",
       "      <td>18</td>\n",
       "      <td>NaN</td>\n",
       "      <td>1.0</td>\n",
       "      <td>Johnson</td>\n",
       "      <td>Brennan</td>\n",
       "      <td>Johnson</td>\n",
       "      <td>3.1</td>\n",
       "      <td>Midfielder</td>\n",
       "      <td>MID</td>\n",
       "    </tr>\n",
       "    <tr>\n",
       "      <th>7</th>\n",
       "      <td>236</td>\n",
       "      <td>3</td>\n",
       "      <td>70</td>\n",
       "      <td>70</td>\n",
       "      <td>Pedro Lomba Neto</td>\n",
       "      <td>20</td>\n",
       "      <td>508</td>\n",
       "      <td>7.0</td>\n",
       "      <td>4.0</td>\n",
       "      <td>402889</td>\n",
       "      <td>448097</td>\n",
       "      <td>7</td>\n",
       "      <td>NaN</td>\n",
       "      <td>1.8</td>\n",
       "      <td>Neto</td>\n",
       "      <td>Pedro</td>\n",
       "      <td>Lomba Neto</td>\n",
       "      <td>2.9</td>\n",
       "      <td>Midfielder</td>\n",
       "      <td>MID</td>\n",
       "    </tr>\n",
       "    <tr>\n",
       "      <th>8</th>\n",
       "      <td>82</td>\n",
       "      <td>3</td>\n",
       "      <td>74</td>\n",
       "      <td>70</td>\n",
       "      <td>Antoine Semenyo</td>\n",
       "      <td>66</td>\n",
       "      <td>630</td>\n",
       "      <td>7.9</td>\n",
       "      <td>58.1</td>\n",
       "      <td>6241079</td>\n",
       "      <td>518130</td>\n",
       "      <td>4</td>\n",
       "      <td>NaN</td>\n",
       "      <td>10.8</td>\n",
       "      <td>Semenyo</td>\n",
       "      <td>Antoine</td>\n",
       "      <td>Semenyo</td>\n",
       "      <td>9.4</td>\n",
       "      <td>Midfielder</td>\n",
       "      <td>MID</td>\n",
       "    </tr>\n",
       "    <tr>\n",
       "      <th>9</th>\n",
       "      <td>624</td>\n",
       "      <td>4</td>\n",
       "      <td>77</td>\n",
       "      <td>80</td>\n",
       "      <td>Jarrod Bowen</td>\n",
       "      <td>35</td>\n",
       "      <td>630</td>\n",
       "      <td>7.7</td>\n",
       "      <td>6.9</td>\n",
       "      <td>323536</td>\n",
       "      <td>1325388</td>\n",
       "      <td>19</td>\n",
       "      <td>NaN</td>\n",
       "      <td>5.5</td>\n",
       "      <td>Bowen</td>\n",
       "      <td>Jarrod</td>\n",
       "      <td>Bowen</td>\n",
       "      <td>5.0</td>\n",
       "      <td>Forward</td>\n",
       "      <td>FWD</td>\n",
       "    </tr>\n",
       "    <tr>\n",
       "      <th>10</th>\n",
       "      <td>30</td>\n",
       "      <td>4</td>\n",
       "      <td>73</td>\n",
       "      <td>75</td>\n",
       "      <td>Kai Havertz</td>\n",
       "      <td>1</td>\n",
       "      <td>30</td>\n",
       "      <td>7.3</td>\n",
       "      <td>0.4</td>\n",
       "      <td>8604</td>\n",
       "      <td>105978</td>\n",
       "      <td>1</td>\n",
       "      <td>0.0</td>\n",
       "      <td>0.0</td>\n",
       "      <td>Havertz</td>\n",
       "      <td>Kai</td>\n",
       "      <td>Havertz</td>\n",
       "      <td>1.0</td>\n",
       "      <td>Forward</td>\n",
       "      <td>FWD</td>\n",
       "    </tr>\n",
       "    <tr>\n",
       "      <th>11</th>\n",
       "      <td>287</td>\n",
       "      <td>1</td>\n",
       "      <td>55</td>\n",
       "      <td>55</td>\n",
       "      <td>Jordan Pickford</td>\n",
       "      <td>30</td>\n",
       "      <td>630</td>\n",
       "      <td>5.5</td>\n",
       "      <td>10.7</td>\n",
       "      <td>366173</td>\n",
       "      <td>458105</td>\n",
       "      <td>9</td>\n",
       "      <td>NaN</td>\n",
       "      <td>3.0</td>\n",
       "      <td>Pickford</td>\n",
       "      <td>Jordan</td>\n",
       "      <td>Pickford</td>\n",
       "      <td>4.3</td>\n",
       "      <td>Goalkeeper</td>\n",
       "      <td>GKP</td>\n",
       "    </tr>\n",
       "    <tr>\n",
       "      <th>12</th>\n",
       "      <td>6</td>\n",
       "      <td>2</td>\n",
       "      <td>60</td>\n",
       "      <td>60</td>\n",
       "      <td>William Saliba</td>\n",
       "      <td>25</td>\n",
       "      <td>409</td>\n",
       "      <td>6.0</td>\n",
       "      <td>12.7</td>\n",
       "      <td>630770</td>\n",
       "      <td>1026187</td>\n",
       "      <td>1</td>\n",
       "      <td>100.0</td>\n",
       "      <td>2.2</td>\n",
       "      <td>Saliba</td>\n",
       "      <td>William</td>\n",
       "      <td>Saliba</td>\n",
       "      <td>4.2</td>\n",
       "      <td>Defender</td>\n",
       "      <td>DEF</td>\n",
       "    </tr>\n",
       "    <tr>\n",
       "      <th>13</th>\n",
       "      <td>486</td>\n",
       "      <td>3</td>\n",
       "      <td>69</td>\n",
       "      <td>70</td>\n",
       "      <td>Anthony Elanga</td>\n",
       "      <td>12</td>\n",
       "      <td>326</td>\n",
       "      <td>6.9</td>\n",
       "      <td>4.8</td>\n",
       "      <td>501907</td>\n",
       "      <td>873143</td>\n",
       "      <td>15</td>\n",
       "      <td>NaN</td>\n",
       "      <td>1.5</td>\n",
       "      <td>Elanga</td>\n",
       "      <td>Anthony</td>\n",
       "      <td>Elanga</td>\n",
       "      <td>1.7</td>\n",
       "      <td>Midfielder</td>\n",
       "      <td>MID</td>\n",
       "    </tr>\n",
       "    <tr>\n",
       "      <th>14</th>\n",
       "      <td>64</td>\n",
       "      <td>4</td>\n",
       "      <td>87</td>\n",
       "      <td>90</td>\n",
       "      <td>Ollie Watkins</td>\n",
       "      <td>20</td>\n",
       "      <td>598</td>\n",
       "      <td>8.7</td>\n",
       "      <td>9.6</td>\n",
       "      <td>490374</td>\n",
       "      <td>2328927</td>\n",
       "      <td>2</td>\n",
       "      <td>NaN</td>\n",
       "      <td>3.5</td>\n",
       "      <td>Watkins</td>\n",
       "      <td>Ollie</td>\n",
       "      <td>Watkins</td>\n",
       "      <td>2.9</td>\n",
       "      <td>Forward</td>\n",
       "      <td>FWD</td>\n",
       "    </tr>\n",
       "  </tbody>\n",
       "</table>\n",
       "</div>"
      ],
      "text/plain": [
       "\n",
       "    player_id  position_id  selling_price  purchase_price       player_name  \\\n",
       "\u001b[1;36m0\u001b[0m         \u001b[1;36m366\u001b[0m            \u001b[1;36m1\u001b[0m             \u001b[1;36m55\u001b[0m              \u001b[1;36m55\u001b[0m    Alisson Becker   \n",
       "\u001b[1;36m1\u001b[0m           \u001b[1;36m8\u001b[0m            \u001b[1;36m2\u001b[0m             \u001b[1;36m56\u001b[0m              \u001b[1;36m55\u001b[0m    Jurriën Timber   \n",
       "\u001b[1;36m2\u001b[0m         \u001b[1;36m370\u001b[0m            \u001b[1;36m2\u001b[0m             \u001b[1;36m59\u001b[0m              \u001b[1;36m60\u001b[0m  Jeremie Frimpong   \n",
       "\u001b[1;36m3\u001b[0m         \u001b[1;36m402\u001b[0m            \u001b[1;36m2\u001b[0m             \u001b[1;36m58\u001b[0m              \u001b[1;36m60\u001b[0m   Rayan Aït-Nouri   \n",
       "\u001b[1;36m4\u001b[0m         \u001b[1;36m371\u001b[0m            \u001b[1;36m2\u001b[0m             \u001b[1;36m59\u001b[0m              \u001b[1;36m60\u001b[0m      Milos Kerkez   \n",
       "\u001b[1;36m5\u001b[0m          \u001b[1;36m47\u001b[0m            \u001b[1;36m3\u001b[0m             \u001b[1;36m69\u001b[0m              \u001b[1;36m70\u001b[0m     Morgan Rogers   \n",
       "\u001b[1;36m6\u001b[0m         \u001b[1;36m580\u001b[0m            \u001b[1;36m3\u001b[0m             \u001b[1;36m70\u001b[0m              \u001b[1;36m70\u001b[0m   Brennan Johnson   \n",
       "\u001b[1;36m7\u001b[0m         \u001b[1;36m236\u001b[0m            \u001b[1;36m3\u001b[0m             \u001b[1;36m70\u001b[0m              \u001b[1;36m70\u001b[0m  Pedro Lomba Neto   \n",
       "\u001b[1;36m8\u001b[0m          \u001b[1;36m82\u001b[0m            \u001b[1;36m3\u001b[0m             \u001b[1;36m74\u001b[0m              \u001b[1;36m70\u001b[0m   Antoine Semenyo   \n",
       "\u001b[1;36m9\u001b[0m         \u001b[1;36m624\u001b[0m            \u001b[1;36m4\u001b[0m             \u001b[1;36m77\u001b[0m              \u001b[1;36m80\u001b[0m      Jarrod Bowen   \n",
       "\u001b[1;36m10\u001b[0m         \u001b[1;36m30\u001b[0m            \u001b[1;36m4\u001b[0m             \u001b[1;36m73\u001b[0m              \u001b[1;36m75\u001b[0m       Kai Havertz   \n",
       "\u001b[1;36m11\u001b[0m        \u001b[1;36m287\u001b[0m            \u001b[1;36m1\u001b[0m             \u001b[1;36m55\u001b[0m              \u001b[1;36m55\u001b[0m   Jordan Pickford   \n",
       "\u001b[1;36m12\u001b[0m          \u001b[1;36m6\u001b[0m            \u001b[1;36m2\u001b[0m             \u001b[1;36m60\u001b[0m              \u001b[1;36m60\u001b[0m    William Saliba   \n",
       "\u001b[1;36m13\u001b[0m        \u001b[1;36m486\u001b[0m            \u001b[1;36m3\u001b[0m             \u001b[1;36m69\u001b[0m              \u001b[1;36m70\u001b[0m    Anthony Elanga   \n",
       "\u001b[1;36m14\u001b[0m         \u001b[1;36m64\u001b[0m            \u001b[1;36m4\u001b[0m             \u001b[1;36m87\u001b[0m              \u001b[1;36m90\u001b[0m     Ollie Watkins   \n",
       "\n",
       "    total_points  total_minutes  now_cost selected_by_percent  transfers_in  \\\n",
       "\u001b[1;36m0\u001b[0m             \u001b[1;36m20\u001b[0m            \u001b[1;36m540\u001b[0m       \u001b[1;36m5.5\u001b[0m                 \u001b[1;36m8.3\u001b[0m        \u001b[1;36m276718\u001b[0m   \n",
       "\u001b[1;36m1\u001b[0m             \u001b[1;36m48\u001b[0m            \u001b[1;36m521\u001b[0m       \u001b[1;36m5.9\u001b[0m                \u001b[1;36m16.8\u001b[0m       \u001b[1;36m1868794\u001b[0m   \n",
       "\u001b[1;36m2\u001b[0m              \u001b[1;36m6\u001b[0m             \u001b[1;36m78\u001b[0m       \u001b[1;36m5.9\u001b[0m                 \u001b[1;36m7.4\u001b[0m        \u001b[1;36m175307\u001b[0m   \n",
       "\u001b[1;36m3\u001b[0m             \u001b[1;36m10\u001b[0m            \u001b[1;36m202\u001b[0m       \u001b[1;36m5.8\u001b[0m                 \u001b[1;36m5.8\u001b[0m        \u001b[1;36m480537\u001b[0m   \n",
       "\u001b[1;36m4\u001b[0m             \u001b[1;36m13\u001b[0m            \u001b[1;36m510\u001b[0m       \u001b[1;36m5.9\u001b[0m                 \u001b[1;36m4.4\u001b[0m        \u001b[1;36m207136\u001b[0m   \n",
       "\u001b[1;36m5\u001b[0m             \u001b[1;36m22\u001b[0m            \u001b[1;36m621\u001b[0m       \u001b[1;36m6.9\u001b[0m                 \u001b[1;36m5.5\u001b[0m        \u001b[1;36m440012\u001b[0m   \n",
       "\u001b[1;36m6\u001b[0m             \u001b[1;36m22\u001b[0m            \u001b[1;36m266\u001b[0m       \u001b[1;36m6.9\u001b[0m                 \u001b[1;36m4.7\u001b[0m       \u001b[1;36m1071095\u001b[0m   \n",
       "\u001b[1;36m7\u001b[0m             \u001b[1;36m20\u001b[0m            \u001b[1;36m508\u001b[0m       \u001b[1;36m7.0\u001b[0m                 \u001b[1;36m4.0\u001b[0m        \u001b[1;36m402889\u001b[0m   \n",
       "\u001b[1;36m8\u001b[0m             \u001b[1;36m66\u001b[0m            \u001b[1;36m630\u001b[0m       \u001b[1;36m7.9\u001b[0m                \u001b[1;36m58.1\u001b[0m       \u001b[1;36m6241079\u001b[0m   \n",
       "\u001b[1;36m9\u001b[0m             \u001b[1;36m35\u001b[0m            \u001b[1;36m630\u001b[0m       \u001b[1;36m7.7\u001b[0m                 \u001b[1;36m6.9\u001b[0m        \u001b[1;36m323536\u001b[0m   \n",
       "\u001b[1;36m10\u001b[0m             \u001b[1;36m1\u001b[0m             \u001b[1;36m30\u001b[0m       \u001b[1;36m7.3\u001b[0m                 \u001b[1;36m0.4\u001b[0m          \u001b[1;36m8604\u001b[0m   \n",
       "\u001b[1;36m11\u001b[0m            \u001b[1;36m30\u001b[0m            \u001b[1;36m630\u001b[0m       \u001b[1;36m5.5\u001b[0m                \u001b[1;36m10.7\u001b[0m        \u001b[1;36m366173\u001b[0m   \n",
       "\u001b[1;36m12\u001b[0m            \u001b[1;36m25\u001b[0m            \u001b[1;36m409\u001b[0m       \u001b[1;36m6.0\u001b[0m                \u001b[1;36m12.7\u001b[0m        \u001b[1;36m630770\u001b[0m   \n",
       "\u001b[1;36m13\u001b[0m            \u001b[1;36m12\u001b[0m            \u001b[1;36m326\u001b[0m       \u001b[1;36m6.9\u001b[0m                 \u001b[1;36m4.8\u001b[0m        \u001b[1;36m501907\u001b[0m   \n",
       "\u001b[1;36m14\u001b[0m            \u001b[1;36m20\u001b[0m            \u001b[1;36m598\u001b[0m       \u001b[1;36m8.7\u001b[0m                 \u001b[1;36m9.6\u001b[0m        \u001b[1;36m490374\u001b[0m   \n",
       "\n",
       "    transfers_out  team_id  chance_of_playing_next_round  form   web_name  \\\n",
       "\u001b[1;36m0\u001b[0m          \u001b[1;36m705993\u001b[0m       \u001b[1;36m12\u001b[0m                           \u001b[1;36m0.0\u001b[0m   \u001b[1;36m2.5\u001b[0m   A.Becker   \n",
       "\u001b[1;36m1\u001b[0m          \u001b[1;36m409426\u001b[0m        \u001b[1;36m1\u001b[0m                           NaN   \u001b[1;36m5.5\u001b[0m   J.Timber   \n",
       "\u001b[1;36m2\u001b[0m         \u001b[1;36m2609766\u001b[0m       \u001b[1;36m12\u001b[0m                         \u001b[1;36m100.0\u001b[0m   \u001b[1;36m1.2\u001b[0m   Frimpong   \n",
       "\u001b[1;36m3\u001b[0m         \u001b[1;36m2124824\u001b[0m       \u001b[1;36m13\u001b[0m                          \u001b[1;36m50.0\u001b[0m   \u001b[1;36m0.0\u001b[0m  Aït-Nouri   \n",
       "\u001b[1;36m4\u001b[0m          \u001b[1;36m495764\u001b[0m       \u001b[1;36m12\u001b[0m                           NaN   \u001b[1;36m1.5\u001b[0m     Kerkez   \n",
       "\u001b[1;36m5\u001b[0m          \u001b[1;36m904192\u001b[0m        \u001b[1;36m2\u001b[0m                         \u001b[1;36m100.0\u001b[0m   \u001b[1;36m3.8\u001b[0m     Rogers   \n",
       "\u001b[1;36m6\u001b[0m          \u001b[1;36m975577\u001b[0m       \u001b[1;36m18\u001b[0m                           NaN   \u001b[1;36m1.0\u001b[0m    Johnson   \n",
       "\u001b[1;36m7\u001b[0m          \u001b[1;36m448097\u001b[0m        \u001b[1;36m7\u001b[0m                           NaN   \u001b[1;36m1.8\u001b[0m       Neto   \n",
       "\u001b[1;36m8\u001b[0m          \u001b[1;36m518130\u001b[0m        \u001b[1;36m4\u001b[0m                           NaN  \u001b[1;36m10.8\u001b[0m    Semenyo   \n",
       "\u001b[1;36m9\u001b[0m         \u001b[1;36m1325388\u001b[0m       \u001b[1;36m19\u001b[0m                           NaN   \u001b[1;36m5.5\u001b[0m      Bowen   \n",
       "\u001b[1;36m10\u001b[0m         \u001b[1;36m105978\u001b[0m        \u001b[1;36m1\u001b[0m                           \u001b[1;36m0.0\u001b[0m   \u001b[1;36m0.0\u001b[0m    Havertz   \n",
       "\u001b[1;36m11\u001b[0m         \u001b[1;36m458105\u001b[0m        \u001b[1;36m9\u001b[0m                           NaN   \u001b[1;36m3.0\u001b[0m   Pickford   \n",
       "\u001b[1;36m12\u001b[0m        \u001b[1;36m1026187\u001b[0m        \u001b[1;36m1\u001b[0m                         \u001b[1;36m100.0\u001b[0m   \u001b[1;36m2.2\u001b[0m     Saliba   \n",
       "\u001b[1;36m13\u001b[0m         \u001b[1;36m873143\u001b[0m       \u001b[1;36m15\u001b[0m                           NaN   \u001b[1;36m1.5\u001b[0m     Elanga   \n",
       "\u001b[1;36m14\u001b[0m        \u001b[1;36m2328927\u001b[0m        \u001b[1;36m2\u001b[0m                           NaN   \u001b[1;36m3.5\u001b[0m    Watkins   \n",
       "\n",
       "   first_name second_name  points_per_game position_name position_name_abbr  \n",
       "\u001b[1;36m0\u001b[0m     Alisson      Becker              \u001b[1;36m3.3\u001b[0m    Goalkeeper                GKP  \n",
       "\u001b[1;36m1\u001b[0m     Jurriën      Timber              \u001b[1;36m6.9\u001b[0m      Defender                DEF  \n",
       "\u001b[1;36m2\u001b[0m     Jeremie    Frimpong              \u001b[1;36m2.0\u001b[0m      Defender                DEF  \n",
       "\u001b[1;36m3\u001b[0m       Rayan   Aït-Nouri              \u001b[1;36m3.3\u001b[0m      Defender                DEF  \n",
       "\u001b[1;36m4\u001b[0m       Milos      Kerkez              \u001b[1;36m1.9\u001b[0m      Defender                DEF  \n",
       "\u001b[1;36m5\u001b[0m      Morgan      Rogers              \u001b[1;36m3.1\u001b[0m    Midfielder                MID  \n",
       "\u001b[1;36m6\u001b[0m     Brennan     Johnson              \u001b[1;36m3.1\u001b[0m    Midfielder                MID  \n",
       "\u001b[1;36m7\u001b[0m       Pedro  Lomba Neto              \u001b[1;36m2.9\u001b[0m    Midfielder                MID  \n",
       "\u001b[1;36m8\u001b[0m     Antoine     Semenyo              \u001b[1;36m9.4\u001b[0m    Midfielder                MID  \n",
       "\u001b[1;36m9\u001b[0m      Jarrod       Bowen              \u001b[1;36m5.0\u001b[0m       Forward                FWD  \n",
       "\u001b[1;36m10\u001b[0m        Kai     Havertz              \u001b[1;36m1.0\u001b[0m       Forward                FWD  \n",
       "\u001b[1;36m11\u001b[0m     Jordan    Pickford              \u001b[1;36m4.3\u001b[0m    Goalkeeper                GKP  \n",
       "\u001b[1;36m12\u001b[0m    William      Saliba              \u001b[1;36m4.2\u001b[0m      Defender                DEF  \n",
       "\u001b[1;36m13\u001b[0m    Anthony      Elanga              \u001b[1;36m1.7\u001b[0m    Midfielder                MID  \n",
       "\u001b[1;36m14\u001b[0m      Ollie     Watkins              \u001b[1;36m2.9\u001b[0m       Forward                FWD  "
      ]
     },
     "execution_count": 67,
     "metadata": {},
     "output_type": "execute_result"
    }
   ],
   "source": [
    "catalog.load(\"current_team\")"
   ]
  },
  {
   "cell_type": "code",
   "execution_count": 68,
   "id": "adae7f7c",
   "metadata": {},
   "outputs": [
    {
     "data": {
      "text/html": [
       "<pre style=\"white-space:pre;overflow-x:auto;line-height:normal;font-family:Menlo,'DejaVu Sans Mono',consolas,'Courier New',monospace\"><span style=\"color: #7fbfbf; text-decoration-color: #7fbfbf\">                    </span><span style=\"color: #000080; text-decoration-color: #000080\">INFO    </span> Loading data from <span style=\"color: #ff8700; text-decoration-color: #ff8700\">my_current_team</span> <span style=\"font-weight: bold\">(</span>SQLTableDataset<span style=\"font-weight: bold\">)</span><span style=\"color: #808000; text-decoration-color: #808000\">...</span>            <a href=\"file:///Users/eoinmolloy/Documents/Documents/FPL-Modelling/.venv/lib/python3.12/site-packages/kedro/io/data_catalog.py\" target=\"_blank\"><span style=\"color: #7f7f7f; text-decoration-color: #7f7f7f\">data_catalog.py</span></a><span style=\"color: #7f7f7f; text-decoration-color: #7f7f7f\">:</span><a href=\"file:///Users/eoinmolloy/Documents/Documents/FPL-Modelling/.venv/lib/python3.12/site-packages/kedro/io/data_catalog.py#1046\" target=\"_blank\"><span style=\"color: #7f7f7f; text-decoration-color: #7f7f7f\">1046</span></a>\n",
       "</pre>\n"
      ],
      "text/plain": [
       "\u001b[2;36m                   \u001b[0m\u001b[2;36m \u001b[0m\u001b[34mINFO    \u001b[0m Loading data from \u001b[38;5;208mmy_current_team\u001b[0m \u001b[1m(\u001b[0mSQLTableDataset\u001b[1m)\u001b[0m\u001b[33m...\u001b[0m            \u001b]8;id=932810;file:///Users/eoinmolloy/Documents/Documents/FPL-Modelling/.venv/lib/python3.12/site-packages/kedro/io/data_catalog.py\u001b\\\u001b[2mdata_catalog.py\u001b[0m\u001b]8;;\u001b\\\u001b[2m:\u001b[0m\u001b]8;id=964423;file:///Users/eoinmolloy/Documents/Documents/FPL-Modelling/.venv/lib/python3.12/site-packages/kedro/io/data_catalog.py#1046\u001b\\\u001b[2m1046\u001b[0m\u001b]8;;\u001b\\\n"
      ]
     },
     "metadata": {},
     "output_type": "display_data"
    },
    {
     "data": {
      "text/html": [
       "<pre style=\"white-space:pre;overflow-x:auto;line-height:normal;font-family:Menlo,'DejaVu Sans Mono',consolas,'Courier New',monospace\"></pre>\n"
      ],
      "text/plain": []
     },
     "metadata": {},
     "output_type": "display_data"
    },
    {
     "data": {
      "text/html": [
       "<div>\n",
       "<style scoped>\n",
       "    .dataframe tbody tr th:only-of-type {\n",
       "        vertical-align: middle;\n",
       "    }\n",
       "\n",
       "    .dataframe tbody tr th {\n",
       "        vertical-align: top;\n",
       "    }\n",
       "\n",
       "    .dataframe thead th {\n",
       "        text-align: right;\n",
       "    }\n",
       "</style>\n",
       "<table border=\"1\" class=\"dataframe\">\n",
       "  <thead>\n",
       "    <tr style=\"text-align: right;\">\n",
       "      <th></th>\n",
       "      <th>position</th>\n",
       "      <th>multiplier</th>\n",
       "      <th>is_captain</th>\n",
       "      <th>is_vice_captain</th>\n",
       "      <th>position_id</th>\n",
       "      <th>selling_price</th>\n",
       "      <th>purchase_price</th>\n",
       "    </tr>\n",
       "    <tr>\n",
       "      <th>player_id</th>\n",
       "      <th></th>\n",
       "      <th></th>\n",
       "      <th></th>\n",
       "      <th></th>\n",
       "      <th></th>\n",
       "      <th></th>\n",
       "      <th></th>\n",
       "    </tr>\n",
       "  </thead>\n",
       "  <tbody>\n",
       "    <tr>\n",
       "      <th>366</th>\n",
       "      <td>1</td>\n",
       "      <td>1</td>\n",
       "      <td>False</td>\n",
       "      <td>True</td>\n",
       "      <td>1</td>\n",
       "      <td>55</td>\n",
       "      <td>55</td>\n",
       "    </tr>\n",
       "    <tr>\n",
       "      <th>8</th>\n",
       "      <td>2</td>\n",
       "      <td>1</td>\n",
       "      <td>False</td>\n",
       "      <td>False</td>\n",
       "      <td>2</td>\n",
       "      <td>56</td>\n",
       "      <td>55</td>\n",
       "    </tr>\n",
       "    <tr>\n",
       "      <th>370</th>\n",
       "      <td>3</td>\n",
       "      <td>1</td>\n",
       "      <td>False</td>\n",
       "      <td>False</td>\n",
       "      <td>2</td>\n",
       "      <td>59</td>\n",
       "      <td>60</td>\n",
       "    </tr>\n",
       "    <tr>\n",
       "      <th>402</th>\n",
       "      <td>4</td>\n",
       "      <td>1</td>\n",
       "      <td>False</td>\n",
       "      <td>False</td>\n",
       "      <td>2</td>\n",
       "      <td>58</td>\n",
       "      <td>60</td>\n",
       "    </tr>\n",
       "    <tr>\n",
       "      <th>371</th>\n",
       "      <td>5</td>\n",
       "      <td>1</td>\n",
       "      <td>False</td>\n",
       "      <td>False</td>\n",
       "      <td>2</td>\n",
       "      <td>59</td>\n",
       "      <td>60</td>\n",
       "    </tr>\n",
       "    <tr>\n",
       "      <th>47</th>\n",
       "      <td>6</td>\n",
       "      <td>1</td>\n",
       "      <td>False</td>\n",
       "      <td>False</td>\n",
       "      <td>3</td>\n",
       "      <td>69</td>\n",
       "      <td>70</td>\n",
       "    </tr>\n",
       "    <tr>\n",
       "      <th>580</th>\n",
       "      <td>7</td>\n",
       "      <td>1</td>\n",
       "      <td>False</td>\n",
       "      <td>False</td>\n",
       "      <td>3</td>\n",
       "      <td>70</td>\n",
       "      <td>70</td>\n",
       "    </tr>\n",
       "    <tr>\n",
       "      <th>236</th>\n",
       "      <td>8</td>\n",
       "      <td>1</td>\n",
       "      <td>False</td>\n",
       "      <td>False</td>\n",
       "      <td>3</td>\n",
       "      <td>70</td>\n",
       "      <td>70</td>\n",
       "    </tr>\n",
       "    <tr>\n",
       "      <th>82</th>\n",
       "      <td>9</td>\n",
       "      <td>1</td>\n",
       "      <td>False</td>\n",
       "      <td>False</td>\n",
       "      <td>3</td>\n",
       "      <td>74</td>\n",
       "      <td>70</td>\n",
       "    </tr>\n",
       "    <tr>\n",
       "      <th>624</th>\n",
       "      <td>10</td>\n",
       "      <td>2</td>\n",
       "      <td>True</td>\n",
       "      <td>False</td>\n",
       "      <td>4</td>\n",
       "      <td>77</td>\n",
       "      <td>80</td>\n",
       "    </tr>\n",
       "    <tr>\n",
       "      <th>30</th>\n",
       "      <td>11</td>\n",
       "      <td>1</td>\n",
       "      <td>False</td>\n",
       "      <td>False</td>\n",
       "      <td>4</td>\n",
       "      <td>73</td>\n",
       "      <td>75</td>\n",
       "    </tr>\n",
       "    <tr>\n",
       "      <th>287</th>\n",
       "      <td>12</td>\n",
       "      <td>0</td>\n",
       "      <td>False</td>\n",
       "      <td>False</td>\n",
       "      <td>1</td>\n",
       "      <td>55</td>\n",
       "      <td>55</td>\n",
       "    </tr>\n",
       "    <tr>\n",
       "      <th>6</th>\n",
       "      <td>13</td>\n",
       "      <td>0</td>\n",
       "      <td>False</td>\n",
       "      <td>False</td>\n",
       "      <td>2</td>\n",
       "      <td>60</td>\n",
       "      <td>60</td>\n",
       "    </tr>\n",
       "    <tr>\n",
       "      <th>486</th>\n",
       "      <td>14</td>\n",
       "      <td>0</td>\n",
       "      <td>False</td>\n",
       "      <td>False</td>\n",
       "      <td>3</td>\n",
       "      <td>69</td>\n",
       "      <td>70</td>\n",
       "    </tr>\n",
       "    <tr>\n",
       "      <th>64</th>\n",
       "      <td>15</td>\n",
       "      <td>0</td>\n",
       "      <td>False</td>\n",
       "      <td>False</td>\n",
       "      <td>4</td>\n",
       "      <td>87</td>\n",
       "      <td>90</td>\n",
       "    </tr>\n",
       "  </tbody>\n",
       "</table>\n",
       "</div>"
      ],
      "text/plain": [
       "\n",
       "           position  multiplier  is_captain  is_vice_captain  position_id  \\\n",
       "player_id                                                                   \n",
       "\u001b[1;36m366\u001b[0m               \u001b[1;36m1\u001b[0m           \u001b[1;36m1\u001b[0m       \u001b[3;91mFalse\u001b[0m             \u001b[3;92mTrue\u001b[0m            \u001b[1;36m1\u001b[0m   \n",
       "\u001b[1;36m8\u001b[0m                 \u001b[1;36m2\u001b[0m           \u001b[1;36m1\u001b[0m       \u001b[3;91mFalse\u001b[0m            \u001b[3;91mFalse\u001b[0m            \u001b[1;36m2\u001b[0m   \n",
       "\u001b[1;36m370\u001b[0m               \u001b[1;36m3\u001b[0m           \u001b[1;36m1\u001b[0m       \u001b[3;91mFalse\u001b[0m            \u001b[3;91mFalse\u001b[0m            \u001b[1;36m2\u001b[0m   \n",
       "\u001b[1;36m402\u001b[0m               \u001b[1;36m4\u001b[0m           \u001b[1;36m1\u001b[0m       \u001b[3;91mFalse\u001b[0m            \u001b[3;91mFalse\u001b[0m            \u001b[1;36m2\u001b[0m   \n",
       "\u001b[1;36m371\u001b[0m               \u001b[1;36m5\u001b[0m           \u001b[1;36m1\u001b[0m       \u001b[3;91mFalse\u001b[0m            \u001b[3;91mFalse\u001b[0m            \u001b[1;36m2\u001b[0m   \n",
       "\u001b[1;36m47\u001b[0m                \u001b[1;36m6\u001b[0m           \u001b[1;36m1\u001b[0m       \u001b[3;91mFalse\u001b[0m            \u001b[3;91mFalse\u001b[0m            \u001b[1;36m3\u001b[0m   \n",
       "\u001b[1;36m580\u001b[0m               \u001b[1;36m7\u001b[0m           \u001b[1;36m1\u001b[0m       \u001b[3;91mFalse\u001b[0m            \u001b[3;91mFalse\u001b[0m            \u001b[1;36m3\u001b[0m   \n",
       "\u001b[1;36m236\u001b[0m               \u001b[1;36m8\u001b[0m           \u001b[1;36m1\u001b[0m       \u001b[3;91mFalse\u001b[0m            \u001b[3;91mFalse\u001b[0m            \u001b[1;36m3\u001b[0m   \n",
       "\u001b[1;36m82\u001b[0m                \u001b[1;36m9\u001b[0m           \u001b[1;36m1\u001b[0m       \u001b[3;91mFalse\u001b[0m            \u001b[3;91mFalse\u001b[0m            \u001b[1;36m3\u001b[0m   \n",
       "\u001b[1;36m624\u001b[0m              \u001b[1;36m10\u001b[0m           \u001b[1;36m2\u001b[0m        \u001b[3;92mTrue\u001b[0m            \u001b[3;91mFalse\u001b[0m            \u001b[1;36m4\u001b[0m   \n",
       "\u001b[1;36m30\u001b[0m               \u001b[1;36m11\u001b[0m           \u001b[1;36m1\u001b[0m       \u001b[3;91mFalse\u001b[0m            \u001b[3;91mFalse\u001b[0m            \u001b[1;36m4\u001b[0m   \n",
       "\u001b[1;36m287\u001b[0m              \u001b[1;36m12\u001b[0m           \u001b[1;36m0\u001b[0m       \u001b[3;91mFalse\u001b[0m            \u001b[3;91mFalse\u001b[0m            \u001b[1;36m1\u001b[0m   \n",
       "\u001b[1;36m6\u001b[0m                \u001b[1;36m13\u001b[0m           \u001b[1;36m0\u001b[0m       \u001b[3;91mFalse\u001b[0m            \u001b[3;91mFalse\u001b[0m            \u001b[1;36m2\u001b[0m   \n",
       "\u001b[1;36m486\u001b[0m              \u001b[1;36m14\u001b[0m           \u001b[1;36m0\u001b[0m       \u001b[3;91mFalse\u001b[0m            \u001b[3;91mFalse\u001b[0m            \u001b[1;36m3\u001b[0m   \n",
       "\u001b[1;36m64\u001b[0m               \u001b[1;36m15\u001b[0m           \u001b[1;36m0\u001b[0m       \u001b[3;91mFalse\u001b[0m            \u001b[3;91mFalse\u001b[0m            \u001b[1;36m4\u001b[0m   \n",
       "\n",
       "           selling_price  purchase_price  \n",
       "player_id                                 \n",
       "\u001b[1;36m366\u001b[0m                   \u001b[1;36m55\u001b[0m              \u001b[1;36m55\u001b[0m  \n",
       "\u001b[1;36m8\u001b[0m                     \u001b[1;36m56\u001b[0m              \u001b[1;36m55\u001b[0m  \n",
       "\u001b[1;36m370\u001b[0m                   \u001b[1;36m59\u001b[0m              \u001b[1;36m60\u001b[0m  \n",
       "\u001b[1;36m402\u001b[0m                   \u001b[1;36m58\u001b[0m              \u001b[1;36m60\u001b[0m  \n",
       "\u001b[1;36m371\u001b[0m                   \u001b[1;36m59\u001b[0m              \u001b[1;36m60\u001b[0m  \n",
       "\u001b[1;36m47\u001b[0m                    \u001b[1;36m69\u001b[0m              \u001b[1;36m70\u001b[0m  \n",
       "\u001b[1;36m580\u001b[0m                   \u001b[1;36m70\u001b[0m              \u001b[1;36m70\u001b[0m  \n",
       "\u001b[1;36m236\u001b[0m                   \u001b[1;36m70\u001b[0m              \u001b[1;36m70\u001b[0m  \n",
       "\u001b[1;36m82\u001b[0m                    \u001b[1;36m74\u001b[0m              \u001b[1;36m70\u001b[0m  \n",
       "\u001b[1;36m624\u001b[0m                   \u001b[1;36m77\u001b[0m              \u001b[1;36m80\u001b[0m  \n",
       "\u001b[1;36m30\u001b[0m                    \u001b[1;36m73\u001b[0m              \u001b[1;36m75\u001b[0m  \n",
       "\u001b[1;36m287\u001b[0m                   \u001b[1;36m55\u001b[0m              \u001b[1;36m55\u001b[0m  \n",
       "\u001b[1;36m6\u001b[0m                     \u001b[1;36m60\u001b[0m              \u001b[1;36m60\u001b[0m  \n",
       "\u001b[1;36m486\u001b[0m                   \u001b[1;36m69\u001b[0m              \u001b[1;36m70\u001b[0m  \n",
       "\u001b[1;36m64\u001b[0m                    \u001b[1;36m87\u001b[0m              \u001b[1;36m90\u001b[0m  "
      ]
     },
     "execution_count": 68,
     "metadata": {},
     "output_type": "execute_result"
    }
   ],
   "source": [
    "catalog.load(\"my_current_team\")"
   ]
  },
  {
   "cell_type": "code",
   "execution_count": 94,
   "id": "84eaff08",
   "metadata": {},
   "outputs": [
    {
     "data": {
      "text/html": [
       "<pre style=\"white-space:pre;overflow-x:auto;line-height:normal;font-family:Menlo,'DejaVu Sans Mono',consolas,'Courier New',monospace\"><span style=\"color: #7fbfbf; text-decoration-color: #7fbfbf\">[10/06/25 23:04:20] </span><span style=\"color: #000080; text-decoration-color: #000080\">INFO    </span> Loading data from <span style=\"color: #ff8700; text-decoration-color: #ff8700\">players</span> <span style=\"font-weight: bold\">(</span>SQLTableDataset<span style=\"font-weight: bold\">)</span><span style=\"color: #808000; text-decoration-color: #808000\">...</span>                    <a href=\"file:///Users/eoinmolloy/Documents/Documents/FPL-Modelling/.venv/lib/python3.12/site-packages/kedro/io/data_catalog.py\" target=\"_blank\"><span style=\"color: #7f7f7f; text-decoration-color: #7f7f7f\">data_catalog.py</span></a><span style=\"color: #7f7f7f; text-decoration-color: #7f7f7f\">:</span><a href=\"file:///Users/eoinmolloy/Documents/Documents/FPL-Modelling/.venv/lib/python3.12/site-packages/kedro/io/data_catalog.py#1046\" target=\"_blank\"><span style=\"color: #7f7f7f; text-decoration-color: #7f7f7f\">1046</span></a>\n",
       "</pre>\n"
      ],
      "text/plain": [
       "\u001b[2;36m[10/06/25 23:04:20]\u001b[0m\u001b[2;36m \u001b[0m\u001b[34mINFO    \u001b[0m Loading data from \u001b[38;5;208mplayers\u001b[0m \u001b[1m(\u001b[0mSQLTableDataset\u001b[1m)\u001b[0m\u001b[33m...\u001b[0m                    \u001b]8;id=207899;file:///Users/eoinmolloy/Documents/Documents/FPL-Modelling/.venv/lib/python3.12/site-packages/kedro/io/data_catalog.py\u001b\\\u001b[2mdata_catalog.py\u001b[0m\u001b]8;;\u001b\\\u001b[2m:\u001b[0m\u001b]8;id=899605;file:///Users/eoinmolloy/Documents/Documents/FPL-Modelling/.venv/lib/python3.12/site-packages/kedro/io/data_catalog.py#1046\u001b\\\u001b[2m1046\u001b[0m\u001b]8;;\u001b\\\n"
      ]
     },
     "metadata": {},
     "output_type": "display_data"
    },
    {
     "data": {
      "text/html": [
       "<pre style=\"white-space:pre;overflow-x:auto;line-height:normal;font-family:Menlo,'DejaVu Sans Mono',consolas,'Courier New',monospace\"><span style=\"color: #7fbfbf; text-decoration-color: #7fbfbf\">                    </span><span style=\"color: #000080; text-decoration-color: #000080\">INFO    </span> Loading data from <span style=\"color: #ff8700; text-decoration-color: #ff8700\">teams</span> <span style=\"font-weight: bold\">(</span>SQLTableDataset<span style=\"font-weight: bold\">)</span><span style=\"color: #808000; text-decoration-color: #808000\">...</span>                      <a href=\"file:///Users/eoinmolloy/Documents/Documents/FPL-Modelling/.venv/lib/python3.12/site-packages/kedro/io/data_catalog.py\" target=\"_blank\"><span style=\"color: #7f7f7f; text-decoration-color: #7f7f7f\">data_catalog.py</span></a><span style=\"color: #7f7f7f; text-decoration-color: #7f7f7f\">:</span><a href=\"file:///Users/eoinmolloy/Documents/Documents/FPL-Modelling/.venv/lib/python3.12/site-packages/kedro/io/data_catalog.py#1046\" target=\"_blank\"><span style=\"color: #7f7f7f; text-decoration-color: #7f7f7f\">1046</span></a>\n",
       "</pre>\n"
      ],
      "text/plain": [
       "\u001b[2;36m                   \u001b[0m\u001b[2;36m \u001b[0m\u001b[34mINFO    \u001b[0m Loading data from \u001b[38;5;208mteams\u001b[0m \u001b[1m(\u001b[0mSQLTableDataset\u001b[1m)\u001b[0m\u001b[33m...\u001b[0m                      \u001b]8;id=342375;file:///Users/eoinmolloy/Documents/Documents/FPL-Modelling/.venv/lib/python3.12/site-packages/kedro/io/data_catalog.py\u001b\\\u001b[2mdata_catalog.py\u001b[0m\u001b]8;;\u001b\\\u001b[2m:\u001b[0m\u001b]8;id=134028;file:///Users/eoinmolloy/Documents/Documents/FPL-Modelling/.venv/lib/python3.12/site-packages/kedro/io/data_catalog.py#1046\u001b\\\u001b[2m1046\u001b[0m\u001b]8;;\u001b\\\n"
      ]
     },
     "metadata": {},
     "output_type": "display_data"
    },
    {
     "data": {
      "text/html": [
       "<pre style=\"white-space:pre;overflow-x:auto;line-height:normal;font-family:Menlo,'DejaVu Sans Mono',consolas,'Courier New',monospace\"><span style=\"color: #7fbfbf; text-decoration-color: #7fbfbf\">                    </span><span style=\"color: #000080; text-decoration-color: #000080\">INFO    </span> Loading data from <span style=\"color: #ff8700; text-decoration-color: #ff8700\">positions</span> <span style=\"font-weight: bold\">(</span>SQLTableDataset<span style=\"font-weight: bold\">)</span><span style=\"color: #808000; text-decoration-color: #808000\">...</span>                  <a href=\"file:///Users/eoinmolloy/Documents/Documents/FPL-Modelling/.venv/lib/python3.12/site-packages/kedro/io/data_catalog.py\" target=\"_blank\"><span style=\"color: #7f7f7f; text-decoration-color: #7f7f7f\">data_catalog.py</span></a><span style=\"color: #7f7f7f; text-decoration-color: #7f7f7f\">:</span><a href=\"file:///Users/eoinmolloy/Documents/Documents/FPL-Modelling/.venv/lib/python3.12/site-packages/kedro/io/data_catalog.py#1046\" target=\"_blank\"><span style=\"color: #7f7f7f; text-decoration-color: #7f7f7f\">1046</span></a>\n",
       "</pre>\n"
      ],
      "text/plain": [
       "\u001b[2;36m                   \u001b[0m\u001b[2;36m \u001b[0m\u001b[34mINFO    \u001b[0m Loading data from \u001b[38;5;208mpositions\u001b[0m \u001b[1m(\u001b[0mSQLTableDataset\u001b[1m)\u001b[0m\u001b[33m...\u001b[0m                  \u001b]8;id=902012;file:///Users/eoinmolloy/Documents/Documents/FPL-Modelling/.venv/lib/python3.12/site-packages/kedro/io/data_catalog.py\u001b\\\u001b[2mdata_catalog.py\u001b[0m\u001b]8;;\u001b\\\u001b[2m:\u001b[0m\u001b]8;id=875665;file:///Users/eoinmolloy/Documents/Documents/FPL-Modelling/.venv/lib/python3.12/site-packages/kedro/io/data_catalog.py#1046\u001b\\\u001b[2m1046\u001b[0m\u001b]8;;\u001b\\\n"
      ]
     },
     "metadata": {},
     "output_type": "display_data"
    }
   ],
   "source": [
    "players = catalog.load(\"players\")\n",
    "teams = catalog.load(\"teams\")\n",
    "positions = catalog.load(\"positions\")"
   ]
  },
  {
   "cell_type": "code",
   "execution_count": 70,
   "id": "5e64bef5",
   "metadata": {},
   "outputs": [
    {
     "data": {
      "text/html": [
       "<pre style=\"white-space:pre;overflow-x:auto;line-height:normal;font-family:Menlo,'DejaVu Sans Mono',consolas,'Courier New',monospace\"><span style=\"color: #7fbfbf; text-decoration-color: #7fbfbf\">                    </span><span style=\"color: #000080; text-decoration-color: #000080\">INFO    </span> Loading data from <span style=\"color: #ff8700; text-decoration-color: #ff8700\">players_merged</span> <span style=\"font-weight: bold\">(</span>SQLQueryDataset<span style=\"font-weight: bold\">)</span><span style=\"color: #808000; text-decoration-color: #808000\">...</span>             <a href=\"file:///Users/eoinmolloy/Documents/Documents/FPL-Modelling/.venv/lib/python3.12/site-packages/kedro/io/data_catalog.py\" target=\"_blank\"><span style=\"color: #7f7f7f; text-decoration-color: #7f7f7f\">data_catalog.py</span></a><span style=\"color: #7f7f7f; text-decoration-color: #7f7f7f\">:</span><a href=\"file:///Users/eoinmolloy/Documents/Documents/FPL-Modelling/.venv/lib/python3.12/site-packages/kedro/io/data_catalog.py#1046\" target=\"_blank\"><span style=\"color: #7f7f7f; text-decoration-color: #7f7f7f\">1046</span></a>\n",
       "</pre>\n"
      ],
      "text/plain": [
       "\u001b[2;36m                   \u001b[0m\u001b[2;36m \u001b[0m\u001b[34mINFO    \u001b[0m Loading data from \u001b[38;5;208mplayers_merged\u001b[0m \u001b[1m(\u001b[0mSQLQueryDataset\u001b[1m)\u001b[0m\u001b[33m...\u001b[0m             \u001b]8;id=704021;file:///Users/eoinmolloy/Documents/Documents/FPL-Modelling/.venv/lib/python3.12/site-packages/kedro/io/data_catalog.py\u001b\\\u001b[2mdata_catalog.py\u001b[0m\u001b]8;;\u001b\\\u001b[2m:\u001b[0m\u001b]8;id=587990;file:///Users/eoinmolloy/Documents/Documents/FPL-Modelling/.venv/lib/python3.12/site-packages/kedro/io/data_catalog.py#1046\u001b\\\u001b[2m1046\u001b[0m\u001b]8;;\u001b\\\n"
      ]
     },
     "metadata": {},
     "output_type": "display_data"
    }
   ],
   "source": [
    "x = catalog.load(\"players_merged\")"
   ]
  },
  {
   "cell_type": "code",
   "execution_count": 71,
   "id": "0c831c8c",
   "metadata": {},
   "outputs": [
    {
     "data": {
      "text/html": [
       "<pre style=\"white-space:pre;overflow-x:auto;line-height:normal;font-family:Menlo,'DejaVu Sans Mono',consolas,'Courier New',monospace\"><span style=\"color: #7fbfbf; text-decoration-color: #7fbfbf\">                    </span><span style=\"color: #000080; text-decoration-color: #000080\">INFO    </span> Loading data from <span style=\"color: #ff8700; text-decoration-color: #ff8700\">players_hist_merged</span> <span style=\"font-weight: bold\">(</span>SQLQueryDataset<span style=\"font-weight: bold\">)</span><span style=\"color: #808000; text-decoration-color: #808000\">...</span>        <a href=\"file:///Users/eoinmolloy/Documents/Documents/FPL-Modelling/.venv/lib/python3.12/site-packages/kedro/io/data_catalog.py\" target=\"_blank\"><span style=\"color: #7f7f7f; text-decoration-color: #7f7f7f\">data_catalog.py</span></a><span style=\"color: #7f7f7f; text-decoration-color: #7f7f7f\">:</span><a href=\"file:///Users/eoinmolloy/Documents/Documents/FPL-Modelling/.venv/lib/python3.12/site-packages/kedro/io/data_catalog.py#1046\" target=\"_blank\"><span style=\"color: #7f7f7f; text-decoration-color: #7f7f7f\">1046</span></a>\n",
       "</pre>\n"
      ],
      "text/plain": [
       "\u001b[2;36m                   \u001b[0m\u001b[2;36m \u001b[0m\u001b[34mINFO    \u001b[0m Loading data from \u001b[38;5;208mplayers_hist_merged\u001b[0m \u001b[1m(\u001b[0mSQLQueryDataset\u001b[1m)\u001b[0m\u001b[33m...\u001b[0m        \u001b]8;id=714677;file:///Users/eoinmolloy/Documents/Documents/FPL-Modelling/.venv/lib/python3.12/site-packages/kedro/io/data_catalog.py\u001b\\\u001b[2mdata_catalog.py\u001b[0m\u001b]8;;\u001b\\\u001b[2m:\u001b[0m\u001b]8;id=410892;file:///Users/eoinmolloy/Documents/Documents/FPL-Modelling/.venv/lib/python3.12/site-packages/kedro/io/data_catalog.py#1046\u001b\\\u001b[2m1046\u001b[0m\u001b]8;;\u001b\\\n"
      ]
     },
     "metadata": {},
     "output_type": "display_data"
    }
   ],
   "source": [
    "p_hist = catalog.load(\"players_hist_merged\")"
   ]
  },
  {
   "cell_type": "code",
   "execution_count": null,
   "id": "1cb357ca",
   "metadata": {},
   "outputs": [
    {
     "data": {
      "text/html": [
       "<pre style=\"white-space:pre;overflow-x:auto;line-height:normal;font-family:Menlo,'DejaVu Sans Mono',consolas,'Courier New',monospace\"></pre>\n"
      ],
      "text/plain": []
     },
     "metadata": {},
     "output_type": "display_data"
    },
    {
     "data": {
      "text/plain": [
       "\n",
       "\u001b[1;36m0\u001b[0m       \u001b[1;36m1\u001b[0m\n",
       "\u001b[1;36m1\u001b[0m       \u001b[1;36m2\u001b[0m\n",
       "\u001b[1;36m2\u001b[0m       \u001b[1;36m3\u001b[0m\n",
       "\u001b[1;36m3\u001b[0m       \u001b[1;36m4\u001b[0m\n",
       "\u001b[1;36m4\u001b[0m       \u001b[1;36m5\u001b[0m\n",
       "       ..\n",
       "\u001b[1;36m5068\u001b[0m    \u001b[1;36m3\u001b[0m\n",
       "\u001b[1;36m5069\u001b[0m    \u001b[1;36m4\u001b[0m\n",
       "\u001b[1;36m5070\u001b[0m    \u001b[1;36m5\u001b[0m\n",
       "\u001b[1;36m5071\u001b[0m    \u001b[1;36m6\u001b[0m\n",
       "\u001b[1;36m5072\u001b[0m    \u001b[1;36m7\u001b[0m\n",
       "Name: round, Length: \u001b[1;36m5073\u001b[0m, dtype: int64"
      ]
     },
     "execution_count": 72,
     "metadata": {},
     "output_type": "execute_result"
    }
   ],
   "source": [
    "tea"
   ]
  },
  {
   "cell_type": "code",
   "execution_count": 73,
   "id": "79891ba0",
   "metadata": {},
   "outputs": [],
   "source": [
    "from fpl_modelling.FPL_API import FPLClient"
   ]
  },
  {
   "cell_type": "code",
   "execution_count": 74,
   "id": "185b408f",
   "metadata": {},
   "outputs": [
    {
     "data": {
      "text/html": [
       "<pre style=\"white-space:pre;overflow-x:auto;line-height:normal;font-family:Menlo,'DejaVu Sans Mono',consolas,'Courier New',monospace\"><span style=\"color: #7fbfbf; text-decoration-color: #7fbfbf\">                    </span><span style=\"color: #000080; text-decoration-color: #000080\">INFO    </span> Loading data from <span style=\"color: #ff8700; text-decoration-color: #ff8700\">params:my_team_id</span> <span style=\"font-weight: bold\">(</span>MemoryDataset<span style=\"font-weight: bold\">)</span><span style=\"color: #808000; text-decoration-color: #808000\">...</span>            <a href=\"file:///Users/eoinmolloy/Documents/Documents/FPL-Modelling/.venv/lib/python3.12/site-packages/kedro/io/data_catalog.py\" target=\"_blank\"><span style=\"color: #7f7f7f; text-decoration-color: #7f7f7f\">data_catalog.py</span></a><span style=\"color: #7f7f7f; text-decoration-color: #7f7f7f\">:</span><a href=\"file:///Users/eoinmolloy/Documents/Documents/FPL-Modelling/.venv/lib/python3.12/site-packages/kedro/io/data_catalog.py#1046\" target=\"_blank\"><span style=\"color: #7f7f7f; text-decoration-color: #7f7f7f\">1046</span></a>\n",
       "</pre>\n"
      ],
      "text/plain": [
       "\u001b[2;36m                   \u001b[0m\u001b[2;36m \u001b[0m\u001b[34mINFO    \u001b[0m Loading data from \u001b[38;5;208mparams:my_team_id\u001b[0m \u001b[1m(\u001b[0mMemoryDataset\u001b[1m)\u001b[0m\u001b[33m...\u001b[0m            \u001b]8;id=589332;file:///Users/eoinmolloy/Documents/Documents/FPL-Modelling/.venv/lib/python3.12/site-packages/kedro/io/data_catalog.py\u001b\\\u001b[2mdata_catalog.py\u001b[0m\u001b]8;;\u001b\\\u001b[2m:\u001b[0m\u001b]8;id=940904;file:///Users/eoinmolloy/Documents/Documents/FPL-Modelling/.venv/lib/python3.12/site-packages/kedro/io/data_catalog.py#1046\u001b\\\u001b[2m1046\u001b[0m\u001b]8;;\u001b\\\n"
      ]
     },
     "metadata": {},
     "output_type": "display_data"
    }
   ],
   "source": [
    "team_id = catalog.load(\"params:my_team_id\")"
   ]
  },
  {
   "cell_type": "code",
   "execution_count": 75,
   "id": "61d8b947",
   "metadata": {},
   "outputs": [],
   "source": [
    "client = FPLClient()\n",
    "r_new = client.get_team_on_gameweek(team_id, 1)\n",
    "r = client.get_team_transfers(team_id)"
   ]
  },
  {
   "cell_type": "code",
   "execution_count": 76,
   "id": "32363a7b",
   "metadata": {},
   "outputs": [
    {
     "data": {
      "text/html": [
       "<pre style=\"white-space:pre;overflow-x:auto;line-height:normal;font-family:Menlo,'DejaVu Sans Mono',consolas,'Courier New',monospace\"></pre>\n"
      ],
      "text/plain": []
     },
     "metadata": {},
     "output_type": "display_data"
    },
    {
     "data": {
      "text/html": [
       "<div>\n",
       "<style scoped>\n",
       "    .dataframe tbody tr th:only-of-type {\n",
       "        vertical-align: middle;\n",
       "    }\n",
       "\n",
       "    .dataframe tbody tr th {\n",
       "        vertical-align: top;\n",
       "    }\n",
       "\n",
       "    .dataframe thead th {\n",
       "        text-align: right;\n",
       "    }\n",
       "</style>\n",
       "<table border=\"1\" class=\"dataframe\">\n",
       "  <thead>\n",
       "    <tr style=\"text-align: right;\">\n",
       "      <th></th>\n",
       "      <th>element</th>\n",
       "      <th>position</th>\n",
       "      <th>multiplier</th>\n",
       "      <th>is_captain</th>\n",
       "      <th>is_vice_captain</th>\n",
       "      <th>element_type</th>\n",
       "    </tr>\n",
       "  </thead>\n",
       "  <tbody>\n",
       "    <tr>\n",
       "      <th>0</th>\n",
       "      <td>366</td>\n",
       "      <td>1</td>\n",
       "      <td>1</td>\n",
       "      <td>False</td>\n",
       "      <td>True</td>\n",
       "      <td>1</td>\n",
       "    </tr>\n",
       "    <tr>\n",
       "      <th>1</th>\n",
       "      <td>8</td>\n",
       "      <td>2</td>\n",
       "      <td>1</td>\n",
       "      <td>False</td>\n",
       "      <td>False</td>\n",
       "      <td>2</td>\n",
       "    </tr>\n",
       "    <tr>\n",
       "      <th>2</th>\n",
       "      <td>370</td>\n",
       "      <td>3</td>\n",
       "      <td>1</td>\n",
       "      <td>False</td>\n",
       "      <td>False</td>\n",
       "      <td>2</td>\n",
       "    </tr>\n",
       "    <tr>\n",
       "      <th>3</th>\n",
       "      <td>402</td>\n",
       "      <td>4</td>\n",
       "      <td>1</td>\n",
       "      <td>False</td>\n",
       "      <td>False</td>\n",
       "      <td>2</td>\n",
       "    </tr>\n",
       "    <tr>\n",
       "      <th>4</th>\n",
       "      <td>371</td>\n",
       "      <td>5</td>\n",
       "      <td>1</td>\n",
       "      <td>False</td>\n",
       "      <td>False</td>\n",
       "      <td>2</td>\n",
       "    </tr>\n",
       "    <tr>\n",
       "      <th>5</th>\n",
       "      <td>47</td>\n",
       "      <td>6</td>\n",
       "      <td>1</td>\n",
       "      <td>False</td>\n",
       "      <td>False</td>\n",
       "      <td>3</td>\n",
       "    </tr>\n",
       "    <tr>\n",
       "      <th>6</th>\n",
       "      <td>580</td>\n",
       "      <td>7</td>\n",
       "      <td>1</td>\n",
       "      <td>False</td>\n",
       "      <td>False</td>\n",
       "      <td>3</td>\n",
       "    </tr>\n",
       "    <tr>\n",
       "      <th>7</th>\n",
       "      <td>236</td>\n",
       "      <td>8</td>\n",
       "      <td>1</td>\n",
       "      <td>False</td>\n",
       "      <td>False</td>\n",
       "      <td>3</td>\n",
       "    </tr>\n",
       "    <tr>\n",
       "      <th>8</th>\n",
       "      <td>82</td>\n",
       "      <td>9</td>\n",
       "      <td>1</td>\n",
       "      <td>False</td>\n",
       "      <td>False</td>\n",
       "      <td>3</td>\n",
       "    </tr>\n",
       "    <tr>\n",
       "      <th>9</th>\n",
       "      <td>624</td>\n",
       "      <td>10</td>\n",
       "      <td>2</td>\n",
       "      <td>True</td>\n",
       "      <td>False</td>\n",
       "      <td>4</td>\n",
       "    </tr>\n",
       "    <tr>\n",
       "      <th>10</th>\n",
       "      <td>30</td>\n",
       "      <td>11</td>\n",
       "      <td>1</td>\n",
       "      <td>False</td>\n",
       "      <td>False</td>\n",
       "      <td>4</td>\n",
       "    </tr>\n",
       "    <tr>\n",
       "      <th>11</th>\n",
       "      <td>287</td>\n",
       "      <td>12</td>\n",
       "      <td>0</td>\n",
       "      <td>False</td>\n",
       "      <td>False</td>\n",
       "      <td>1</td>\n",
       "    </tr>\n",
       "    <tr>\n",
       "      <th>12</th>\n",
       "      <td>6</td>\n",
       "      <td>13</td>\n",
       "      <td>0</td>\n",
       "      <td>False</td>\n",
       "      <td>False</td>\n",
       "      <td>2</td>\n",
       "    </tr>\n",
       "    <tr>\n",
       "      <th>13</th>\n",
       "      <td>486</td>\n",
       "      <td>14</td>\n",
       "      <td>0</td>\n",
       "      <td>False</td>\n",
       "      <td>False</td>\n",
       "      <td>3</td>\n",
       "    </tr>\n",
       "    <tr>\n",
       "      <th>14</th>\n",
       "      <td>64</td>\n",
       "      <td>15</td>\n",
       "      <td>0</td>\n",
       "      <td>False</td>\n",
       "      <td>False</td>\n",
       "      <td>4</td>\n",
       "    </tr>\n",
       "  </tbody>\n",
       "</table>\n",
       "</div>"
      ],
      "text/plain": [
       "\n",
       "    element  position  multiplier  is_captain  is_vice_captain  element_type\n",
       "\u001b[1;36m0\u001b[0m       \u001b[1;36m366\u001b[0m         \u001b[1;36m1\u001b[0m           \u001b[1;36m1\u001b[0m       \u001b[3;91mFalse\u001b[0m             \u001b[3;92mTrue\u001b[0m             \u001b[1;36m1\u001b[0m\n",
       "\u001b[1;36m1\u001b[0m         \u001b[1;36m8\u001b[0m         \u001b[1;36m2\u001b[0m           \u001b[1;36m1\u001b[0m       \u001b[3;91mFalse\u001b[0m            \u001b[3;91mFalse\u001b[0m             \u001b[1;36m2\u001b[0m\n",
       "\u001b[1;36m2\u001b[0m       \u001b[1;36m370\u001b[0m         \u001b[1;36m3\u001b[0m           \u001b[1;36m1\u001b[0m       \u001b[3;91mFalse\u001b[0m            \u001b[3;91mFalse\u001b[0m             \u001b[1;36m2\u001b[0m\n",
       "\u001b[1;36m3\u001b[0m       \u001b[1;36m402\u001b[0m         \u001b[1;36m4\u001b[0m           \u001b[1;36m1\u001b[0m       \u001b[3;91mFalse\u001b[0m            \u001b[3;91mFalse\u001b[0m             \u001b[1;36m2\u001b[0m\n",
       "\u001b[1;36m4\u001b[0m       \u001b[1;36m371\u001b[0m         \u001b[1;36m5\u001b[0m           \u001b[1;36m1\u001b[0m       \u001b[3;91mFalse\u001b[0m            \u001b[3;91mFalse\u001b[0m             \u001b[1;36m2\u001b[0m\n",
       "\u001b[1;36m5\u001b[0m        \u001b[1;36m47\u001b[0m         \u001b[1;36m6\u001b[0m           \u001b[1;36m1\u001b[0m       \u001b[3;91mFalse\u001b[0m            \u001b[3;91mFalse\u001b[0m             \u001b[1;36m3\u001b[0m\n",
       "\u001b[1;36m6\u001b[0m       \u001b[1;36m580\u001b[0m         \u001b[1;36m7\u001b[0m           \u001b[1;36m1\u001b[0m       \u001b[3;91mFalse\u001b[0m            \u001b[3;91mFalse\u001b[0m             \u001b[1;36m3\u001b[0m\n",
       "\u001b[1;36m7\u001b[0m       \u001b[1;36m236\u001b[0m         \u001b[1;36m8\u001b[0m           \u001b[1;36m1\u001b[0m       \u001b[3;91mFalse\u001b[0m            \u001b[3;91mFalse\u001b[0m             \u001b[1;36m3\u001b[0m\n",
       "\u001b[1;36m8\u001b[0m        \u001b[1;36m82\u001b[0m         \u001b[1;36m9\u001b[0m           \u001b[1;36m1\u001b[0m       \u001b[3;91mFalse\u001b[0m            \u001b[3;91mFalse\u001b[0m             \u001b[1;36m3\u001b[0m\n",
       "\u001b[1;36m9\u001b[0m       \u001b[1;36m624\u001b[0m        \u001b[1;36m10\u001b[0m           \u001b[1;36m2\u001b[0m        \u001b[3;92mTrue\u001b[0m            \u001b[3;91mFalse\u001b[0m             \u001b[1;36m4\u001b[0m\n",
       "\u001b[1;36m10\u001b[0m       \u001b[1;36m30\u001b[0m        \u001b[1;36m11\u001b[0m           \u001b[1;36m1\u001b[0m       \u001b[3;91mFalse\u001b[0m            \u001b[3;91mFalse\u001b[0m             \u001b[1;36m4\u001b[0m\n",
       "\u001b[1;36m11\u001b[0m      \u001b[1;36m287\u001b[0m        \u001b[1;36m12\u001b[0m           \u001b[1;36m0\u001b[0m       \u001b[3;91mFalse\u001b[0m            \u001b[3;91mFalse\u001b[0m             \u001b[1;36m1\u001b[0m\n",
       "\u001b[1;36m12\u001b[0m        \u001b[1;36m6\u001b[0m        \u001b[1;36m13\u001b[0m           \u001b[1;36m0\u001b[0m       \u001b[3;91mFalse\u001b[0m            \u001b[3;91mFalse\u001b[0m             \u001b[1;36m2\u001b[0m\n",
       "\u001b[1;36m13\u001b[0m      \u001b[1;36m486\u001b[0m        \u001b[1;36m14\u001b[0m           \u001b[1;36m0\u001b[0m       \u001b[3;91mFalse\u001b[0m            \u001b[3;91mFalse\u001b[0m             \u001b[1;36m3\u001b[0m\n",
       "\u001b[1;36m14\u001b[0m       \u001b[1;36m64\u001b[0m        \u001b[1;36m15\u001b[0m           \u001b[1;36m0\u001b[0m       \u001b[3;91mFalse\u001b[0m            \u001b[3;91mFalse\u001b[0m             \u001b[1;36m4\u001b[0m"
      ]
     },
     "execution_count": 76,
     "metadata": {},
     "output_type": "execute_result"
    }
   ],
   "source": [
    "r_new['gameweek_team']"
   ]
  },
  {
   "cell_type": "code",
   "execution_count": 77,
   "id": "52823a10",
   "metadata": {},
   "outputs": [
    {
     "data": {
      "text/html": [
       "<pre style=\"white-space:pre;overflow-x:auto;line-height:normal;font-family:Menlo,'DejaVu Sans Mono',consolas,'Courier New',monospace\"></pre>\n"
      ],
      "text/plain": []
     },
     "metadata": {},
     "output_type": "display_data"
    },
    {
     "data": {
      "text/plain": [
       "\u001b[1;36m9218682\u001b[0m"
      ]
     },
     "execution_count": 77,
     "metadata": {},
     "output_type": "execute_result"
    }
   ],
   "source": [
    "team_id \n"
   ]
  },
  {
   "cell_type": "code",
   "execution_count": 78,
   "id": "aa27b629",
   "metadata": {},
   "outputs": [],
   "source": [
    "bearer = \"eyJhbGciOiJSUzI1NiIsImtpZCI6ImRlZmF1bHQifQ.eyJjbGllbnRfaWQiOiJiZmNiYWY2OS1hYWRlLTRjMWItOGYwMC1jMWNiOGExOTMwMzAiLCJpc3MiOiJodHRwczovL2FjY291bnQucHJlbWllcmxlYWd1ZS5jb20vYXMiLCJqdGkiOiI2MjYzOGQ1Ny02ZmMyLTQyODktYmM5ZC00YTQ5Njg2Y2FiZWMiLCJpYXQiOjE3NTk0MTY1MDEsImV4cCI6MTc1OTQ0NTMwMSwiYXVkIjpbImh0dHBzOi8vYXBpLnBpbmdvbmUuZXUiXSwic2NvcGUiOiJvcGVuaWQgcHJvZmlsZSBlbWFpbCIsInN1YiI6ImNkOTc4NjQyLTRjMjctNDZmMC1iMjdiLTdlNGEyMjViMmQ3MiIsInNpZCI6ImI4ZTVlZTZiLWQ0Y2QtNDkwYi1iZTVlLTY5N2JlM2NjOTM0YSIsImF1dGhfdGltZSI6MTc1OTM0ODE5NywiYWNyIjoiMjYyY2U0YjAxZDE5ZGQ5ZDM4NWQyNmJkZGI0Mjk3YjYiLCJhdXRoZW50aWNhdG9yIjoicHdkIiwiZW52IjoiNjgzNDBkZTEtZGZiOS00MTJlLTkzN2MtMjAxNzI5ODZkMTI5Iiwib3JnIjoiM2E2ODUwMzItODMyNi00OTY5LWE3OGItY2MyOTc3NWIxM2Q2IiwicDEucmlkIjoiNmYxYTRjZTMtYTFhYS00NDNlLWEyMjItODhhNzQwNTM3MjUzIn0.aB8LYOfK2h-VhL_VnUbSQL4ashY9MOuPyQ7aWoMBDN4YB-4Ii7hyOwnq-s7DkOnl71s9SM3Xry_LJxwufaV1OzXprZTlW_vi_RKhQSk5JDVGgEUDdfBVrI77P-xHrdba_BE5cvSDnl4VGibIyszoU5HPIWMuBtB7HXFNAHjUrGZma9ThQ5ER8c_yxW8icm5vX9L5qkgiqUJb1pPyXx_BlBlnShNuqxtoCbMF9aYPaSWXhMKJPWRaU3lKsv4YJg3ZrmWvoTquTc7Uik88SMZQwWd9RsN8_aqP3ihmZt58TIcble30BIXFrT1il6PmWIexIXQWClPh3PPFAENTJo5Y0A\""
   ]
  },
  {
   "cell_type": "code",
   "execution_count": 79,
   "id": "d9810ad5",
   "metadata": {},
   "outputs": [],
   "source": [
    "import requests\n",
    "r= requests.get(f\"https://fantasy.premierleague.com/api/my-team/{team_id}/\", headers={ \"X-Api-Authorization\": f\"Bearer {bearer}\"})\n"
   ]
  },
  {
   "cell_type": "code",
   "execution_count": null,
   "id": "81d26556",
   "metadata": {},
   "outputs": [
    {
     "data": {
      "text/html": [
       "<pre style=\"white-space:pre;overflow-x:auto;line-height:normal;font-family:Menlo,'DejaVu Sans Mono',consolas,'Courier New',monospace\"></pre>\n"
      ],
      "text/plain": []
     },
     "metadata": {},
     "output_type": "display_data"
    },
    {
     "data": {
      "text/plain": [
       "\u001b[1;35mdict_keys\u001b[0m\u001b[1m(\u001b[0m\u001b[1m[\u001b[0m\u001b[32m'detail'\u001b[0m\u001b[1m]\u001b[0m\u001b[1m)\u001b[0m"
      ]
     },
     "execution_count": 80,
     "metadata": {},
     "output_type": "execute_result"
    }
   ],
   "source": [
    "p_hist['']"
   ]
  },
  {
   "cell_type": "code",
   "execution_count": 83,
   "id": "e739a176",
   "metadata": {},
   "outputs": [
    {
     "data": {
      "text/html": [
       "<pre style=\"white-space:pre;overflow-x:auto;line-height:normal;font-family:Menlo,'DejaVu Sans Mono',consolas,'Courier New',monospace\"><span style=\"color: #7fbfbf; text-decoration-color: #7fbfbf\">[10/06/25 21:01:50] </span><span style=\"color: #000080; text-decoration-color: #000080\">INFO    </span> Loading data from <span style=\"color: #ff8700; text-decoration-color: #ff8700\">players_hist_merged</span> <span style=\"font-weight: bold\">(</span>SQLQueryDataset<span style=\"font-weight: bold\">)</span><span style=\"color: #808000; text-decoration-color: #808000\">...</span>        <a href=\"file:///Users/eoinmolloy/Documents/Documents/FPL-Modelling/.venv/lib/python3.12/site-packages/kedro/io/data_catalog.py\" target=\"_blank\"><span style=\"color: #7f7f7f; text-decoration-color: #7f7f7f\">data_catalog.py</span></a><span style=\"color: #7f7f7f; text-decoration-color: #7f7f7f\">:</span><a href=\"file:///Users/eoinmolloy/Documents/Documents/FPL-Modelling/.venv/lib/python3.12/site-packages/kedro/io/data_catalog.py#1046\" target=\"_blank\"><span style=\"color: #7f7f7f; text-decoration-color: #7f7f7f\">1046</span></a>\n",
       "</pre>\n"
      ],
      "text/plain": [
       "\u001b[2;36m[10/06/25 21:01:50]\u001b[0m\u001b[2;36m \u001b[0m\u001b[34mINFO    \u001b[0m Loading data from \u001b[38;5;208mplayers_hist_merged\u001b[0m \u001b[1m(\u001b[0mSQLQueryDataset\u001b[1m)\u001b[0m\u001b[33m...\u001b[0m        \u001b]8;id=980726;file:///Users/eoinmolloy/Documents/Documents/FPL-Modelling/.venv/lib/python3.12/site-packages/kedro/io/data_catalog.py\u001b\\\u001b[2mdata_catalog.py\u001b[0m\u001b]8;;\u001b\\\u001b[2m:\u001b[0m\u001b]8;id=941059;file:///Users/eoinmolloy/Documents/Documents/FPL-Modelling/.venv/lib/python3.12/site-packages/kedro/io/data_catalog.py#1046\u001b\\\u001b[2m1046\u001b[0m\u001b]8;;\u001b\\\n"
      ]
     },
     "metadata": {},
     "output_type": "display_data"
    }
   ],
   "source": [
    "p_hist = catalog.load(\"players_hist_merged\")"
   ]
  },
  {
   "cell_type": "code",
   "execution_count": 84,
   "id": "af448e05",
   "metadata": {},
   "outputs": [
    {
     "data": {
      "text/html": [
       "<pre style=\"white-space:pre;overflow-x:auto;line-height:normal;font-family:Menlo,'DejaVu Sans Mono',consolas,'Courier New',monospace\"><span style=\"color: #800000; text-decoration-color: #800000\">╭─────────────────────────────── </span><span style=\"color: #800000; text-decoration-color: #800000; font-weight: bold\">Traceback </span><span style=\"color: #bf7f7f; text-decoration-color: #bf7f7f; font-weight: bold\">(most recent call last)</span><span style=\"color: #800000; text-decoration-color: #800000\"> ────────────────────────────────╮</span>\n",
       "<span style=\"color: #800000; text-decoration-color: #800000\">│</span> in &lt;module&gt;:5                                                                                    <span style=\"color: #800000; text-decoration-color: #800000\">│</span>\n",
       "<span style=\"color: #800000; text-decoration-color: #800000\">│</span>                                                                                                  <span style=\"color: #800000; text-decoration-color: #800000\">│</span>\n",
       "<span style=\"color: #800000; text-decoration-color: #800000\">│</span>   <span style=\"color: #7f7f7f; text-decoration-color: #7f7f7f\"> 2 </span><span style=\"color: #0000ff; text-decoration-color: #0000ff\">import</span><span style=\"color: #808080; text-decoration-color: #808080\"> </span><span style=\"color: #00ffff; text-decoration-color: #00ffff; text-decoration: underline\">numpy</span><span style=\"color: #808080; text-decoration-color: #808080\"> </span><span style=\"color: #0000ff; text-decoration-color: #0000ff\">as</span><span style=\"color: #808080; text-decoration-color: #808080\"> </span><span style=\"color: #00ffff; text-decoration-color: #00ffff; text-decoration: underline\">np</span>                                                                          <span style=\"color: #800000; text-decoration-color: #800000\">│</span>\n",
       "<span style=\"color: #800000; text-decoration-color: #800000\">│</span>   <span style=\"color: #7f7f7f; text-decoration-color: #7f7f7f\"> 3 </span>                                                                                            <span style=\"color: #800000; text-decoration-color: #800000\">│</span>\n",
       "<span style=\"color: #800000; text-decoration-color: #800000\">│</span>   <span style=\"color: #7f7f7f; text-decoration-color: #7f7f7f\"> 4 # Group by team, take mean across all gameweeks</span>                                             <span style=\"color: #800000; text-decoration-color: #800000\">│</span>\n",
       "<span style=\"color: #800000; text-decoration-color: #800000\">│</span> <span style=\"color: #800000; text-decoration-color: #800000\">❱ </span> 5 avg_scores = <span style=\"font-weight: bold; text-decoration: underline\">team_scores</span>.groupby(<span style=\"color: #808000; text-decoration-color: #808000\">\"team_id\"</span>)[[<span style=\"color: #808000; text-decoration-color: #808000\">\"team_a_score\"</span>, <span style=\"color: #808000; text-decoration-color: #808000\">\"team_h_score\"</span>]].mean()        <span style=\"color: #800000; text-decoration-color: #800000\">│</span>\n",
       "<span style=\"color: #800000; text-decoration-color: #800000\">│</span>   <span style=\"color: #7f7f7f; text-decoration-color: #7f7f7f\"> 6 </span>                                                                                            <span style=\"color: #800000; text-decoration-color: #800000\">│</span>\n",
       "<span style=\"color: #800000; text-decoration-color: #800000\">│</span>   <span style=\"color: #7f7f7f; text-decoration-color: #7f7f7f\"> 7 # Plot</span>                                                                                      <span style=\"color: #800000; text-decoration-color: #800000\">│</span>\n",
       "<span style=\"color: #800000; text-decoration-color: #800000\">│</span>   <span style=\"color: #7f7f7f; text-decoration-color: #7f7f7f\"> 8 </span>x = np.arange(<span style=\"color: #00ffff; text-decoration-color: #00ffff\">len</span>(avg_scores))  <span style=\"color: #7f7f7f; text-decoration-color: #7f7f7f\"># team positions</span>                                            <span style=\"color: #800000; text-decoration-color: #800000\">│</span>\n",
       "<span style=\"color: #800000; text-decoration-color: #800000\">╰──────────────────────────────────────────────────────────────────────────────────────────────────╯</span>\n",
       "<span style=\"color: #ff0000; text-decoration-color: #ff0000; font-weight: bold\">NameError: </span>name <span style=\"color: #008000; text-decoration-color: #008000\">'team_scores'</span> is not defined\n",
       "</pre>\n"
      ],
      "text/plain": [
       "\u001b[31m╭─\u001b[0m\u001b[31m──────────────────────────────\u001b[0m\u001b[31m \u001b[0m\u001b[1;31mTraceback \u001b[0m\u001b[1;2;31m(most recent call last)\u001b[0m\u001b[31m \u001b[0m\u001b[31m───────────────────────────────\u001b[0m\u001b[31m─╮\u001b[0m\n",
       "\u001b[31m│\u001b[0m in <module>:5                                                                                    \u001b[31m│\u001b[0m\n",
       "\u001b[31m│\u001b[0m                                                                                                  \u001b[31m│\u001b[0m\n",
       "\u001b[31m│\u001b[0m   \u001b[2m 2 \u001b[0m\u001b[94mimport\u001b[0m\u001b[90m \u001b[0m\u001b[4;96mnumpy\u001b[0m\u001b[90m \u001b[0m\u001b[94mas\u001b[0m\u001b[90m \u001b[0m\u001b[4;96mnp\u001b[0m                                                                          \u001b[31m│\u001b[0m\n",
       "\u001b[31m│\u001b[0m   \u001b[2m 3 \u001b[0m                                                                                            \u001b[31m│\u001b[0m\n",
       "\u001b[31m│\u001b[0m   \u001b[2m 4 \u001b[0m\u001b[2m# Group by team, take mean across all gameweeks\u001b[0m                                             \u001b[31m│\u001b[0m\n",
       "\u001b[31m│\u001b[0m \u001b[31m❱ \u001b[0m 5 avg_scores = \u001b[1;4mteam_scores\u001b[0m.groupby(\u001b[33m\"\u001b[0m\u001b[33mteam_id\u001b[0m\u001b[33m\"\u001b[0m)[[\u001b[33m\"\u001b[0m\u001b[33mteam_a_score\u001b[0m\u001b[33m\"\u001b[0m, \u001b[33m\"\u001b[0m\u001b[33mteam_h_score\u001b[0m\u001b[33m\"\u001b[0m]].mean()        \u001b[31m│\u001b[0m\n",
       "\u001b[31m│\u001b[0m   \u001b[2m 6 \u001b[0m                                                                                            \u001b[31m│\u001b[0m\n",
       "\u001b[31m│\u001b[0m   \u001b[2m 7 \u001b[0m\u001b[2m# Plot\u001b[0m                                                                                      \u001b[31m│\u001b[0m\n",
       "\u001b[31m│\u001b[0m   \u001b[2m 8 \u001b[0mx = np.arange(\u001b[96mlen\u001b[0m(avg_scores))  \u001b[2m# team positions\u001b[0m                                            \u001b[31m│\u001b[0m\n",
       "\u001b[31m╰──────────────────────────────────────────────────────────────────────────────────────────────────╯\u001b[0m\n",
       "\u001b[1;91mNameError: \u001b[0mname \u001b[32m'team_scores'\u001b[0m is not defined\n"
      ]
     },
     "metadata": {},
     "output_type": "display_data"
    }
   ],
   "source": [
    "import matplotlib.pyplot as plt\n",
    "import numpy as np\n",
    "\n",
    "# Group by team, take mean across all gameweeks\n",
    "avg_scores = team_scores.groupby(\"team_id\")[[\"team_a_score\", \"team_h_score\"]].mean()\n",
    "\n",
    "# Plot\n",
    "x = np.arange(len(avg_scores))  # team positions\n",
    "width = 0.35\n",
    "\n",
    "fig, ax = plt.subplots(figsize=(12,6))\n",
    "ax.bar(x - width/2, avg_scores[\"team_a_score\"], width, label=\"Away Score\")\n",
    "ax.bar(x + width/2, avg_scores[\"team_h_score\"], width, label=\"Home Score\")\n",
    "\n",
    "ax.set_xticks(x)\n",
    "ax.set_xticklabels(avg_scores.index, rotation=90)\n",
    "ax.set_ylabel(\"Average Score\")\n",
    "ax.set_title(\"Average Home vs Away Scores by Team\")\n",
    "ax.legend()\n",
    "\n",
    "plt.tight_layout()\n",
    "plt.show()\n"
   ]
  },
  {
   "cell_type": "code",
   "execution_count": 85,
   "id": "aedb086d",
   "metadata": {},
   "outputs": [],
   "source": [
    "p_hist['form'] = p_hist['form'].astype(float)\n",
    "\n",
    "p_hist_r5 = p_hist[p_hist['round']==5]\n",
    "p_hist_r6 = p_hist[p_hist['round']==6]\n",
    "p_hist_r6 = p_hist_r6[p_hist_r6['player_name']!='Ryan McAidoo']"
   ]
  },
  {
   "cell_type": "code",
   "execution_count": 86,
   "id": "51bd7aa6",
   "metadata": {},
   "outputs": [
    {
     "data": {
      "text/html": [
       "<pre style=\"white-space:pre;overflow-x:auto;line-height:normal;font-family:Menlo,'DejaVu Sans Mono',consolas,'Courier New',monospace\"></pre>\n"
      ],
      "text/plain": []
     },
     "metadata": {},
     "output_type": "display_data"
    },
    {
     "data": {
      "text/plain": [
       "\n",
       "\u001b[1;35marray\u001b[0m\u001b[1m(\u001b[0m\u001b[1m[\u001b[0m\u001b[1m[\u001b[0m\u001b[1;36m1\u001b[0m.        , \u001b[1;36m0.74140228\u001b[0m\u001b[1m]\u001b[0m,\n",
       "       \u001b[1m[\u001b[0m\u001b[1;36m0.74140228\u001b[0m, \u001b[1;36m1\u001b[0m.        \u001b[1m]\u001b[0m\u001b[1m]\u001b[0m\u001b[1m)\u001b[0m"
      ]
     },
     "execution_count": 86,
     "metadata": {},
     "output_type": "execute_result"
    }
   ],
   "source": [
    "import numpy as np \n",
    "\n",
    "np.corrcoef(p_hist_r5['form'].values, p_hist_r6['round_points'].values)"
   ]
  },
  {
   "cell_type": "code",
   "execution_count": 87,
   "id": "d80f22f3",
   "metadata": {},
   "outputs": [],
   "source": [
    "import pandas as pd\n",
    "pd.set_option(\"display.max_columns\", None)\n",
    "pd.reset_option(\"display.max_rows\")\n"
   ]
  },
  {
   "cell_type": "code",
   "execution_count": 92,
   "id": "265d9f6a",
   "metadata": {},
   "outputs": [
    {
     "data": {
      "text/html": [
       "<pre style=\"white-space:pre;overflow-x:auto;line-height:normal;font-family:Menlo,'DejaVu Sans Mono',consolas,'Courier New',monospace\"></pre>\n"
      ],
      "text/plain": []
     },
     "metadata": {},
     "output_type": "display_data"
    },
    {
     "data": {
      "text/plain": [
       "\n",
       "\u001b[1;35mIndex\u001b[0m\u001b[1m(\u001b[0m\u001b[1m[\u001b[0m\u001b[32m'player_name'\u001b[0m, \u001b[32m'round_points'\u001b[0m, \u001b[32m'opponent_team_id'\u001b[0m, \u001b[32m'opponent_team'\u001b[0m,\n",
       "       \u001b[32m'was_home'\u001b[0m, \u001b[32m'team_a_score'\u001b[0m, \u001b[32m'team_h_score'\u001b[0m, \u001b[32m'round'\u001b[0m, \u001b[32m'round_minutes'\u001b[0m,\n",
       "       \u001b[32m'transfer_cost'\u001b[0m, \u001b[32m'transfers_balance'\u001b[0m, \u001b[32m'selected'\u001b[0m, \u001b[32m'transfers_in'\u001b[0m,\n",
       "       \u001b[32m'transfers_out'\u001b[0m, \u001b[32m'player_id'\u001b[0m, \u001b[32m'team_id'\u001b[0m, \u001b[32m'position_id'\u001b[0m,\n",
       "       \u001b[32m'chance_of_playing_next_round'\u001b[0m, \u001b[32m'form'\u001b[0m, \u001b[32m'web_name'\u001b[0m, \u001b[32m'first_name'\u001b[0m,\n",
       "       \u001b[32m'second_name'\u001b[0m, \u001b[32m'now_cost'\u001b[0m, \u001b[32m'points_per_game'\u001b[0m, \u001b[32m'selected_by_percent'\u001b[0m,\n",
       "       \u001b[32m'total_points'\u001b[0m, \u001b[32m'total_minutes'\u001b[0m, \u001b[32m'players_team'\u001b[0m,\n",
       "       \u001b[32m'players_team_strength'\u001b[0m, \u001b[32m'players_team_strength_home'\u001b[0m,\n",
       "       \u001b[32m'players_team_strength_away'\u001b[0m, \u001b[32m'opponent_team_strength'\u001b[0m,\n",
       "       \u001b[32m'opponent_team_strength_home'\u001b[0m, \u001b[32m'opponent_team_strength_away'\u001b[0m,\n",
       "       \u001b[32m'position_name'\u001b[0m, \u001b[32m'position_name_abbr'\u001b[0m\u001b[1m]\u001b[0m,\n",
       "      \u001b[33mdtype\u001b[0m=\u001b[32m'object'\u001b[0m\u001b[1m)\u001b[0m"
      ]
     },
     "execution_count": 92,
     "metadata": {},
     "output_type": "execute_result"
    }
   ],
   "source": [
    "p_hist_r5.columns\n"
   ]
  },
  {
   "cell_type": "code",
   "execution_count": null,
   "id": "d224cd4d",
   "metadata": {},
   "outputs": [],
   "source": [
    "num_features = [\n",
    "    'form',\n",
    "    'selected_by_percent'\n",
    "]\n",
    "cat_features = [\n",
    "    'players_team_strength',\n",
    "    'opponent_team_strength',\n",
    "    \n",
    "    ]"
   ]
  },
  {
   "cell_type": "code",
   "execution_count": 89,
   "id": "7a00e482",
   "metadata": {},
   "outputs": [],
   "source": [
    "X = p_hist_r5[num_features+cat_features]\n",
    "y = p_hist_r6['round_points']\n",
    "y = y"
   ]
  },
  {
   "cell_type": "code",
   "execution_count": 91,
   "id": "1431aa45",
   "metadata": {},
   "outputs": [
    {
     "name": "stdout",
     "output_type": "stream",
     "text": [
      "\n",
      "Linear Regression results:\n",
      "MAE - Train (per fold): [0.34507875 0.37380825 0.31683801 0.29633605 0.36023804]\n",
      "MAE - Test  (per fold): [0.68977219 0.54606346 0.87102813 1.04953417 0.61175032]\n",
      "MAE - Avg Train: 0.3385\n",
      "MAE - Avg Test : 0.7536\n",
      "\n",
      "RMSE - Train (per fold): [0.8405666  0.9747737  0.91176412 0.66359131 0.87230109]\n",
      "RMSE - Test  (per fold): [1.52623243 1.25592012 1.72317444 2.32435076 1.46758853]\n",
      "RMSE - Avg Train: 0.8526\n",
      "RMSE - Avg Test : 1.6595\n",
      "\n",
      "R2 - Train (per fold): [0.86964614 0.8349138  0.83167521 0.9050149  0.85132986]\n",
      "R2 - Test  (per fold): [0.44546649 0.42204829 0.50725249 0.25606837 0.60053186]\n",
      "R2 - Avg Train: 0.8585\n",
      "R2 - Avg Test : 0.4463\n",
      "\n",
      "MAPE - Train (per fold): [1.41396716e+14 1.32794312e+14 1.00952087e+14 1.36338922e+14\n",
      " 1.53394823e+14]\n",
      "MAPE - Test  (per fold): [2.44463030e+14 2.98340701e+14 4.87673175e+14 6.14285040e+14\n",
      " 3.79592535e+14]\n",
      "MAPE - Avg Train: 132975372048813.2500\n",
      "MAPE - Avg Test : 404870896372735.4375\n",
      "\n",
      "\n",
      "Dummy Regressor results:\n",
      "MAE - Train (per fold): [1.4644186  1.51465808 1.34717289 1.34546664 1.4361821 ]\n",
      "MAE - Test  (per fold): [1.31481272 1.25716695 1.53941252 1.56761314 1.45196208]\n",
      "MAE - Avg Train: 1.4216\n",
      "MAE - Avg Test : 1.4262\n",
      "\n",
      "RMSE - Train (per fold): [2.3281458  2.39910035 2.22232954 2.15314335 2.2623226 ]\n",
      "RMSE - Test  (per fold): [2.05286355 1.70055729 2.48178421 2.7141093  2.32800095]\n",
      "RMSE - Avg Train: 2.2730\n",
      "RMSE - Avg Test : 2.2555\n",
      "\n",
      "R2 - Train (per fold): [0. 0. 0. 0. 0.]\n",
      "R2 - Test  (per fold): [-0.00324408 -0.05961977 -0.02210141 -0.01434188 -0.00517074]\n",
      "R2 - Avg Train: 0.0000\n",
      "R2 - Avg Test : -0.0209\n",
      "\n",
      "MAPE - Train (per fold): [3.09709857e+15 3.22800087e+15 2.91882497e+15 2.89422255e+15\n",
      " 3.06601683e+15]\n",
      "MAPE - Test  (per fold): [3.14544330e+15 3.39786647e+15 2.54932352e+15 2.76258819e+15\n",
      " 3.40464004e+15]\n",
      "MAPE - Avg Train: 3040832756831866.5000\n",
      "MAPE - Avg Test : 3051972301740276.0000\n",
      "\n"
     ]
    }
   ],
   "source": [
    "import pandas as pd\n",
    "import numpy as np\n",
    "\n",
    "from sklearn.compose import ColumnTransformer\n",
    "from sklearn.pipeline import Pipeline\n",
    "from sklearn.preprocessing import StandardScaler, OneHotEncoder\n",
    "from sklearn.linear_model import LinearRegression\n",
    "from sklearn.dummy import DummyRegressor\n",
    "from sklearn.model_selection import cross_validate, KFold\n",
    "from sklearn.compose import ColumnTransformer, TransformedTargetRegressor\n",
    "from sklearn.pipeline import Pipeline\n",
    "from sklearn.preprocessing import PowerTransformer, OneHotEncoder, StandardScaler\n",
    "from sklearn.linear_model import LinearRegression\n",
    "from sklearn.ensemble import RandomForestRegressor\n",
    "\n",
    "# Preprocessing\n",
    "preprocessor = ColumnTransformer(\n",
    "    transformers=[\n",
    "        (\"num\", StandardScaler(), num_features),\n",
    "        (\"cat\", OneHotEncoder(handle_unknown=\"ignore\"), cat_features)\n",
    "    ]\n",
    ")\n",
    "\n",
    "# Models\n",
    "linreg = Pipeline(steps=[\n",
    "    (\"preprocessor\", preprocessor),\n",
    "    (\"regressor\", TransformedTargetRegressor(\n",
    "        regressor=RandomForestRegressor(),\n",
    "        transformer=PowerTransformer(method=\"yeo-johnson\")\n",
    "    ))\n",
    "])\n",
    "dummy = Pipeline(steps=[\n",
    "    (\"preprocessor\", preprocessor),\n",
    "    (\"regressor\", DummyRegressor(strategy=\"mean\"))\n",
    "])\n",
    "\n",
    "# Cross-validation\n",
    "cv = KFold(n_splits=5, shuffle=True, random_state=42)\n",
    "\n",
    "# Metrics we want\n",
    "scoring = {\n",
    "    \"MAE\": \"neg_mean_absolute_error\",\n",
    "    \"RMSE\": \"neg_root_mean_squared_error\",\n",
    "    \"R2\": \"r2\",\n",
    "    \"MAPE\": \"neg_mean_absolute_percentage_error\"\n",
    "}\n",
    "\n",
    "def evaluate(model, name):\n",
    "    results = cross_validate(\n",
    "        model, X, y,\n",
    "        cv=cv,\n",
    "        scoring=scoring,\n",
    "        return_train_score=True\n",
    "    )\n",
    "\n",
    "    print(f\"\\n{name} results:\")\n",
    "    for metric in scoring.keys():\n",
    "        train_scores = results[f\"train_{metric}\"]\n",
    "        test_scores = results[f\"test_{metric}\"]\n",
    "\n",
    "        # Convert negatives back for MAE, RMSE, MAPE\n",
    "        if metric in [\"MAE\", \"RMSE\", \"MAPE\"]:\n",
    "            train_scores = -train_scores\n",
    "            test_scores = -test_scores\n",
    "\n",
    "        print(f\"{metric} - Train (per fold): {train_scores}\")\n",
    "        print(f\"{metric} - Test  (per fold): {test_scores}\")\n",
    "        print(f\"{metric} - Avg Train: {train_scores.mean():.4f}\")\n",
    "        print(f\"{metric} - Avg Test : {test_scores.mean():.4f}\\n\")\n",
    "\n",
    "    return results\n",
    "\n",
    "linreg_results = evaluate(linreg, \"Linear Regression\")\n",
    "dummy_results = evaluate(dummy, \"Dummy Regressor\")\n"
   ]
  },
  {
   "cell_type": "code",
   "execution_count": null,
   "id": "7ce45f4a",
   "metadata": {},
   "outputs": [],
   "source": []
  },
  {
   "cell_type": "code",
   "execution_count": null,
   "id": "08934251",
   "metadata": {},
   "outputs": [],
   "source": []
  }
 ],
 "metadata": {
  "kernelspec": {
   "display_name": ".venv",
   "language": "python",
   "name": "python3"
  },
  "language_info": {
   "codemirror_mode": {
    "name": "ipython",
    "version": 3
   },
   "file_extension": ".py",
   "mimetype": "text/x-python",
   "name": "python",
   "nbconvert_exporter": "python",
   "pygments_lexer": "ipython3",
   "version": "3.12.11"
  }
 },
 "nbformat": 4,
 "nbformat_minor": 5
}
